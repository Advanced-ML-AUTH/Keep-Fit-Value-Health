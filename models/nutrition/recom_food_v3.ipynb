{
 "cells": [
  {
   "cell_type": "markdown",
   "id": "b013c2e2",
   "metadata": {},
   "source": [
    "We consider that a serving is 100gr\n",
    "\n",
    "Calorie level ranges: <br>\n",
    "Ages 9 through 13,Females: 1,400-2,200 calories; Males: 1,600-2,600 calories<br>\n",
    "Ages 14 through 18, Females: 1,800-2,400 calories; Males: 2,000-3,200 calories <br>\n",
    "Ages 19 through 30, Females: 1,800-2,400 calories; Males: 2,400-3,000 calories. <br>\n",
    "Ages 31 through 59, Females: 1,600-2,200 calories; Males 2,200-3,000 calories<br>"
   ]
  },
  {
   "cell_type": "code",
   "execution_count": 1,
   "id": "ee5ddefe",
   "metadata": {},
   "outputs": [],
   "source": [
    "age = 24\n",
    "sex = 'female'\n",
    "cooked_vegetables = False\n",
    "meat_poultry_raw = True\n",
    "drinks_calories = 500"
   ]
  },
  {
   "cell_type": "markdown",
   "id": "3485bedf",
   "metadata": {},
   "source": [
    "## 1. Grains\n",
    "\n",
    "The number of grains and grain foods that you should consume depends on several factors including your age, sex, and level of physical activity. The U.S. Department of Agriculture (USDA) provides specific guidelines (https://www.dietaryguidelines.gov/sites/default/files/2020-12/Dietary_Guidelines_for_Americans_2020-2025.pdf)\n",
    "\n",
    "Grain Intake Recommendations <br>\n",
    "Children, ages 2-8\t3-5 ounce equivalents <br>\n",
    "Girls, ages 9-18\t5-6 ounce equivalents <br>\n",
    "Boys, ages 9-18\t6-8 ounce equivalents<br>\n",
    "Women, ages 19+\t5-6 ounce equivalents<br>\n",
    "Men, ages 19+\t6-8 ounce equivalents<br>"
   ]
  },
  {
   "cell_type": "code",
   "execution_count": 2,
   "id": "666b58d1",
   "metadata": {},
   "outputs": [],
   "source": [
    "# Determine the appropriate threshold for daily grains product consumption based on age\n",
    "if sex == 'female':\n",
    "    threshold_grains = 1.7  # 170gr /day\n",
    "else:\n",
    "    threshold_grains = 2.25  # 225 gr /day"
   ]
  },
  {
   "cell_type": "markdown",
   "id": "f55f9ebe",
   "metadata": {},
   "source": [
    "The USDA’s 2020-2025 Dietary Guidelines for Americans suggest that at least half of our total grains should come from whole grains and that refined grains should be enriched. So if you consume six ounce-equivalents of grains each day, three of them should be from whole-grain foods."
   ]
  },
  {
   "cell_type": "markdown",
   "id": "72b4bcad",
   "metadata": {},
   "source": [
    "## 2. Fruits\n",
    "\n",
    "Experts recommend eating 1.5 to 2 cups of fruit each day. Only 13% of Americans consume the daily recommended amount of fruit.\n",
    "Fruits, especially whole fruit\n",
    "\n",
    "1 cup= 128 g\n",
    "\n",
    "Fruit Intake Recommendations <br>\n",
    "\n",
    "Toddlers &emsp; \t12 to 23 months\t½ to 1 cup <br>\n",
    "Children &emsp; \t2-3 yrs\t1 to 1½ cups<br>\n",
    "&emsp; &emsp; &emsp; 4-8 yrs\t1 to 2 cups<br>\n",
    "Girls\t&emsp; 9-13 yrs\t1½ to 2 cups<br>\n",
    "&emsp; &emsp; &emsp; 14-18 yrs\t1½ to 2 cups<br>\n",
    "Boys\t&emsp; 9-13 yrs\t1½ to 2 cups<br>\n",
    "&emsp; &emsp; &emsp; 14-18 yrs\t2 to 2½ cups<br>\n",
    "Women&emsp; \t19-30 yrs\t1½ to 2 cups<br>\n",
    "&emsp; &emsp; &emsp; 31-59 yrs\t1½ to 2 cups<br>\n",
    "&emsp; &emsp; &emsp; 60+ yrs\t1½ to 2 cups<br>\n",
    "Men\t&emsp;  19-30 yrs\t2 to 2½ cups<br>\n",
    "&emsp; &emsp; &emsp; 31-59 yrs\t2 to 2½ cups<br>\n",
    "&emsp; &emsp; &emsp; 60+ yrs\t2 cups<br>\n",
    "\n",
    "https://www.myplate.gov/eat-healthy/fruits"
   ]
  },
  {
   "cell_type": "code",
   "execution_count": 3,
   "id": "ab50e8fb",
   "metadata": {},
   "outputs": [],
   "source": [
    "# Determine the appropriate threshold for daily fruit product consumption\n",
    "if age < 19:\n",
    "    threshold_fruits = 2.5  # 250gr /day\n",
    "elif age >= 19 and sex == 'female':\n",
    "    threshold_fruits = 2.5  # 250 gr /day     \n",
    "elif 19 <= age < 60 and sex == 'male':\n",
    "    threshold_fruits = 3.2  # 320 gr /day\n",
    "else:\n",
    "    threshold_fruits = 2.5\n",
    "    \n",
    "# Toddlers and children of 2-3 years old are not taken into account, since they should not be able to use the app"
   ]
  },
  {
   "cell_type": "markdown",
   "id": "201b251f",
   "metadata": {},
   "source": [
    "Is It Possible to Eat Too Much Fruit?\n",
    "\n",
    "It’s been established that fruit is good for you, but can “too much” be harmful? First of all, when eating whole fruit, it’s rather difficult to eat too much. This is because fruits are very high in water and fiber, which makes them incredibly filling — to the point where you will likely feel full after just one piece.\n",
    "In one study (https://pubmed.ncbi.nlm.nih.gov/11288049/), 10 people ate 20 servings of fruit per day for two weeks and experienced no adverse effects.\n",
    "In a slightly larger study (https://pubmed.ncbi.nlm.nih.gov/5573330/), 17 people ate 20 servings of fruit per day for several months with no adverse effects.\n",
    "In fact, researchers even found possible health benefits. Although these studies are small, they provide reason to believe that fruit is safe to eat in any amount.\n",
    "Nevertheless, it’s important to note that fruit should ideally be consumed as part of a well-balanced diet that includes a variety of other whole foods."
   ]
  },
  {
   "cell_type": "markdown",
   "id": "aa3ae0b9",
   "metadata": {},
   "source": [
    "## 3. Dairy \n",
    "\n",
    "How much food from the Dairy Group is needed daily?\n",
    "Your dairy needs depends on your age, sex, height, weight, and physical activity level. The amount can also depend on whether you are pregnant or breastfeeding. Most people would benefit from getting more fat-free or low-fat dairy. This can come from milk, yogurt, or cheese. It can also come from lactose-free milk and fortified soy milk or yogurt."
   ]
  },
  {
   "cell_type": "markdown",
   "id": "80249a59",
   "metadata": {},
   "source": [
    "Dairy Intake Recommendations <br>\n",
    "\n",
    "Girls\t&emsp; 9-13 yrs\t3 cups<br>\n",
    "&emsp;&emsp;&emsp;        14-18 yrs\t3 cups<br>\n",
    "Boys&emsp;\t9-13 yrs\t3 cups<br>\n",
    "&emsp;  &emsp;&emsp;      14-18 yrs\t3 cups<br>\n",
    "Women&emsp;\t19-30 yrs\t3 cups<br>\n",
    "&emsp;&emsp;&emsp;        31-59 yrs\t3 cups<br>\n",
    "&emsp;&emsp;&emsp;        60+ yrs     3 cups<br>\n",
    "Men\t &emsp;   19-30 yrs\t3 cups<br>\n",
    "&emsp;&emsp;&emsp;        31-59 yrs\t3 cups<br>\n",
    "&emsp;&emsp;&emsp;        60+ yrs\t    3 cups<br>\n",
    "\n",
    "What counts as a cup in the Dairy Group?\n",
    "In general, the following counts as 1 cup from the Dairy Group:\n",
    "\n",
    "1 cup of milk, yogurt, or soy milk <br>\n",
    "1 ½ ounces of natural cheese<br>\n",
    "<br>\n",
    "https://www.myplate.gov/eat-healthy/dairy\n",
    "\n",
    "3 cups = 3 * 128 = 384gr -> peripou 4 servings of 100gr each"
   ]
  },
  {
   "cell_type": "code",
   "execution_count": 4,
   "id": "07ef11aa",
   "metadata": {},
   "outputs": [],
   "source": [
    "threshold_dairy = 4"
   ]
  },
  {
   "cell_type": "markdown",
   "id": "f9932b19",
   "metadata": {},
   "source": [
    "Dairy foods offer important nutrition for you and\n",
    "your family. Choose low-fat or fat-free dairy foods\n",
    "to get the calcium and vitamin D your body needs\n",
    "for strong teeth and bones. If you can’t drink milk,\n",
    "try calcium-fortified soymilk (soy beverage), low-fat\n",
    "yogurt, cheese, or calcium-enriched foods. (https://snaped.fns.usda.gov/sites/default/files/documents/familymeals_getyourdairy.pdf)"
   ]
  },
  {
   "cell_type": "markdown",
   "id": "4f5cdebe",
   "metadata": {},
   "source": [
    "## 4. Vegetables\n",
    "\n",
    "Any vegetable or 100% vegetable juice counts as part of the Vegetable Group. Vegetables may be raw or cooked and can be fresh, frozen, canned, or dried. They can be whole, cut-up, or mashed.\n",
    "\n",
    "The following examples count as 1 cup from the Vegetables Group:\n",
    "\n",
    "1 cup of raw or cooked vegetables or vegetable juice<br>\n",
    "2 cups of raw leafy salad greens<br>\n",
    "\n",
    "Girls &emsp;\t9-13 yrs\t1½ to 3 cups<br>\n",
    " &emsp; &emsp; &emsp;14-18 yrs\t2½ to 3 cups<br>\n",
    "Boys &emsp;\t9-13 yrs\t2 to 3½ cups<br>\n",
    " &emsp; &emsp; &emsp;14-18 yrs\t2½ to 4 cups<br>\n",
    "Women &emsp;\t19-30 yrs\t2½ to 3 cups<br>\n",
    " &emsp; &emsp; &emsp;31-59 yrs\t2 to 3 cups<br>\n",
    " &emsp; &emsp; &emsp;60+ yrs\t2 to 3 cups<br>\n",
    "Men &emsp;\t19-30 yrs\t3 to 4 cups<br>\n",
    " &emsp; &emsp; &emsp;31-59 yrs\t3 to 4 cups<br>\n",
    " &emsp; &emsp; &emsp;60+ yrs\t2½ to 3½ cups<br>\n",
    " \n",
    " https://www.myplate.gov/eat-healthy/vegetables\n",
    " \n",
    " Vegetables (cup eq/day) 2 ½ (https://www.dietaryguidelines.gov/sites/default/files/2020-12/Dietary_Guidelines_for_Americans_2020-2025.pdf)\n",
    " 2.5*128 = 320gr -> 3.2 servings"
   ]
  },
  {
   "cell_type": "code",
   "execution_count": 5,
   "id": "113af623",
   "metadata": {},
   "outputs": [],
   "source": [
    "# Determine the appropriate threshold for daily vegetables product consumption based on age\n",
    "if cooked_vegetables:\n",
    "    if sex == 'female':\n",
    "        threshold_vegetables = 4  # 4 servings of 100gr each\n",
    "    else: #male\n",
    "        if age < 14 or age >= 60:\n",
    "            threshold_vegetables = 4.5 # 4.5 servings of 100gr each\n",
    "        elif 14 <= age <= 59:\n",
    "            threshold_vegetables = 5 # 5 servings of 100gr each\n",
    "else: # raw leafy salad greens            \n",
    "    if sex == 'female':\n",
    "        threshold_vegetables = 8  # 8 servings of 100gr each\n",
    "    else: #male\n",
    "        if age < 14 or age >= 60:\n",
    "            threshold_vegetables = 9 # 9 servings of 100gr each\n",
    "        elif 14 <= age <= 59:\n",
    "            threshold_vegetables = 10 # 10 servings of 100gr each            "
   ]
  },
  {
   "cell_type": "markdown",
   "id": "d8ce03f9",
   "metadata": {},
   "source": [
    "Eating vegetables provides health benefits. People who eat fruits and vegetables as part of an overall healthy diet are likely to have a reduced risk of some diseases. Vegetables provide nutrients vital for the health and maintenance of the body.\n",
    "\n",
    "The recommended daily amount of vegetables for girls in this age group is at least two cups. For boys, the recommendation is at least two and a half cups. Teenage girls should eat at least two and a half cups of vegetables every day. Teenage boys should eat at least three cups of vegetables daily.For people ages 19 to 30, the recommended daily amount of vegetables is the same as for teens: at least three cups a day for men and at least two and a half cups for women. Those who exercise for at least a half hour every day should include even more vegetables in their diets. As with younger people, the amount of vegetables you should aim for if you're a woman is at least two and a half cups each day, and at least three cups if you're a man. Shoot for even more if you work out or are physically active for a half hour or more each day. Continue to stick with raw or healthfully prepared veggies.  Because the body's metabolism tends to slow with age, people 51 and older are advised to cut calories in general to prevent weight gain. This rule applies to calories from vegetables as well. Women 51 and older should dial back to around two cups of vegetables per day; men of the same age should get around two and a half cups. "
   ]
  },
  {
   "cell_type": "markdown",
   "id": "ae6c0296",
   "metadata": {},
   "source": [
    "## 5. Meat and Poultry\n",
    "\n",
    "A standard serve of meat or poultry is:\n",
    "65 grams cooked lean red meat such as beef, lamb, veal, pork, goat or kangaroo (around 90–100 grams raw) <br>\n",
    "80 grams cooked lean poultry such as chicken or turkey (around 100 grams raw).\n",
    "The Guidelines recommend that you eat 1-3 serves of foods from this food group a day, depending on your age.  During pregnancy, 3-4 serves a day are recommended.\n",
    "\n",
    "From https://www.dietaryguidelines.gov/sites/default/files/2020-12/Dietary_Guidelines_for_Americans_2020-2025.pdf\n",
    "Specifically, the U.S. Department of Agriculture recommends consuming no more than an average of 1.8 ounces of red meat and 1.5 ounces of poultry, based on a 2,000-calorie diet. (does not specify raw or cooked, I am guessing raw)\n",
    "3.3 (ounce eq/day) * 28.34 = 94 gr (total)\n",
    "\n",
    "Evidence statement Grade<br>\n",
    "Consumption of greater than 100–120 g/day red meat per day is associated with an increased risk of colorectal cancer. B<br>\n",
    "Consumption of red meat is associated with increased risk of renal cancer. C<br>\n",
    "Notes: Grades – A: convincing association, B: probable association, C: suggestive association<br>\n",
    "\n",
    "\n",
    "The Choose MyPlate nutrition guidelines indicate that daily meat consumption should not exceed 142-170 grams (5-6 ounces) of meat per day.\n",
    "\n",
    "The United Kingdom National Health Service agrees that meat is an excellent source of protein, vitamins, and minerals in the human diet. However, the same organization warns, “if you currently eat more than 90 g [3.2 oz.] (cooked weight) of red or processed meat a day, the Department of Health and Social Care advises that you cut down to 70 g [2.5 oz.].”\n",
    "\n",
    "The World Cancer Research Fund also recognizes that red meat is an excellent source of protein, iron, and other micronutrients. However, the organization advises that the recommended dietary goal is to limit “consumption to no more than about three portions per week.” This “is equivalent to about 350–500 g (about 12–18 oz.) cooked weight.”"
   ]
  },
  {
   "cell_type": "code",
   "execution_count": 6,
   "id": "36871a44",
   "metadata": {},
   "outputs": [],
   "source": [
    "threshold_meat_poultry = 1.7 "
   ]
  },
  {
   "cell_type": "markdown",
   "id": "1e36081c",
   "metadata": {},
   "source": [
    "Some meats are high in saturated fat, which can raise blood cholesterol levels if you eat too much of it. Making healthier choices can help you eat meat as part of a balanced diet. If you eat a lot of red or processed meat, it's recommended that you cut down. A healthy balanced diet can include protein from meat, as well as from fish and eggs or non-animal sources such as beans and pulses."
   ]
  },
  {
   "cell_type": "markdown",
   "id": "2eb1b0b6",
   "metadata": {},
   "source": [
    "## 6. Fish and seafoods\n",
    "\n",
    "The 2015-20 Dietary Guidelines for Americans and supporting USDA MyPlate food group targets recommend that Americans eat a variety of protein foods, including at least two servings of seafood per week, as part of a healthy eating pattern low in added sugars, saturated fats, and sodium. For an average 2,000-calorie-per-day diet, that advice translates into at least 8 ounces of fish and shellfish per week, or about 20 percent of total consumption from the protein foods group (meat, poultry, seafood, eggs, legumes, nuts, seeds, and soy foods).\n",
    "The Dietary Guidelines for Americans recommends:\n",
    "\n",
    "At least 8 ounces of seafood (less for children§) per week based on a 2,000 calorie diet. (https://www.fda.gov/food/consumers/advice-about-eating-fish)\n",
    "\n",
    "Serving size = 4 ounces (113 grams) before cooking based on the FDA reference amounts customarily consumed per eating occasion (RACC) for fish and shellfish without sauce in 21 CFR 101.12[1].  The RACC for this category of food is 85 g for cooked fish and 110 g for raw fish. RACCs  are used as the basis for nutrient declarations on Nutrition Facts labels on food packages. \n",
    "Serving size is also consistent with the recommendation of 8-12 ounces of a variety of seafood per week from choices lower in methyl mercury found in the Dietary Guidelines for Americans 2015 and USDA’s. This is equivalent to 2-3 four-ounce servings per week. (https://19january2021snapshot.epa.gov/fish-tech/epa-fda-fish-advice-technical-information_.html)\n",
    "\n",
    "Fish is a good source of protein  and, unlike fatty meat products, it's not high in saturated fat . Regularly eating fish and seafood is consistently associated with lower risk for cardiovascular disease. Fatty fish is also a good source of omega-3 fatty acids, which are good for your heart. Research has shown that omega-3 fatty acids can reduce your risk of heart disease and stroke.\n",
    "\n",
    "\n",
    "12 ounce -> 12*28.34 = 340gr -> 3.4 servings of 100gr per week -> 50 gr per day -> 0.5 servings of 100gr per day"
   ]
  },
  {
   "cell_type": "code",
   "execution_count": 7,
   "id": "1f950eab",
   "metadata": {},
   "outputs": [],
   "source": [
    "threshold_fish = 0.5  # 0.5 serving of 100 gr  "
   ]
  },
  {
   "cell_type": "markdown",
   "id": "ed7f1b89",
   "metadata": {},
   "source": [
    "## 7. Fats, Oils, Shortenings\n",
    "\n",
    "### Oils\n",
    "\n",
    "From 2020-2025 Dietary Guidelines for Americans for Healthy U.S.-Style Dietary Pattern at the 2,000-Calorie Level: Oils (grams/day) 27 \n",
    "\n",
    "female 9-13 -> avg 1600 calories -> 24gr<br>\n",
    "female 14-18 -> avg 2000 calories -> 27gr<br>\n",
    "female 19-30 -> avg 2000 calories -> 27gr<br>\n",
    "female 31+ -> avg 1800 calories -> 24gr<br>\n",
    "\n",
    "male 9-13 -> avg 2000 calories -> 27 gr<br>\n",
    "male 14-18 -> avg 2800 calories -> 36 gr<br>\n",
    "male 19-30 -> avg 2600 calories -> 34 gr<br>\n",
    "male 31+ -> avg 2400 calories -> 31 gr<br>\n",
    "\n",
    "### Fats\n",
    "The amount of fat you should eat daily can depend on your total calorie intake. Certain fats may help support weight loss and maintenance. However, the 2020-2025 Dietary Guidelines for Americans no longer specifies an upper limit for how much total fat you should consume.\n",
    "\n",
    "Here are a few examples of suggested daily fat ranges for a Mediterranean diet, based on different calorie goals:\n",
    "\n",
    "1,500 calories: about 58–67 grams of fat per day <br>\n",
    "2,000 calories: about 78–89 grams of fat per day <br>\n",
    "2,500 calories: about 97–111 grams of fat per day<br>\n",
    "\n",
    "Total:<br>\n",
    "female 9-13 and 31+ -> 90gr per day -> 0.9 serv<br>\n",
    "male 9-13 and female 14-30 -> 115gr per day -> 1.15 serv<br>\n",
    "male 14+ -> 145 gr per day -> 1.45 serv<br>\n",
    "\n",
    "Does fats include oils? To reconsider"
   ]
  },
  {
   "cell_type": "code",
   "execution_count": 8,
   "id": "3e2c884e",
   "metadata": {},
   "outputs": [],
   "source": [
    "# Determine the appropriate threshold for daily fats, oils and shortenings product consumption\n",
    "if age <= 13 and age >30 and sex == 'female':\n",
    "    threshold_fats = 0.9  \n",
    "elif (14 <= age <=30  and sex == 'female') or (9 <= age <= 13  and sex == 'male'):\n",
    "    threshold_fats = 1.15\n",
    "elif age>14 and sex == 'male':\n",
    "    threshold_fats = 1.45  "
   ]
  },
  {
   "cell_type": "markdown",
   "id": "9dc5f802",
   "metadata": {},
   "source": [
    "## 8. Desserts\n",
    "\n",
    "https://www.hsph.harvard.edu/nutritionsource/carbohydrates/added-sugar-in-the-diet/\n",
    "For a 2,000 calorie/day diet, that translates into 200 calories or 50 grams of sugar daily (about 12 teaspoons of sugar). Toddlers and infants younger than 2 years should not be given solids or beverages with any added sugars. [https://www.cdc.gov/nutrition/data-statistics/added-sugars.html]\n",
    "\n",
    "The American Heart Association (AHA) recommends that Americans drastically cut back on added sugar to help slow the obesity and heart disease epidemics. [https://pubmed.ncbi.nlm.nih.gov/19704096/]\n",
    "\n",
    "The AHA suggests a stricter added-sugar limit of no more than 100 calories per day (about 6 teaspoons or 24 grams) for most adult women and no more than 150 calories per day (about 9 teaspoons or 36 grams of sugar) for most men.\n",
    "The AHA also recommends a lower daily limit of added sugars for children ages 2-18 to less than 6 teaspoons or 24 grams per day, and sugary beverages should be limited to no more than 8 ounces a week. [https://www.ahajournals.org/doi/full/10.1161/CIR.0000000000000439] For more info, visit Healthy kids ‘sweet enough’ without added sugars.\n",
    "\n",
    "According to the American Heart Association (AHA), the maximum amount of added sugars you should eat in a day are :\n",
    "\n",
    "Men: 150 calories per day (37.5 grams or 9 teaspoons)\n",
    "Women: 100 calories per day (25 grams or 6 teaspoons)"
   ]
  },
  {
   "cell_type": "code",
   "execution_count": 9,
   "id": "5e85427b",
   "metadata": {},
   "outputs": [],
   "source": [
    "if age <= 18:\n",
    "    threshold_sugars = 0.24 # 0.24 servings (1 serving = 100gr) \n",
    "elif sex == 'male' and age>18:\n",
    "    threshold_sugars = 0.38 # 0.36 servings (1 serving = 100gr) \n",
    "elif sex == 'female' and age>18:\n",
    "    threshold_sugars = 0.25"
   ]
  },
  {
   "cell_type": "markdown",
   "id": "e353a308",
   "metadata": {},
   "source": [
    "It’s important to be aware of how much sugar you consume because our bodies don’t need sugar to function properly. Added sugars contribute zero nutrients but many added calories that can lead to extra pounds or even obesity. That can reduce heart health.Instead of sugar in recipes, you can try things like cinnamon, nutmeg, almond extract, vanilla, ginger, or lemon."
   ]
  },
  {
   "cell_type": "markdown",
   "id": "6453a9ae",
   "metadata": {},
   "source": [
    "## 9. Drinks, Alcohol, Beverages\n",
    "\n",
    "Alcoholic beverages—Adults of legal drinking age can choose not to drink, or to drink in moderation by\n",
    "limiting intake to 2 drinks or less in a day for men and 1 drink or less in a day for women, when alcohol is\n",
    "consumed. Drinking less is better for health than drinking more. There are some adults who should not drink\n",
    "alcohol, such as women who are pregnant.\n",
    "\n",
    "When choosing beverages in a healthy dietary pattern, both the calories and nutrients that they provide are important\n",
    "considerations. Beverages that are calorie-free—especially water—or that contribute beneficial nutrients, such as\n",
    "fat-free and low-fat milk and 100% juice, should be the primary beverages consumed. Coffee, tea, and flavored\n",
    "waters also are options, but the most nutrient-dense options for these beverages include little, if any, sweeteners or\n",
    "cream.\n",
    "\n",
    "Most of the calories a person needs to eat each day—around 85 percent—are needed to meet food group\n",
    "recommendations healthfully, in nutrient-dense forms. The remaining calories—around 15 percent—are calories\n",
    "available for other uses, including for added sugars or saturated fat beyond the small amounts found in nutrientdense forms of foods and beverages within the pattern, to consume more than the recommended amount of a food\n",
    "group, or for alcoholic beverages. This equates to 250 to 350 remaining calories for calorie patterns appropriate for\n",
    "most Americans. "
   ]
  },
  {
   "cell_type": "code",
   "execution_count": 10,
   "id": "e3c3edcb",
   "metadata": {},
   "outputs": [],
   "source": [
    "threshold_drinks = 0.15    "
   ]
  },
  {
   "cell_type": "markdown",
   "id": "ad60b0a5",
   "metadata": {},
   "source": [
    "Not sure how to measure Drinks, Alcohol, Beverages. These could include water, tea, coffee, alcohol. coke and so on. Maybe combine them with dessert and get the limit from the percentage of calories."
   ]
  },
  {
   "cell_type": "markdown",
   "id": "8d83ab51",
   "metadata": {},
   "source": [
    "## Soups\n",
    "\n",
    "Not sure if we can give a threshold. Maybe general guidelines, information about different kind of soups."
   ]
  },
  {
   "cell_type": "markdown",
   "id": "571b73b0",
   "metadata": {},
   "source": [
    "https://www.healthline.com/nutrition/is-soup-healthy#healthy-soups\n",
    "\n",
    "When prepared with the right ingredients, soup can be a truly healthy dish with multiple nutritional benefits.\n",
    "For example, soups made with bone-, vegetable-, or meat-based broths provide vitamins, minerals, and nutrients, such as collagen. They also deliver great flavor while keeping added fats and calories to a minimum. Additionally, eating soup is an easy and tasty way to increase your vegetable intake. Eating soup can help you stay hydrated. Water is essential for your health, and your total water intake may come from drinking water, water in beverages, or water in food — as is the case for soup, fruits, and vegetables.\n",
    "\n",
    "Not all soups are healthy. Just as choosing nutrient-rich ingredients will lead to a healthy soup, some ingredients used to improve texture or taste may produce an unhealthy dish that you might want to eat less frequently. Some of the most popular ingredients used to thicken soups include full fat milk, heavy cream, coconut cream, cornstarch, bread, cheese, egg yolks, and roux — a mixture of butter and flour. Other types of soup you should watch out for are instant and canned soups, which are often loaded with sodium."
   ]
  },
  {
   "cell_type": "markdown",
   "id": "2052204e",
   "metadata": {},
   "source": [
    "# Recommendations"
   ]
  },
  {
   "cell_type": "code",
   "execution_count": 11,
   "id": "b9316240",
   "metadata": {},
   "outputs": [],
   "source": [
    "import pandas as pd\n",
    "import numpy as np\n",
    "from sklearn.utils import class_weight\n",
    "from sklearn.model_selection import train_test_split, learning_curve\n",
    "from sklearn.preprocessing import LabelEncoder, StandardScaler\n",
    "from sklearn.svm import LinearSVC\n",
    "from imblearn.pipeline import make_pipeline\n",
    "from imblearn.metrics import classification_report_imbalanced\n",
    "from sklearn.metrics import balanced_accuracy_score\n",
    "from imblearn.under_sampling import ClusterCentroids\n",
    "from sklearn.metrics import accuracy_score, precision_score, recall_score, f1_score\n",
    "from sklearn.utils import class_weight\n",
    "from imblearn.over_sampling import RandomOverSampler\n",
    "from imblearn.over_sampling import SMOTE\n",
    "from imblearn.under_sampling import RandomUnderSampler\n",
    "from transformers import AutoTokenizer, AutoModel\n",
    "import torch\n",
    "from sklearn.decomposition import PCA\n",
    "import matplotlib.pyplot as plt\n",
    "import warnings\n",
    "warnings.filterwarnings('ignore')"
   ]
  },
  {
   "cell_type": "markdown",
   "id": "156b834a",
   "metadata": {},
   "source": [
    "### User's nutrition input"
   ]
  },
  {
   "cell_type": "markdown",
   "id": "b3c84e69",
   "metadata": {},
   "source": [
    "Function to retrieve user's nutrition input, age and sex. User input might be for example a dataframe with 10 rows including\n",
    "all the food they gave as input. \n",
    "specifically, inputs: 0   food name,serving_size, calories, total_fat, protein, carbohydrate, fiber, sugars, age and sex"
   ]
  },
  {
   "cell_type": "code",
   "execution_count": 12,
   "id": "758a65e2",
   "metadata": {},
   "outputs": [],
   "source": [
    "def get_user_inputs():\n",
    "    age = int(input(\"Enter your age: \"))\n",
    "    sex = input(\"Enter your sex (male/female): \")\n",
    "    \n",
    "    num_food_items = int(input(\"Enter the number of different food items you ate today: \"))\n",
    "    \n",
    "    food_data = []  # List to store the food data\n",
    "    \n",
    "    for _ in range(num_food_items):\n",
    "        name = input(\"Enter the name of the food: \")\n",
    "        serving_size = float(input(\"Enter the serving size (in grams): \"))\n",
    "        calories = float(input(\"Enter the number of calories: \"))\n",
    "        total_fat = float(input(\"Enter the total fat content (in grams): \"))\n",
    "        protein = float(input(\"Enter the protein content (in grams): \"))\n",
    "        carbohydrate = float(input(\"Enter the carbohydrate content (in grams): \"))\n",
    "        fiber = float(input(\"Enter the fiber content (in grams): \"))\n",
    "        sugars = float(input(\"Enter the sugar content (in grams): \"))\n",
    "        \n",
    "        food_data.append([age, sex, name, serving_size, calories, total_fat, protein, carbohydrate, fiber, sugars])\n",
    "    \n",
    "    columns = ['age', 'sex', 'name', 'serving_size', 'calories', 'total_fat', 'protein', 'carbohydrate', 'fiber', 'sugars']\n",
    "    df = pd.DataFrame(food_data, columns=columns)\n",
    "    \n",
    "    return df"
   ]
  },
  {
   "cell_type": "markdown",
   "id": "c2ac797a",
   "metadata": {},
   "source": [
    "### Test get_user_inputs() function"
   ]
  },
  {
   "cell_type": "code",
   "execution_count": 14,
   "id": "409b48f5",
   "metadata": {},
   "outputs": [
    {
     "name": "stdout",
     "output_type": "stream",
     "text": [
      "Enter your age: 25\n",
      "Enter your sex (male/female): female\n",
      "Enter the number of different food items you ate today: 1\n",
      "Enter the name of the food: banana\n",
      "Enter the serving size (in grams): 100\n",
      "Enter the number of calories: 90\n",
      "Enter the total fat content (in grams): 0.3\n",
      "Enter the protein content (in grams): 1\n",
      "Enter the carbohydrate content (in grams): 23\n",
      "Enter the fiber content (in grams): 2.6\n",
      "Enter the sugar content (in grams): 12\n"
     ]
    }
   ],
   "source": [
    "df = get_user_inputs()\n",
    "#Bananas raw\tFruits\t100\t89\t0.3\t1.09\t22.84\t2.6\t12.23\n",
    "#tomato soup\t100.0\t35.0\t0.2\t0.70\t7.2\t0.5\t4.00\n",
    "#Candies prepared-from-recipe vanilla fudge\tDesserts\t100\t383\t5.5\t1.05\t82.15\t0\t79.77\n",
    "#Bread cheese\tBreads, cereals, fastfood,grains\t100\t408\t21\t10.42\t44.83\t2.1\t2.08"
   ]
  },
  {
   "cell_type": "code",
   "execution_count": 15,
   "id": "f855f296",
   "metadata": {},
   "outputs": [
    {
     "data": {
      "text/html": [
       "<div>\n",
       "<style scoped>\n",
       "    .dataframe tbody tr th:only-of-type {\n",
       "        vertical-align: middle;\n",
       "    }\n",
       "\n",
       "    .dataframe tbody tr th {\n",
       "        vertical-align: top;\n",
       "    }\n",
       "\n",
       "    .dataframe thead th {\n",
       "        text-align: right;\n",
       "    }\n",
       "</style>\n",
       "<table border=\"1\" class=\"dataframe\">\n",
       "  <thead>\n",
       "    <tr style=\"text-align: right;\">\n",
       "      <th></th>\n",
       "      <th>age</th>\n",
       "      <th>sex</th>\n",
       "      <th>name</th>\n",
       "      <th>serving_size</th>\n",
       "      <th>calories</th>\n",
       "      <th>total_fat</th>\n",
       "      <th>protein</th>\n",
       "      <th>carbohydrate</th>\n",
       "      <th>fiber</th>\n",
       "      <th>sugars</th>\n",
       "    </tr>\n",
       "  </thead>\n",
       "  <tbody>\n",
       "    <tr>\n",
       "      <th>0</th>\n",
       "      <td>25</td>\n",
       "      <td>female</td>\n",
       "      <td>banana</td>\n",
       "      <td>100.0</td>\n",
       "      <td>90.0</td>\n",
       "      <td>0.3</td>\n",
       "      <td>1.0</td>\n",
       "      <td>23.0</td>\n",
       "      <td>2.6</td>\n",
       "      <td>12.0</td>\n",
       "    </tr>\n",
       "  </tbody>\n",
       "</table>\n",
       "</div>"
      ],
      "text/plain": [
       "   age     sex    name  serving_size  calories  total_fat  protein  \\\n",
       "0   25  female  banana         100.0      90.0        0.3      1.0   \n",
       "\n",
       "   carbohydrate  fiber  sugars  \n",
       "0          23.0    2.6    12.0  "
      ]
     },
     "execution_count": 15,
     "metadata": {},
     "output_type": "execute_result"
    }
   ],
   "source": [
    "df"
   ]
  },
  {
   "cell_type": "markdown",
   "id": "2fcae668",
   "metadata": {},
   "source": [
    "### Machine Learning Model"
   ]
  },
  {
   "cell_type": "code",
   "execution_count": 16,
   "id": "1fc9ed0b",
   "metadata": {},
   "outputs": [],
   "source": [
    "def train_food_model():\n",
    "    df = pd.read_csv('final_food_csv_6.csv')\n",
    "    \n",
    "    # Split the dataset into features (X) and target (y)\n",
    "    X = df.drop(['Category'], axis=1)\n",
    "    y = df['Category']\n",
    "    \n",
    "    # Convert 'Category' column to numerical labels using LabelEncoder\n",
    "    label_encoder = LabelEncoder()\n",
    "    y = label_encoder.fit_transform(y)\n",
    "    \n",
    "    food_embeddings = np.load('food_embeddings_6.npy')\n",
    "    \n",
    "    numerical_columns = df[['serving_size', 'calories', 'protein', 'total_fat', 'carbohydrate', 'fiber', 'sugars']].values\n",
    "    \n",
    "    # Concatenate the embeddings and the numerical columns\n",
    "    X = np.concatenate([food_embeddings, numerical_columns], axis=1)\n",
    "    \n",
    "    scaler = StandardScaler()\n",
    "    X_scaled = scaler.fit_transform(X)\n",
    "    \n",
    "    sampler = SMOTE(random_state=42)\n",
    "    X_sampled, y_sampled = sampler.fit_resample(X_scaled, y)\n",
    "    \n",
    "    # Apply PCA for dimensionality reduction\n",
    "    pca = PCA(n_components=70)  # Set the desired number of components\n",
    "    X_sampled_pca = pca.fit_transform(X_sampled)\n",
    "    \n",
    "    X_train, X_test, y_train, y_test = train_test_split(X_sampled_pca, y_sampled, test_size=0.25, random_state=42, stratify=y_sampled)\n",
    "    \n",
    "    model = LinearSVC(C=0.1, loss='squared_hinge', penalty='l2', max_iter=10000, random_state=42)\n",
    "    model.fit(X_train, y_train)\n",
    "    \n",
    "    # Print the classification report using the best model\n",
    "    print(\"Classification report:\")\n",
    "    y_pred = model.predict(X_test)\n",
    "    class_labels = label_encoder.inverse_transform(np.unique(y))\n",
    "    print(classification_report_imbalanced(y_test, y_pred, target_names=class_labels))\n",
    "    \n",
    "    # Retrieve category labels\n",
    "    category_labels = label_encoder.classes_\n",
    "\n",
    "    \n",
    "    return model, category_labels, scaler, pca"
   ]
  },
  {
   "cell_type": "markdown",
   "id": "04f6ec71",
   "metadata": {},
   "source": [
    "### Test train_food_model() function"
   ]
  },
  {
   "cell_type": "code",
   "execution_count": 17,
   "id": "44cbe59c",
   "metadata": {},
   "outputs": [
    {
     "name": "stdout",
     "output_type": "stream",
     "text": [
      "Classification report:\n",
      "                                        pre       rec       spe        f1       geo       iba       sup\n",
      "\n",
      "Breads, cereals, fastfood,grains       0.86      0.78      0.99      0.82      0.87      0.75       165\n",
      "                  Dairy products       0.92      0.94      0.99      0.93      0.96      0.93       164\n",
      "                        Desserts       0.94      0.91      0.99      0.93      0.95      0.90       165\n",
      "       Drinks,Alcohol, Beverages       0.98      0.99      1.00      0.98      1.00      0.99       165\n",
      "           Fats Oils Shortenings       0.92      0.99      0.99      0.95      0.99      0.98       165\n",
      "                    Fish Seafood       0.95      0.99      0.99      0.97      0.99      0.98       165\n",
      "                          Fruits       0.84      0.93      0.98      0.89      0.96      0.91       165\n",
      "                    Meat Poultry       0.90      0.88      0.99      0.89      0.94      0.87       165\n",
      "                           Soups       0.97      0.95      1.00      0.96      0.97      0.94       164\n",
      "                      Vegetables       0.88      0.79      0.99      0.83      0.88      0.76       165\n",
      "\n",
      "                     avg / total       0.91      0.92      0.99      0.91      0.95      0.90      1648\n",
      "\n"
     ]
    }
   ],
   "source": [
    "trained_model, category_labels, scaler, pca =  train_food_model()"
   ]
  },
  {
   "cell_type": "code",
   "execution_count": 18,
   "id": "eeadbc3a",
   "metadata": {},
   "outputs": [
    {
     "data": {
      "text/plain": [
       "array(['Breads, cereals, fastfood,grains', 'Dairy products', 'Desserts',\n",
       "       'Drinks,Alcohol, Beverages', 'Fats Oils Shortenings',\n",
       "       'Fish Seafood', 'Fruits', 'Meat Poultry', 'Soups', 'Vegetables'],\n",
       "      dtype=object)"
      ]
     },
     "execution_count": 18,
     "metadata": {},
     "output_type": "execute_result"
    }
   ],
   "source": [
    "category_labels"
   ]
  },
  {
   "cell_type": "markdown",
   "id": "8c6ce1d8",
   "metadata": {},
   "source": [
    "### BERT Tokenizer for input foods"
   ]
  },
  {
   "cell_type": "code",
   "execution_count": 19,
   "id": "b56133d9",
   "metadata": {},
   "outputs": [],
   "source": [
    "def generate_bert_embeddings(food_names):\n",
    "    # Load BERT tokenizer and model\n",
    "    tokenizer = AutoTokenizer.from_pretrained('bert-base-uncased')\n",
    "    model = AutoModel.from_pretrained('bert-base-uncased')\n",
    "\n",
    "    # Tokenize food names\n",
    "    food_tokens = food_names.apply(lambda x: tokenizer.encode(x, add_special_tokens=True, max_length=512, truncation=True, padding='max_length'))\n",
    "\n",
    "    # Convert tokens to PyTorch tensors\n",
    "    food_tensors = [torch.tensor([token_ids]) for token_ids in food_tokens]\n",
    "\n",
    "    # Obtain BERT embeddings\n",
    "    with torch.no_grad():\n",
    "        food_embeddings = [model(token_ids)[0].mean(dim=1).squeeze().numpy() for token_ids in food_tensors]\n",
    "    food_embeddings = np.array(food_embeddings)\n",
    "\n",
    "    return food_embeddings"
   ]
  },
  {
   "cell_type": "markdown",
   "id": "60eb8e30",
   "metadata": {},
   "source": [
    "### Predict catogory of food inputs"
   ]
  },
  {
   "cell_type": "code",
   "execution_count": 20,
   "id": "663b18fc",
   "metadata": {},
   "outputs": [],
   "source": [
    "def get_user_selected_categories(user_inputs, trained_model, scaler, category_labels,pca):\n",
    "    categories = []\n",
    "    food_with_category = pd.DataFrame(columns=['food', 'category'])  \n",
    "    drinks_calories = 0\n",
    "    total_calories = 0\n",
    "    total_sugars = 0\n",
    "    # Loop through the rows of the dataframe\n",
    "    for index, row in user_inputs.iterrows():\n",
    "        name = row['name']\n",
    "        serving_size = row['serving_size']\n",
    "        calories = row['calories']\n",
    "        total_fat = row['total_fat']\n",
    "        protein = row['protein']\n",
    "        carbohydrate = row['carbohydrate']\n",
    "        fiber = row['fiber']\n",
    "        sugars = row['sugars']\n",
    "        \n",
    "        # Create an array with the input values\n",
    "        input_values = np.array([[serving_size, calories, total_fat, protein, carbohydrate, fiber, sugars]])\n",
    "               \n",
    "        # Generate BERT embeddings for the food name\n",
    "        food_name_embeddings = generate_bert_embeddings(pd.Series([name]))\n",
    "        \n",
    "        # Concatenate the food name embeddings with the scaled input values\n",
    "        input_features = np.concatenate([food_name_embeddings, input_values], axis=1)\n",
    "        \n",
    "        # Scale the input values using the same scaler used during training\n",
    "        scaled_input_values = scaler.transform(input_features)\n",
    "        \n",
    "        scaled_input_values_pca = pca.transform(scaled_input_values)\n",
    "        \n",
    "        # Make predictions using the trained model\n",
    "        predicted_categories = trained_model.predict(scaled_input_values_pca)\n",
    "        \n",
    "        # Get the category label based on the predicted numerical label\n",
    "        category_label = category_labels[predicted_categories[0]]\n",
    "        if category_label == 'Drinks,Alcohol, Beverages':            \n",
    "            drinks_calories = drinks_calories + calories\n",
    "            \n",
    "        total_sugars = total_sugars + sugars\n",
    "        total_calories = total_calories + calories\n",
    "        \n",
    "        # Print the predicted category label for the current food item\n",
    "        print(f\"Food: {name}, Predicted Category: {category_label}\")\n",
    "        \n",
    "        categories.append(category_label)\n",
    "        \n",
    "        # Add row to the DataFrame\n",
    "        food_with_category = food_with_category.append({'food': name, 'category': category_label}, ignore_index=True)\n",
    "        \n",
    "    if total_calories != 0:\n",
    "        drink_calories_perc = drinks_calories/total_calories\n",
    "    else:\n",
    "        drink_calories_perc = 0\n",
    "        \n",
    "    return categories, food_with_category, drink_calories_perc, total_sugars"
   ]
  },
  {
   "cell_type": "markdown",
   "id": "4b770cf1",
   "metadata": {},
   "source": [
    "### Test get_user_selected_categories() function"
   ]
  },
  {
   "cell_type": "code",
   "execution_count": 23,
   "id": "7312ae1f",
   "metadata": {},
   "outputs": [
    {
     "name": "stderr",
     "output_type": "stream",
     "text": [
      "Some weights of the model checkpoint at bert-base-uncased were not used when initializing BertModel: ['cls.predictions.decoder.weight', 'cls.seq_relationship.bias', 'cls.predictions.transform.dense.bias', 'cls.seq_relationship.weight', 'cls.predictions.transform.LayerNorm.bias', 'cls.predictions.transform.LayerNorm.weight', 'cls.predictions.transform.dense.weight', 'cls.predictions.bias']\n",
      "- This IS expected if you are initializing BertModel from the checkpoint of a model trained on another task or with another architecture (e.g. initializing a BertForSequenceClassification model from a BertForPreTraining model).\n",
      "- This IS NOT expected if you are initializing BertModel from the checkpoint of a model that you expect to be exactly identical (initializing a BertForSequenceClassification model from a BertForSequenceClassification model).\n"
     ]
    },
    {
     "name": "stdout",
     "output_type": "stream",
     "text": [
      "Food: banana, Predicted Category: Fruits\n"
     ]
    }
   ],
   "source": [
    "categories, food_with_category, drink_calories_perc, total_sugars = get_user_selected_categories(df,trained_model, scaler,category_labels, pca)"
   ]
  },
  {
   "cell_type": "code",
   "execution_count": 24,
   "id": "c2c5db46",
   "metadata": {},
   "outputs": [
    {
     "data": {
      "text/html": [
       "<div>\n",
       "<style scoped>\n",
       "    .dataframe tbody tr th:only-of-type {\n",
       "        vertical-align: middle;\n",
       "    }\n",
       "\n",
       "    .dataframe tbody tr th {\n",
       "        vertical-align: top;\n",
       "    }\n",
       "\n",
       "    .dataframe thead th {\n",
       "        text-align: right;\n",
       "    }\n",
       "</style>\n",
       "<table border=\"1\" class=\"dataframe\">\n",
       "  <thead>\n",
       "    <tr style=\"text-align: right;\">\n",
       "      <th></th>\n",
       "      <th>food</th>\n",
       "      <th>category</th>\n",
       "    </tr>\n",
       "  </thead>\n",
       "  <tbody>\n",
       "    <tr>\n",
       "      <th>0</th>\n",
       "      <td>banana</td>\n",
       "      <td>Fruits</td>\n",
       "    </tr>\n",
       "  </tbody>\n",
       "</table>\n",
       "</div>"
      ],
      "text/plain": [
       "     food category\n",
       "0  banana   Fruits"
      ]
     },
     "execution_count": 24,
     "metadata": {},
     "output_type": "execute_result"
    }
   ],
   "source": [
    "food_with_category"
   ]
  },
  {
   "cell_type": "markdown",
   "id": "4c988286",
   "metadata": {},
   "source": [
    "### Count food categories of user's input"
   ]
  },
  {
   "cell_type": "code",
   "execution_count": 25,
   "id": "04360f5e",
   "metadata": {},
   "outputs": [],
   "source": [
    "def count_categories(category_labels, categories):\n",
    "    category_counts = {}\n",
    "    \n",
    "    # Initialize the dictionary with category labels as keys and count as 0\n",
    "    for label in category_labels:\n",
    "        category_counts[label] = 0\n",
    "    \n",
    "    # Count the occurrences of each category label\n",
    "    for category in categories:\n",
    "        if category in category_counts:\n",
    "            category_counts[category] += 1\n",
    "    \n",
    "    return category_counts"
   ]
  },
  {
   "cell_type": "markdown",
   "id": "f6fdc1c3",
   "metadata": {},
   "source": [
    "### Test count_categories() function"
   ]
  },
  {
   "cell_type": "code",
   "execution_count": 26,
   "id": "b1acbc1e",
   "metadata": {},
   "outputs": [
    {
     "data": {
      "text/plain": [
       "{'Breads, cereals, fastfood,grains': 0,\n",
       " 'Dairy products': 0,\n",
       " 'Desserts': 0,\n",
       " 'Drinks,Alcohol, Beverages': 0,\n",
       " 'Fats Oils Shortenings': 0,\n",
       " 'Fish Seafood': 0,\n",
       " 'Fruits': 1,\n",
       " 'Meat Poultry': 0,\n",
       " 'Soups': 0,\n",
       " 'Vegetables': 0}"
      ]
     },
     "execution_count": 26,
     "metadata": {},
     "output_type": "execute_result"
    }
   ],
   "source": [
    "category_counts = count_categories(category_labels, categories)\n",
    "category_counts"
   ]
  },
  {
   "cell_type": "markdown",
   "id": "3a6af8b3",
   "metadata": {},
   "source": [
    "### Recommendation System"
   ]
  },
  {
   "cell_type": "code",
   "execution_count": 30,
   "id": "5c895b36",
   "metadata": {},
   "outputs": [],
   "source": [
    "def food_recommendation(trained_model,scaler,category_labels,pca,threshold_fruits,threshold_vegetables,threshold_grains,threshold_dairy,threshold_meat_poultry,threshold_sugars,threshold_fish,threshold_fats,threshold_drinks):\n",
    "\n",
    "    user_inputs = get_user_inputs() \n",
    "    user_categories, food_with_category, drink_calories_perc, total_sugars = get_user_selected_categories(user_inputs,trained_model, scaler,category_labels, pca)\n",
    "    category_counts = count_categories(category_labels, user_categories)\n",
    "    \n",
    "\n",
    "    # recommendation - fruits\n",
    "    if category_counts['Fruits'] == threshold_fruits:\n",
    "        print(\"\\nGood job! You have reached the recommended servings of fruits per day!\")\n",
    "    elif category_counts['Fruits'] > threshold_fruits:\n",
    "        print(\"\\nYou seem to be a fruit lover! Don't forget to also include other food categories in your daily diet!\")\n",
    "    elif category_counts['Fruits'] < threshold_fruits and threshold_fruits != 0:\n",
    "        print(\"\\nGreat job on eating fruits! They are very important for a balanced diet. The recommended servings of fruit per day is 5 servings of 100g each.\")\n",
    "    elif threshold_fruits == 0:\n",
    "        print(\"\\nFruits are an excellent source of vitamins, minerals, and dietary fiber. They contribute to overall health and well-being, and you should try including them in your daily diet.\")\n",
    "        print(\"I would recommend eating 5 servings of fruits per day.\")\n",
    "    \n",
    "    # recommendation - vegetables\n",
    "    if category_counts['Vegetables'] == threshold_vegetables:\n",
    "        print(\"\\nWell done! You have reached the recommended servings of vegetables per day!\")\n",
    "    elif category_counts['Vegetables'] > threshold_vegetables:\n",
    "        print(\"\\nYou're doing a great job with your vegetable intake! Keep up the good work and also don't forget to include other food categories in your daily diet!\")\n",
    "    elif category_counts['Vegetables'] < threshold_vegetables:\n",
    "        print(\"\\nVegetables are an essential part of a healthy diet. Aim to include more vegetables in your daily meals. The recommended servings of vegetables per day is 3-5.\")\n",
    "    \n",
    "    # recommendation - grains\n",
    "    if category_counts['Breads, cereals, fastfood,grains'] == threshold_grains:\n",
    "        print(\"\\nFantastic! You have reached the recommended servings of grains per day!\")\n",
    "    elif category_counts['Breads, cereals, fastfood,grains'] > threshold_grains:\n",
    "        print(\"\\nYou're doing well with your grain consumption. You should consider reducing them a little bit and balance it with other food groups.\")\n",
    "    elif category_counts['Breads, cereals, fastfood,grains'] < threshold_grains:\n",
    "        print(\"\\nGrains are an important source of energy and nutrients. Aim to include more whole grains in your diet. The recommended servings of grains per day is 6-8 servings of 150g each.\")\n",
    "    \n",
    "    # recommendation - dairy\n",
    "    if category_counts['Dairy products'] == threshold_dairy:\n",
    "        print(\"\\nGreat job! You have reached the recommended servings of dairy products per day!\")\n",
    "    elif category_counts['Dairy products'] > threshold_dairy:\n",
    "        print(\"\\nYou're doing well with your dairy intake, but it might be beneficial to reduce it slightly and diversify your nutrient sources.\")\n",
    "    elif category_counts['Dairy products'] < threshold_dairy:\n",
    "        print(\"\\nDairy products are a good source of calcium and other essential nutrients. Aim to include more dairy products in your daily diet. The recommended amount of dairy products per day is 200gr-300gr.\")\n",
    "    \n",
    "    # recommendation - meat and poultry\n",
    "    if category_counts['Meat Poultry'] == threshold_meat_poultry:\n",
    "        print(\"\\nWell done! You have reached the recommended servings of meat and poultry per day!\")\n",
    "    elif category_counts['Meat Poultry'] > threshold_meat_poultry:\n",
    "        print(\"\\nYou're doing well with your meat and poultry consumption. Remember to choose lean sources, vary your protein sources and balance them with other food groups.\")\n",
    "    elif category_counts['Meat Poultry'] < threshold_meat_poultry:\n",
    "        print(\"\\nMeat and poultry are important sources of protein and other nutrients. Aim to include more lean meat and poultry in your diet. The recommended servings of meat and poultry per day is 3 servings of 100g each.\")\n",
    "    \n",
    "    # recommendation - desserts\n",
    "    if category_counts['Desserts'] > 0 and total_sugars < threshold_sugars:\n",
    "        print(\"\\nIt seems like you enjoy desserts! However, it's important to consume them in moderation.\")\n",
    "        print(\"Remember, desserts should be enjoyed as an occasional treat rather than a regular part of your daily diet.\")        \n",
    "    elif category_counts['Desserts'] > 0 and total_sugars >= threshold_sugars:\n",
    "        print(\"\\nYou've reached your daily sugar limit!\")\n",
    "        print(\"It’s important to be aware of how much sugar you consume.\")\n",
    "        print(\"Added sugars contribute zero nutrients but many added calories that can lead to extra pounds or even obesity.\")\n",
    "        print(\"Instead of sugar in recipes, you can try things like cinnamon, nutmeg, almond extract, vanilla, ginger, or lemon.\")\n",
    "        print(\"Consider also reducing your dessert intake and opting for healthier alternatives like fresh fruits or yogurt.\")\n",
    "    \n",
    "    # recommendation - fish\n",
    "    if category_counts['Fish Seafood'] == threshold_fish:\n",
    "        print(\"\\nGood job! You have reached the recommended servings of fish per day! When it comes to fish consumption, the general recommendation is to aim for 2-3 servings per week.\")\n",
    "    elif category_counts['Fish Seafood'] > threshold_fish:\n",
    "        print(\"\\nYou're doing well with your fish consumption. Fish is a great source of omega-3 fatty acids. When it comes to fish consumption, the general recommendation is to aim for 2-3 servings per week.\")\n",
    "    elif category_counts['Fish Seafood'] < threshold_fish:\n",
    "        print(\"\\nFish is a nutritious food that provides omega-3 fatty acids. Aim to include more fish in your diet. The general recommendation is to aim for 2-3 servings per week.\")\n",
    "    \n",
    "    # recommendation - fats and oils\n",
    "    if sex == \"male\" and category_counts['Fats Oils Shortenings'] <= threshold_fats:\n",
    "        print(\"\\nGood job! You have reached the recommended daily intake of fats and oils for males.\")\n",
    "    elif sex == \"female\" and category_counts['Fats Oils Shortenings'] <= threshold_fats:\n",
    "        print(\"\\nGood job! You have reached the recommended daily intake of fats and oils for females.\")\n",
    "    else:\n",
    "        print(\"\\nIt's important to consume fats and oils in moderation. Aim to choose healthier sources of fats, such as olive oil, avocado, and nuts.\")\n",
    "   \n",
    "    # recommendation - drinks\n",
    "    if drink_calories_perc >= threshold_drinks:\n",
    "        print(\"\\nYou seem to drink a lot of drinks and beverages.\")\n",
    "        print(\"Try to choose beverages that are calorie-free—especially water——or that contribute beneficial nutrients, such as fat-free and low-fat milk and 100% juice\")\n",
    "        print(\"Coffee, tea, and flavored waters also are options, but the most nutrient-dense options for these beverages include little, if any, sweeteners or cream.\")\n",
    "    elif category_counts['Drinks,Alcohol, Beverages'] == 0:\n",
    "        print(\"\\nIt seems that you haven't consumed any drinks today. \")\n",
    "        print(\"Try to choose beverages that are calorie-free—especially water——or that contribute beneficial nutrients, such as fat-free and low-fat milk and 100% juice\")\n",
    "        \n",
    "    # recommendation - soups   \n",
    "    if category_counts['Soups'] > 0:\n",
    "        print(\"\\nWhen prepared with the right ingredients, soup can be a truly healthy dish with multiple nutritional benefits.\")\n",
    "        print(\"For example, soups made with bone-, vegetable-, or meat-based broths provide vitamins, minerals, and nutrients, such as collagen.\")\n",
    "        print(\"Be careful though! Not all soups are healthy. Some ingredients used to improve texture or taste like heavy cream may produce an unhealthy dish that you might want to eat less frequently.\")"
   ]
  },
  {
   "cell_type": "code",
   "execution_count": 31,
   "id": "675d1ea0",
   "metadata": {},
   "outputs": [
    {
     "name": "stdout",
     "output_type": "stream",
     "text": [
      "Enter your age: 25\n",
      "Enter your sex (male/female): male\n",
      "Enter the number of different food items you ate today: 4\n",
      "Enter the name of the food: banana\n",
      "Enter the serving size (in grams): 100\n",
      "Enter the number of calories: 90\n",
      "Enter the total fat content (in grams): 0.3\n",
      "Enter the protein content (in grams): 1\n",
      "Enter the carbohydrate content (in grams): 23\n",
      "Enter the fiber content (in grams): 2.6\n",
      "Enter the sugar content (in grams): 12\n",
      "Enter the name of the food: tomato soup\n",
      "Enter the serving size (in grams): 100\n",
      "Enter the number of calories: 35\n",
      "Enter the total fat content (in grams): 0.2\n",
      "Enter the protein content (in grams): 0.7\n",
      "Enter the carbohydrate content (in grams): 7\n",
      "Enter the fiber content (in grams): 0.5\n",
      "Enter the sugar content (in grams): 4\n",
      "Enter the name of the food: candies\n",
      "Enter the serving size (in grams): 100\n",
      "Enter the number of calories: 380\n",
      "Enter the total fat content (in grams): 5.5\n",
      "Enter the protein content (in grams): 1\n",
      "Enter the carbohydrate content (in grams): 83\n",
      "Enter the fiber content (in grams): 0\n",
      "Enter the sugar content (in grams): 80\n",
      "Enter the name of the food: bread cheese\n",
      "Enter the serving size (in grams): 100\n",
      "Enter the number of calories: 410\n",
      "Enter the total fat content (in grams): 20\n",
      "Enter the protein content (in grams): 10\n",
      "Enter the carbohydrate content (in grams): 45\n",
      "Enter the fiber content (in grams): 2\n",
      "Enter the sugar content (in grams): 2\n"
     ]
    },
    {
     "name": "stderr",
     "output_type": "stream",
     "text": [
      "Some weights of the model checkpoint at bert-base-uncased were not used when initializing BertModel: ['cls.predictions.decoder.weight', 'cls.seq_relationship.bias', 'cls.predictions.transform.dense.bias', 'cls.seq_relationship.weight', 'cls.predictions.transform.LayerNorm.bias', 'cls.predictions.transform.LayerNorm.weight', 'cls.predictions.transform.dense.weight', 'cls.predictions.bias']\n",
      "- This IS expected if you are initializing BertModel from the checkpoint of a model trained on another task or with another architecture (e.g. initializing a BertForSequenceClassification model from a BertForPreTraining model).\n",
      "- This IS NOT expected if you are initializing BertModel from the checkpoint of a model that you expect to be exactly identical (initializing a BertForSequenceClassification model from a BertForSequenceClassification model).\n"
     ]
    },
    {
     "name": "stdout",
     "output_type": "stream",
     "text": [
      "Food: banana, Predicted Category: Fruits\n"
     ]
    },
    {
     "name": "stderr",
     "output_type": "stream",
     "text": [
      "Some weights of the model checkpoint at bert-base-uncased were not used when initializing BertModel: ['cls.predictions.decoder.weight', 'cls.seq_relationship.bias', 'cls.predictions.transform.dense.bias', 'cls.seq_relationship.weight', 'cls.predictions.transform.LayerNorm.bias', 'cls.predictions.transform.LayerNorm.weight', 'cls.predictions.transform.dense.weight', 'cls.predictions.bias']\n",
      "- This IS expected if you are initializing BertModel from the checkpoint of a model trained on another task or with another architecture (e.g. initializing a BertForSequenceClassification model from a BertForPreTraining model).\n",
      "- This IS NOT expected if you are initializing BertModel from the checkpoint of a model that you expect to be exactly identical (initializing a BertForSequenceClassification model from a BertForSequenceClassification model).\n"
     ]
    },
    {
     "name": "stdout",
     "output_type": "stream",
     "text": [
      "Food: tomato soup, Predicted Category: Soups\n"
     ]
    },
    {
     "name": "stderr",
     "output_type": "stream",
     "text": [
      "Some weights of the model checkpoint at bert-base-uncased were not used when initializing BertModel: ['cls.predictions.decoder.weight', 'cls.seq_relationship.bias', 'cls.predictions.transform.dense.bias', 'cls.seq_relationship.weight', 'cls.predictions.transform.LayerNorm.bias', 'cls.predictions.transform.LayerNorm.weight', 'cls.predictions.transform.dense.weight', 'cls.predictions.bias']\n",
      "- This IS expected if you are initializing BertModel from the checkpoint of a model trained on another task or with another architecture (e.g. initializing a BertForSequenceClassification model from a BertForPreTraining model).\n",
      "- This IS NOT expected if you are initializing BertModel from the checkpoint of a model that you expect to be exactly identical (initializing a BertForSequenceClassification model from a BertForSequenceClassification model).\n"
     ]
    },
    {
     "name": "stdout",
     "output_type": "stream",
     "text": [
      "Food: candies, Predicted Category: Desserts\n"
     ]
    },
    {
     "name": "stderr",
     "output_type": "stream",
     "text": [
      "Some weights of the model checkpoint at bert-base-uncased were not used when initializing BertModel: ['cls.predictions.decoder.weight', 'cls.seq_relationship.bias', 'cls.predictions.transform.dense.bias', 'cls.seq_relationship.weight', 'cls.predictions.transform.LayerNorm.bias', 'cls.predictions.transform.LayerNorm.weight', 'cls.predictions.transform.dense.weight', 'cls.predictions.bias']\n",
      "- This IS expected if you are initializing BertModel from the checkpoint of a model trained on another task or with another architecture (e.g. initializing a BertForSequenceClassification model from a BertForPreTraining model).\n",
      "- This IS NOT expected if you are initializing BertModel from the checkpoint of a model that you expect to be exactly identical (initializing a BertForSequenceClassification model from a BertForSequenceClassification model).\n"
     ]
    },
    {
     "name": "stdout",
     "output_type": "stream",
     "text": [
      "Food: bread cheese, Predicted Category: Dairy products\n",
      "\n",
      "Great job on eating fruits! They are very important for a balanced diet. The recommended servings of fruit per day is 5 servings of 100g each.\n",
      "\n",
      "Vegetables are an essential part of a healthy diet. Aim to include more vegetables in your daily meals. The recommended servings of vegetables per day is 3-5.\n",
      "\n",
      "Grains are an important source of energy and nutrients. Aim to include more whole grains in your diet. The recommended servings of grains per day is 6-8 servings of 150g each.\n",
      "\n",
      "Dairy products are a good source of calcium and other essential nutrients. Aim to include more dairy products in your daily diet. The recommended amount of dairy products per day is 200gr-300gr.\n",
      "\n",
      "Meat and poultry are important sources of protein and other nutrients. Aim to include more lean meat and poultry in your diet. The recommended servings of meat and poultry per day is 3 servings of 100g each.\n",
      "\n",
      "You've reached your daily sugar limit!\n",
      "It’s important to be aware of how much sugar you consume.\n",
      "Added sugars contribute zero nutrients but many added calories that can lead to extra pounds or even obesity.\n",
      "Instead of sugar in recipes, you can try things like cinnamon, nutmeg, almond extract, vanilla, ginger, or lemon.\n",
      "Consider also reducing your dessert intake and opting for healthier alternatives like fresh fruits or yogurt.\n",
      "\n",
      "Fish is a nutritious food that provides omega-3 fatty acids. Aim to include more fish in your diet. The general recommendation is to aim for 2-3 servings per week.\n",
      "\n",
      "Good job! You have reached the recommended daily intake of fats and oils for females.\n",
      "\n",
      "It seems that you haven't consumed any drinks today. \n",
      "Try to choose beverages that are calorie-free—especially water——or that contribute beneficial nutrients, such as fat-free and low-fat milk and 100% juice\n",
      "\n",
      "When prepared with the right ingredients, soup can be a truly healthy dish with multiple nutritional benefits.\n",
      "For example, soups made with bone-, vegetable-, or meat-based broths provide vitamins, minerals, and nutrients, such as collagen.\n",
      "Be careful though! Not all soups are healthy. Some ingredients used to improve texture or taste like heavy cream may produce an unhealthy dish that you might want to eat less frequently.\n"
     ]
    }
   ],
   "source": [
    "food_recommendation(trained_model,scaler,category_labels,pca,threshold_fruits,threshold_vegetables,threshold_grains,threshold_dairy,threshold_meat_poultry,threshold_sugars,threshold_fish,threshold_fats,threshold_drinks)"
   ]
  }
 ],
 "metadata": {
  "kernelspec": {
   "display_name": "Python 3 (ipykernel)",
   "language": "python",
   "name": "python3"
  },
  "language_info": {
   "codemirror_mode": {
    "name": "ipython",
    "version": 3
   },
   "file_extension": ".py",
   "mimetype": "text/x-python",
   "name": "python",
   "nbconvert_exporter": "python",
   "pygments_lexer": "ipython3",
   "version": "3.9.13"
  }
 },
 "nbformat": 4,
 "nbformat_minor": 5
}
