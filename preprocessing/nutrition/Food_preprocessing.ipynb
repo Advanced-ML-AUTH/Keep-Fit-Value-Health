{
 "cells": [
  {
   "cell_type": "code",
   "execution_count": 15,
   "id": "c20cb78e",
   "metadata": {},
   "outputs": [],
   "source": [
    "import pandas as pd\n",
    "import numpy as np\n",
    "from sklearn.model_selection import train_test_split\n",
    "from sklearn.preprocessing import StandardScaler, LabelEncoder\n",
    "from sklearn.model_selection import train_test_split\n",
    "from sklearn.preprocessing import LabelEncoder\n",
    "from sklearn.metrics import accuracy_score"
   ]
  },
  {
   "cell_type": "code",
   "execution_count": 16,
   "id": "fc72ba42",
   "metadata": {},
   "outputs": [],
   "source": [
    "# Load the dataset\n",
    "df = pd.read_csv('foodWithCategory.csv',sep = ';')"
   ]
  },
  {
   "cell_type": "code",
   "execution_count": 17,
   "id": "d40ca1b1",
   "metadata": {},
   "outputs": [
    {
     "data": {
      "text/html": [
       "<div>\n",
       "<style scoped>\n",
       "    .dataframe tbody tr th:only-of-type {\n",
       "        vertical-align: middle;\n",
       "    }\n",
       "\n",
       "    .dataframe tbody tr th {\n",
       "        vertical-align: top;\n",
       "    }\n",
       "\n",
       "    .dataframe thead th {\n",
       "        text-align: right;\n",
       "    }\n",
       "</style>\n",
       "<table border=\"1\" class=\"dataframe\">\n",
       "  <thead>\n",
       "    <tr style=\"text-align: right;\">\n",
       "      <th></th>\n",
       "      <th>Unnamed: 0</th>\n",
       "      <th>name</th>\n",
       "      <th>Category</th>\n",
       "      <th>serving_size</th>\n",
       "      <th>calories</th>\n",
       "      <th>total_fat</th>\n",
       "      <th>saturated_fat</th>\n",
       "      <th>cholesterol</th>\n",
       "      <th>protein</th>\n",
       "      <th>carbohydrate</th>\n",
       "      <th>fiber</th>\n",
       "      <th>sugars</th>\n",
       "      <th>fat</th>\n",
       "      <th>water</th>\n",
       "    </tr>\n",
       "  </thead>\n",
       "  <tbody>\n",
       "    <tr>\n",
       "      <th>0</th>\n",
       "      <td>1</td>\n",
       "      <td>Nuts, pecans</td>\n",
       "      <td>Seeds and Nuts</td>\n",
       "      <td>100 g</td>\n",
       "      <td>691</td>\n",
       "      <td>72g</td>\n",
       "      <td>6.2g</td>\n",
       "      <td>0</td>\n",
       "      <td>9.17 g</td>\n",
       "      <td>13.86 g</td>\n",
       "      <td>9.6 g</td>\n",
       "      <td>3.97 g</td>\n",
       "      <td>71.97 g</td>\n",
       "      <td>3.52 g</td>\n",
       "    </tr>\n",
       "    <tr>\n",
       "      <th>1</th>\n",
       "      <td>2</td>\n",
       "      <td>Eggplant, raw</td>\n",
       "      <td>Fruits R-Z</td>\n",
       "      <td>100 g</td>\n",
       "      <td>25</td>\n",
       "      <td>0.2g</td>\n",
       "      <td>NaN</td>\n",
       "      <td>0</td>\n",
       "      <td>0.98 g</td>\n",
       "      <td>5.88 g</td>\n",
       "      <td>3.0 g</td>\n",
       "      <td>3.53 g</td>\n",
       "      <td>0.18 g</td>\n",
       "      <td>92.30 g</td>\n",
       "    </tr>\n",
       "    <tr>\n",
       "      <th>2</th>\n",
       "      <td>5</td>\n",
       "      <td>Cauliflower, raw</td>\n",
       "      <td>Fruits R-Z</td>\n",
       "      <td>100 g</td>\n",
       "      <td>25</td>\n",
       "      <td>0.3g</td>\n",
       "      <td>0.1g</td>\n",
       "      <td>0</td>\n",
       "      <td>1.92 g</td>\n",
       "      <td>4.97 g</td>\n",
       "      <td>2.0 g</td>\n",
       "      <td>1.91 g</td>\n",
       "      <td>0.28 g</td>\n",
       "      <td>92.07 g</td>\n",
       "    </tr>\n",
       "    <tr>\n",
       "      <th>3</th>\n",
       "      <td>6</td>\n",
       "      <td>Taro leaves, raw</td>\n",
       "      <td>Fruits R-Z</td>\n",
       "      <td>100 g</td>\n",
       "      <td>42</td>\n",
       "      <td>0.7g</td>\n",
       "      <td>0.2g</td>\n",
       "      <td>0</td>\n",
       "      <td>4.98 g</td>\n",
       "      <td>6.70 g</td>\n",
       "      <td>3.7 g</td>\n",
       "      <td>3.01 g</td>\n",
       "      <td>0.74 g</td>\n",
       "      <td>85.66 g</td>\n",
       "    </tr>\n",
       "    <tr>\n",
       "      <th>4</th>\n",
       "      <td>18</td>\n",
       "      <td>Winged bean tuber, raw</td>\n",
       "      <td>Fruits R-Z</td>\n",
       "      <td>100 g</td>\n",
       "      <td>148</td>\n",
       "      <td>0.9g</td>\n",
       "      <td>0.2g</td>\n",
       "      <td>0</td>\n",
       "      <td>11.60 g</td>\n",
       "      <td>28.10 g</td>\n",
       "      <td>0</td>\n",
       "      <td>0</td>\n",
       "      <td>0.90 g</td>\n",
       "      <td>57.40 g</td>\n",
       "    </tr>\n",
       "  </tbody>\n",
       "</table>\n",
       "</div>"
      ],
      "text/plain": [
       "   Unnamed: 0                    name        Category serving_size  calories   \n",
       "0           1            Nuts, pecans  Seeds and Nuts        100 g       691  \\\n",
       "1           2           Eggplant, raw      Fruits R-Z        100 g        25   \n",
       "2           5        Cauliflower, raw      Fruits R-Z        100 g        25   \n",
       "3           6        Taro leaves, raw      Fruits R-Z        100 g        42   \n",
       "4          18  Winged bean tuber, raw      Fruits R-Z        100 g       148   \n",
       "\n",
       "  total_fat saturated_fat cholesterol  protein carbohydrate  fiber  sugars   \n",
       "0       72g          6.2g           0   9.17 g      13.86 g  9.6 g  3.97 g  \\\n",
       "1      0.2g           NaN           0   0.98 g       5.88 g  3.0 g  3.53 g   \n",
       "2      0.3g          0.1g           0   1.92 g       4.97 g  2.0 g  1.91 g   \n",
       "3      0.7g          0.2g           0   4.98 g       6.70 g  3.7 g  3.01 g   \n",
       "4      0.9g          0.2g           0  11.60 g      28.10 g      0       0   \n",
       "\n",
       "       fat    water  \n",
       "0  71.97 g   3.52 g  \n",
       "1   0.18 g  92.30 g  \n",
       "2   0.28 g  92.07 g  \n",
       "3   0.74 g  85.66 g  \n",
       "4   0.90 g  57.40 g  "
      ]
     },
     "execution_count": 17,
     "metadata": {},
     "output_type": "execute_result"
    }
   ],
   "source": [
    "df.head()"
   ]
  },
  {
   "cell_type": "code",
   "execution_count": 18,
   "id": "f1033ddc",
   "metadata": {},
   "outputs": [
    {
     "name": "stdout",
     "output_type": "stream",
     "text": [
      "<class 'pandas.core.frame.DataFrame'>\n",
      "RangeIndex: 2415 entries, 0 to 2414\n",
      "Data columns (total 14 columns):\n",
      " #   Column         Non-Null Count  Dtype \n",
      "---  ------         --------------  ----- \n",
      " 0   Unnamed: 0     2415 non-null   int64 \n",
      " 1   name           2415 non-null   object\n",
      " 2   Category       2415 non-null   object\n",
      " 3   serving_size   2415 non-null   object\n",
      " 4   calories       2415 non-null   int64 \n",
      " 5   total_fat      2415 non-null   object\n",
      " 6   saturated_fat  1999 non-null   object\n",
      " 7   cholesterol    2415 non-null   object\n",
      " 8   protein        2415 non-null   object\n",
      " 9   carbohydrate   2415 non-null   object\n",
      " 10  fiber          2415 non-null   object\n",
      " 11  sugars         2415 non-null   object\n",
      " 12  fat            2415 non-null   object\n",
      " 13  water          2415 non-null   object\n",
      "dtypes: int64(2), object(12)\n",
      "memory usage: 264.3+ KB\n"
     ]
    }
   ],
   "source": [
    "df.info()"
   ]
  },
  {
   "cell_type": "code",
   "execution_count": 19,
   "id": "d43de9d4",
   "metadata": {},
   "outputs": [],
   "source": [
    "df = df.drop(['Unnamed: 0', 'water','cholesterol','saturated_fat','fat'], axis=1)"
   ]
  },
  {
   "cell_type": "code",
   "execution_count": 20,
   "id": "59520a3e",
   "metadata": {},
   "outputs": [
    {
     "name": "stdout",
     "output_type": "stream",
     "text": [
      "Non-numeric values in column 'serving_size':\n",
      "0       100 g\n",
      "1       100 g\n",
      "2       100 g\n",
      "3       100 g\n",
      "4       100 g\n",
      "        ...  \n",
      "2410    100 g\n",
      "2411    100 g\n",
      "2412    100 g\n",
      "2413    100 g\n",
      "2414    100 g\n",
      "Name: serving_size, Length: 2415, dtype: object\n",
      "\n",
      "Negative values in column 'serving_size':\n",
      "Series([], Name: serving_size, dtype: object)\n",
      "\n",
      "Non-numeric values in column 'calories':\n",
      "Series([], Name: calories, dtype: int64)\n",
      "\n",
      "Negative values in column 'calories':\n",
      "Series([], Name: calories, dtype: int64)\n",
      "\n",
      "Non-numeric values in column 'total_fat':\n",
      "0        72g\n",
      "1       0.2g\n",
      "2       0.3g\n",
      "3       0.7g\n",
      "4       0.9g\n",
      "        ... \n",
      "2410     20g\n",
      "2411     19g\n",
      "2412     15g\n",
      "2413    5.8g\n",
      "2414     16g\n",
      "Name: total_fat, Length: 2415, dtype: object\n",
      "\n",
      "Negative values in column 'total_fat':\n",
      "Series([], Name: total_fat, dtype: object)\n",
      "\n",
      "Non-numeric values in column 'protein':\n",
      "0        9.17 g\n",
      "1        0.98 g\n",
      "2        1.92 g\n",
      "3        4.98 g\n",
      "4       11.60 g\n",
      "         ...   \n",
      "2410    24.95 g\n",
      "2411    25.03 g\n",
      "2412    18.74 g\n",
      "2413    28.60 g\n",
      "2414     8.81 g\n",
      "Name: protein, Length: 2415, dtype: object\n",
      "\n",
      "Negative values in column 'protein':\n",
      "Series([], Name: protein, dtype: object)\n",
      "\n",
      "Non-numeric values in column 'carbohydrate':\n",
      "0       13.86 g\n",
      "1        5.88 g\n",
      "2        4.97 g\n",
      "3        6.70 g\n",
      "4       28.10 g\n",
      "         ...   \n",
      "2410     0.00 g\n",
      "2411     0.00 g\n",
      "2412     0.19 g\n",
      "2413     0.00 g\n",
      "2414    66.28 g\n",
      "Name: carbohydrate, Length: 2415, dtype: object\n",
      "\n",
      "Negative values in column 'carbohydrate':\n",
      "Series([], Name: carbohydrate, dtype: object)\n",
      "\n",
      "Non-numeric values in column 'fiber':\n",
      "0       9.6 g\n",
      "1       3.0 g\n",
      "2       2.0 g\n",
      "3       3.7 g\n",
      "5       6.6 g\n",
      "        ...  \n",
      "2410    0.0 g\n",
      "2411    0.0 g\n",
      "2412    0.0 g\n",
      "2413    0.0 g\n",
      "2414    1.2 g\n",
      "Name: fiber, Length: 2259, dtype: object\n",
      "\n",
      "Negative values in column 'fiber':\n",
      "Series([], Name: fiber, dtype: object)\n",
      "\n",
      "Non-numeric values in column 'sugars':\n",
      "0        3.97 g\n",
      "1        3.53 g\n",
      "2        1.91 g\n",
      "3        3.01 g\n",
      "5        2.58 g\n",
      "         ...   \n",
      "2410     0.00 g\n",
      "2411     0.00 g\n",
      "2412     0.00 g\n",
      "2413     0.00 g\n",
      "2414    21.86 g\n",
      "Name: sugars, Length: 1964, dtype: object\n",
      "\n",
      "Negative values in column 'sugars':\n",
      "Series([], Name: sugars, dtype: object)\n",
      "\n"
     ]
    }
   ],
   "source": [
    "# Check for non numeric values in columns 2-8\n",
    "\n",
    "# List of column names to check\n",
    "columns_to_check = df.columns[2:]\n",
    "\n",
    "# Loop through columns and check for non-numeric and negative values\n",
    "for col in columns_to_check:\n",
    "    col_numeric = col + '_numeric'\n",
    "    df[col_numeric] = pd.to_numeric(df[col], errors='coerce')\n",
    "    non_numeric_values = df[df[col_numeric].isnull()][col]\n",
    "    negative_values = df[df[col_numeric] < 0][col]\n",
    "    print(f\"Non-numeric values in column '{col}':\\n{non_numeric_values}\\n\")\n",
    "    print(f\"Negative values in column '{col}':\\n{negative_values}\\n\")\n",
    "    \n",
    "    # Drop the temporary _numeric column\n",
    "    df.drop(columns=[col_numeric], inplace=True)"
   ]
  },
  {
   "cell_type": "code",
   "execution_count": 21,
   "id": "6e02d28e",
   "metadata": {},
   "outputs": [
    {
     "name": "stdout",
     "output_type": "stream",
     "text": [
      "                     name        Category serving_size  calories total_fat   \n",
      "0            Nuts, pecans  Seeds and Nuts         100        691        72  \\\n",
      "1           Eggplant, raw      Fruits R-Z         100         25       0.2   \n",
      "2        Cauliflower, raw      Fruits R-Z         100         25       0.3   \n",
      "3        Taro leaves, raw      Fruits R-Z         100         42       0.7   \n",
      "4  Winged bean tuber, raw      Fruits R-Z         100        148       0.9   \n",
      "\n",
      "  protein carbohydrate fiber sugars  \n",
      "0   9.17        13.86   9.6   3.97   \n",
      "1   0.98         5.88   3.0   3.53   \n",
      "2   1.92         4.97   2.0   1.91   \n",
      "3   4.98         6.70   3.7   3.01   \n",
      "4  11.60        28.10      0      0  \n"
     ]
    }
   ],
   "source": [
    "# create a list of columns to modify\n",
    "columns_to_modify = ['total_fat', 'protein', 'carbohydrate', 'fiber', 'sugars','serving_size']\n",
    "\n",
    "# loop over the columns and remove the \"g\" character\n",
    "for col in columns_to_modify:\n",
    "    df[col] = df[col].str.replace('g', '')\n",
    "\n",
    "# check the updated dataframe\n",
    "print(df.head())"
   ]
  },
  {
   "cell_type": "code",
   "execution_count": 22,
   "id": "fe6fb770",
   "metadata": {},
   "outputs": [
    {
     "data": {
      "text/plain": [
       "name             object\n",
       "Category         object\n",
       "serving_size      int64\n",
       "calories          int64\n",
       "total_fat       float64\n",
       "protein         float64\n",
       "carbohydrate    float64\n",
       "fiber           float64\n",
       "sugars          float64\n",
       "dtype: object"
      ]
     },
     "execution_count": 22,
     "metadata": {},
     "output_type": "execute_result"
    }
   ],
   "source": [
    "#convert serving_size, calories, protein, fat, fiber, sugar and carbs datatypes to int\n",
    "df['serving_size'] = pd.to_numeric(df['serving_size'])\n",
    "df['calories'] = pd.to_numeric(df['calories'])\n",
    "df['protein'] = pd.to_numeric(df['protein'])\n",
    "df['total_fat'] = pd.to_numeric(df['total_fat'])\n",
    "df['fiber'] = pd.to_numeric(df['fiber'])\n",
    "df['carbohydrate'] = pd.to_numeric(df['carbohydrate'])\n",
    "df['sugars'] = pd.to_numeric(df['sugars'])\n",
    "\n",
    "#check the result of dataset\n",
    "df.dtypes"
   ]
  },
  {
   "cell_type": "code",
   "execution_count": 23,
   "id": "3c573c57",
   "metadata": {},
   "outputs": [],
   "source": [
    "df = df.replace(\",\",\"\", regex=True)"
   ]
  },
  {
   "cell_type": "code",
   "execution_count": 24,
   "id": "6c9ccb06",
   "metadata": {},
   "outputs": [
    {
     "name": "stdout",
     "output_type": "stream",
     "text": [
      "<class 'pandas.core.frame.DataFrame'>\n",
      "RangeIndex: 2415 entries, 0 to 2414\n",
      "Data columns (total 9 columns):\n",
      " #   Column        Non-Null Count  Dtype  \n",
      "---  ------        --------------  -----  \n",
      " 0   name          2415 non-null   object \n",
      " 1   Category      2415 non-null   object \n",
      " 2   serving_size  2415 non-null   int64  \n",
      " 3   calories      2415 non-null   int64  \n",
      " 4   total_fat     2415 non-null   float64\n",
      " 5   protein       2415 non-null   float64\n",
      " 6   carbohydrate  2415 non-null   float64\n",
      " 7   fiber         2415 non-null   float64\n",
      " 8   sugars        2415 non-null   float64\n",
      "dtypes: float64(5), int64(2), object(2)\n",
      "memory usage: 169.9+ KB\n"
     ]
    },
    {
     "data": {
      "text/plain": [
       "None"
      ]
     },
     "metadata": {},
     "output_type": "display_data"
    }
   ],
   "source": [
    "#drop row in with null value\n",
    "df = df.dropna()\n",
    "\n",
    "display(df.info())"
   ]
  },
  {
   "cell_type": "code",
   "execution_count": 25,
   "id": "d2f4a17b",
   "metadata": {},
   "outputs": [
    {
     "data": {
      "text/plain": [
       "array(['Seeds and Nuts', 'Fruits R-Z', 'Vegetables A-E',\n",
       "       'Fats Oils Shortenings', 'Fish Seafood', 'Dairy products',\n",
       "       'Meat Poultry', 'Breads cereals fastfoodgrains', 'Desserts sweets',\n",
       "       'Fruits G-P', 'Jams Jellies', 'Fruits A-F', 'Vegetables R-Z',\n",
       "       'DrinksAlcohol Beverages', 'Soups', 'Vegetables F-P'], dtype=object)"
      ]
     },
     "execution_count": 25,
     "metadata": {},
     "output_type": "execute_result"
    }
   ],
   "source": [
    "df['Category'].unique()"
   ]
  },
  {
   "cell_type": "code",
   "execution_count": 26,
   "id": "b4966859",
   "metadata": {},
   "outputs": [],
   "source": [
    "#Simplifying Categories\n",
    "df['Category'] = df['Category'].replace(['Breads cereals fastfoodgrains', 'Seeds and Nuts'], 'Grains', regex=True)\n",
    "df['Category'] = df['Category'].replace(['Desserts sweets', 'Jams Jellies'], 'Desserts', regex=True)\n",
    "df['Category'] = df['Category'].replace(['Fruits A-F', 'Fruits G-P', 'Fruits R-Z'], 'Fruits', regex=True)\n",
    "df['Category'] = df['Category'].replace(['Vegetables A-E', 'Vegetables F-P', 'Vegetables R-Z'], 'Vegetables', regex=True)"
   ]
  },
  {
   "cell_type": "code",
   "execution_count": 27,
   "id": "461c2e49",
   "metadata": {},
   "outputs": [
    {
     "data": {
      "text/plain": [
       "array(['Grains', 'Fruits', 'Vegetables', 'Fats Oils Shortenings',\n",
       "       'Fish Seafood', 'Dairy products', 'Meat Poultry', 'Desserts',\n",
       "       'DrinksAlcohol Beverages', 'Soups'], dtype=object)"
      ]
     },
     "execution_count": 27,
     "metadata": {},
     "output_type": "execute_result"
    }
   ],
   "source": [
    "df['Category'].unique()"
   ]
  },
  {
   "cell_type": "code",
   "execution_count": 28,
   "id": "0023cc49",
   "metadata": {},
   "outputs": [],
   "source": [
    "df.to_csv('final_food_csv.csv', index=False)"
   ]
  },
  {
   "attachments": {},
   "cell_type": "markdown",
   "id": "3816561b",
   "metadata": {},
   "source": [
    "\n"
   ]
  }
 ],
 "metadata": {
  "kernelspec": {
   "display_name": "Python 3",
   "language": "python",
   "name": "python3"
  },
  "language_info": {
   "codemirror_mode": {
    "name": "ipython",
    "version": 3
   },
   "file_extension": ".py",
   "mimetype": "text/x-python",
   "name": "python",
   "nbconvert_exporter": "python",
   "pygments_lexer": "ipython3",
   "version": "3.10.0"
  }
 },
 "nbformat": 4,
 "nbformat_minor": 5
}
