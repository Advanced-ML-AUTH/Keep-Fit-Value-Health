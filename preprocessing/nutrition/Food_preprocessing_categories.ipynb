{
 "cells": [
  {
   "cell_type": "code",
   "execution_count": 213,
   "id": "c20cb78e",
   "metadata": {},
   "outputs": [],
   "source": [
    "import pandas as pd"
   ]
  },
  {
   "cell_type": "code",
   "execution_count": 214,
   "id": "c86f4fcd",
   "metadata": {},
   "outputs": [
    {
     "data": {
      "text/html": [
       "<div>\n",
       "<style scoped>\n",
       "    .dataframe tbody tr th:only-of-type {\n",
       "        vertical-align: middle;\n",
       "    }\n",
       "\n",
       "    .dataframe tbody tr th {\n",
       "        vertical-align: top;\n",
       "    }\n",
       "\n",
       "    .dataframe thead th {\n",
       "        text-align: right;\n",
       "    }\n",
       "</style>\n",
       "<table border=\"1\" class=\"dataframe\">\n",
       "  <thead>\n",
       "    <tr style=\"text-align: right;\">\n",
       "      <th></th>\n",
       "      <th>name</th>\n",
       "      <th>Category</th>\n",
       "      <th>serving_size</th>\n",
       "      <th>calories</th>\n",
       "      <th>total_fat</th>\n",
       "      <th>protein</th>\n",
       "      <th>carbohydrate</th>\n",
       "      <th>fiber</th>\n",
       "      <th>sugars</th>\n",
       "    </tr>\n",
       "  </thead>\n",
       "  <tbody>\n",
       "    <tr>\n",
       "      <th>0</th>\n",
       "      <td>Nuts pecans</td>\n",
       "      <td>Grains</td>\n",
       "      <td>100</td>\n",
       "      <td>691</td>\n",
       "      <td>72.0</td>\n",
       "      <td>9.17</td>\n",
       "      <td>13.86</td>\n",
       "      <td>9.6</td>\n",
       "      <td>3.97</td>\n",
       "    </tr>\n",
       "    <tr>\n",
       "      <th>1</th>\n",
       "      <td>Eggplant raw</td>\n",
       "      <td>Fruits</td>\n",
       "      <td>100</td>\n",
       "      <td>25</td>\n",
       "      <td>0.2</td>\n",
       "      <td>0.98</td>\n",
       "      <td>5.88</td>\n",
       "      <td>3.0</td>\n",
       "      <td>3.53</td>\n",
       "    </tr>\n",
       "    <tr>\n",
       "      <th>2</th>\n",
       "      <td>Cauliflower raw</td>\n",
       "      <td>Fruits</td>\n",
       "      <td>100</td>\n",
       "      <td>25</td>\n",
       "      <td>0.3</td>\n",
       "      <td>1.92</td>\n",
       "      <td>4.97</td>\n",
       "      <td>2.0</td>\n",
       "      <td>1.91</td>\n",
       "    </tr>\n",
       "    <tr>\n",
       "      <th>3</th>\n",
       "      <td>Taro leaves raw</td>\n",
       "      <td>Fruits</td>\n",
       "      <td>100</td>\n",
       "      <td>42</td>\n",
       "      <td>0.7</td>\n",
       "      <td>4.98</td>\n",
       "      <td>6.70</td>\n",
       "      <td>3.7</td>\n",
       "      <td>3.01</td>\n",
       "    </tr>\n",
       "    <tr>\n",
       "      <th>4</th>\n",
       "      <td>Winged bean tuber raw</td>\n",
       "      <td>Fruits</td>\n",
       "      <td>100</td>\n",
       "      <td>148</td>\n",
       "      <td>0.9</td>\n",
       "      <td>11.60</td>\n",
       "      <td>28.10</td>\n",
       "      <td>0.0</td>\n",
       "      <td>0.00</td>\n",
       "    </tr>\n",
       "  </tbody>\n",
       "</table>\n",
       "</div>"
      ],
      "text/plain": [
       "                    name Category  serving_size  calories  total_fat  protein   \n",
       "0            Nuts pecans   Grains           100       691       72.0     9.17  \\\n",
       "1           Eggplant raw   Fruits           100        25        0.2     0.98   \n",
       "2        Cauliflower raw   Fruits           100        25        0.3     1.92   \n",
       "3        Taro leaves raw   Fruits           100        42        0.7     4.98   \n",
       "4  Winged bean tuber raw   Fruits           100       148        0.9    11.60   \n",
       "\n",
       "   carbohydrate  fiber  sugars  \n",
       "0         13.86    9.6    3.97  \n",
       "1          5.88    3.0    3.53  \n",
       "2          4.97    2.0    1.91  \n",
       "3          6.70    3.7    3.01  \n",
       "4         28.10    0.0    0.00  "
      ]
     },
     "execution_count": 214,
     "metadata": {},
     "output_type": "execute_result"
    }
   ],
   "source": [
    "# Load the dataset\n",
    "df = pd.read_csv('final_food_csv.csv', sep=',')\n",
    "df.head()"
   ]
  },
  {
   "cell_type": "code",
   "execution_count": 215,
   "id": "737a9c42",
   "metadata": {},
   "outputs": [],
   "source": [
    "def change_categories(data_frame, keyword, category, isChanged, notChangeWord):\n",
    "    mask = data_frame['name'].str.contains(keyword, case=False)\n",
    "    filtered_indices = data_frame[mask].index\n",
    "    for indices in filtered_indices:        \n",
    "        if isChanged and category not in data_frame.loc[indices, 'Category']:\n",
    "            if len(notChangeWord) == 0 or not sentence_contains_words(data_frame.loc[indices, 'name'].lower(), notChangeWord):\n",
    "                data_frame.loc[indices, 'Category'] = category\n",
    "                print(f\"(show food: {data_frame.loc[indices, 'name']} category: {data_frame.loc[indices, 'Category']})\")\n",
    "\n",
    "        elif category not in data_frame.loc[indices, 'Category']:\n",
    "            print(f\"(food: {data_frame.loc[indices, 'name']} category: {data_frame.loc[indices, 'Category']})\")\n",
    "\n",
    "    return data_frame"
   ]
  },
  {
   "cell_type": "code",
   "execution_count": 216,
   "id": "deca0845",
   "metadata": {},
   "outputs": [],
   "source": [
    "def sentence_contains_words(food, word_list):\n",
    "    for word in word_list:\n",
    "        if word in food:\n",
    "            return True\n",
    "    return False"
   ]
  },
  {
   "cell_type": "code",
   "execution_count": 217,
   "id": "cef60ad5",
   "metadata": {},
   "outputs": [
    {
     "name": "stdout",
     "output_type": "stream",
     "text": [
      "Categories of foods containing 'milk':\n",
      "(food: Beverages unsweetened rice milk category: Grains)\n",
      "(food: Candies milk chocolate coated raisins category: Fruits)\n",
      "(food: Candies milk chocolate coated peanuts category: Grains)\n",
      "(food: Candies milk chocolate coated coffee beans category: DrinksAlcohol Beverages)\n",
      "(food: Candies with rice cereal milk chocolate category: Grains)\n",
      "(food: Puddings prepared with 2% milk dry mix rice category: Grains)\n",
      "(food: Beverages prepared with whole milk chocolate syrup category: Desserts)\n",
      "(food: Salad dressing milk cream imitation mayonnaise category: Fats Oils Shortenings)\n",
      "(food: Puddings prepared with whole milk dry mix rice category: Grains)\n",
      "(food: Beverages milk based mocha iced ready to drink coffee category: DrinksAlcohol Beverages)\n",
      "(food: Puddings prepared with 2% milk regular dry mix banana category: Fruits)\n",
      "(food: Smoked link sausage nonfat dry milk added pork and beef category: Meat Poultry)\n",
      "(food: Puddings prepared with 2% milk instant dry mix banana category: Fruits)\n",
      "(food: Beverages sweetened milk based ready to drink coffee category: DrinksAlcohol Beverages)\n",
      "(food: Bread made with low fat (2%) milk prepared from recipe white category: Grains)\n",
      "(food: Soup prepared with equal volume milk canned cream of chicken category: Meat Poultry)\n",
      "(food: Potatoes whole milk and margarine added home-prepared mashed category: Fats Oils Shortenings)\n",
      "(food: Candies milk chocolate with honey and almond nougat TOBLERONE category: Desserts)\n",
      "(food: Soup prepared with equal volume milk canned cream of celery category: Vegetables)\n",
      "(food: MARTHA WHITE FOODS dry Martha White's Buttermilk Biscuit Mix category: Grains)\n",
      "(food: Milk with blend of hydrogenated vegetable oils fluid filled category: Soups)\n",
      "(food: Bread made with nonfat dry milk prepared from recipe white category: Grains)\n",
      "(food: Puddings prepared with whole milk instant dry mix banana category: Fruits)\n",
      "(food: Potatoes whole milk and butter added home-prepared mashed category: Fats Oils Shortenings)\n",
      "(food: Puddings prepared with whole milk regular dry mix banana category: Fruits)\n",
      "(food: Nuts raw (liquid expressed from grated meat and water) coconut milk category: Fruits)\n",
      "(food: Soup prepared with equal volume milk canned cream of asparagus category: Vegetables)\n",
      "(food: Muffins made with low fat (2%) milk prepared from recipe corn category: Vegetables)\n",
      "(food: Candies candy bar soft nougats peanut butter milk chocolate REESE's Fast Break category: Desserts)\n",
      "(food: Soup prepared with equal volume low fat (2%) milk canned cream of shrimp category: Fish Seafood)\n",
      "(food: Candies milk chocolate peanut butter and soft nougats FAST BREAK REESE'S category: Fats Oils Shortenings)\n",
      "(food: Beverages sweetened milk based light vanilla ready to drink coffee category: DrinksAlcohol Beverages)\n",
      "(food: Potatoes water and margarine added prepared from granules with milk dehydrated mashed category: Fats Oils Shortenings)\n",
      "(food: Potatoes whole milk and margarine added prepared from flakes without milk dehydrated mashed category: Fats Oils Shortenings)\n",
      "(food: Potatoes whole milk and butter added prepared from granules without milk dehydrated mashed category: Fats Oils Shortenings)\n",
      "(food: Potatoes whole milk and butter added prepared from flakes without milk dehydrated mashed category: Fats Oils Shortenings)\n",
      "(food: Macaroni and cheese prepared with 2% milk and 80% stick margarine from dry mix dry mix category: Grains)\n",
      "(food: Beverages prepared with whole milk powder cereal grain beverage coffee substitute category: DrinksAlcohol Beverages)\n"
     ]
    }
   ],
   "source": [
    "keyword = 'milk'\n",
    "print(f\"Categories of foods containing '{keyword}':\")\n",
    "df = change_categories(df, keyword, \"Dairy products\", False, [])"
   ]
  },
  {
   "cell_type": "code",
   "execution_count": 218,
   "id": "300a4e81",
   "metadata": {},
   "outputs": [
    {
     "name": "stdout",
     "output_type": "stream",
     "text": [
      "Categories of foods containing 'meat':\n",
      "(show food: Pheasant meat and skin raw category: Meat Poultry)\n",
      "(show food: Pheasant meat only raw category: Meat Poultry)\n",
      "(show food: Walrus raw (Alaska Native) meat category: Meat Poultry)\n",
      "(show food: Moose raw (Alaska Native) meat category: Meat Poultry)\n",
      "(show food: Bear raw (Alaska Native) meat polar category: Meat Poultry)\n",
      "(show food: Whale raw (Alaska Native) meat beluga category: Meat Poultry)\n",
      "(show food: Fish raw (Alaska Native) meat lingcod category: Meat Poultry)\n",
      "(show food: Caribou raw (Alaska Native) hind quarter meat category: Meat Poultry)\n",
      "(show food: Pork raw feet variety meats and by-products fresh category: Meat Poultry)\n",
      "(show food: Pork raw jowl variety meats and by-products fresh category: Meat Poultry)\n",
      "(show food: Restaurant without meat vegetable lo mein Chinese category: Meat Poultry)\n",
      "(show food: Seal raw (Alaska Native) meat bearded (Oogruk) category: Meat Poultry)\n",
      "(show food: SUBWAY meatball marinara sub on white bread (no toppings) category: Meat Poultry)\n",
      "(show food: Pork raw pancreas variety meats and by-products fresh category: Meat Poultry)\n",
      "(show food: Pork raw leaf fat variety meats and by-products fresh category: Meat Poultry)\n",
      "(show food: Pork raw stomach variety meats and by-products fresh category: Meat Poultry)\n",
      "(show food: Pork raw kidneys variety meats and by-products fresh category: Meat Poultry)\n",
      "(show food: Pork raw spleen variety meats and by-products fresh category: Meat Poultry)\n",
      "(show food: Pork raw tongue variety meats and by-products fresh category: Meat Poultry)\n",
      "(show food: Pork raw brain variety meats and by-products fresh category: Meat Poultry)\n",
      "(show food: Pork raw liver variety meats and by-products fresh category: Meat Poultry)\n",
      "(show food: Pork raw lungs variety meats and by-products fresh category: Meat Poultry)\n",
      "(show food: Pork raw heart variety meats and by-products fresh category: Meat Poultry)\n",
      "(show food: Walrus meat and subcutaneous fat raw (Alaska Native) category: Meat Poultry)\n",
      "(show food: Pork raw tail variety meats and by-products fresh category: Meat Poultry)\n",
      "(show food: Fast foods meatball marinara on white bread submarine sandwich category: Meat Poultry)\n",
      "(show food: Pizza cooked frozen rising crust meat and vegetable topping category: Meat Poultry)\n",
      "(show food: Seal raw (Alaska Native) low quadrant meat bearded (Oogruk) category: Meat Poultry)\n",
      "(show food: Pork raw chitterlings variety meats and by-products fresh category: Meat Poultry)\n",
      "(show food: Pork raw frozen ears variety meats and by-products fresh category: Meat Poultry)\n",
      "(show food: Chicken not reheated frozen precooked white meat nuggets category: Meat Poultry)\n",
      "(show food: Pork braised cooked spleen variety meats and by-products fresh category: Meat Poultry)\n",
      "(show food: Pork raw mechanically separated variety meats and by-products fresh category: Meat Poultry)\n",
      "(show food: Chicken not reheated frozen precooked dark and white meat nuggets category: Meat Poultry)\n",
      "(show food: Pork simmered cooked stomach variety meats and by-products fresh category: Meat Poultry)\n",
      "(show food: Pork braised cooked pancreas variety meats and by-products fresh category: Meat Poultry)\n",
      "(show food: Pork braised cooked kidneys variety meats and by-products fresh category: Meat Poultry)\n",
      "(show food: Pork braised cooked tongue variety meats and by-products fresh category: Meat Poultry)\n",
      "(show food: Pork braised cooked brain variety meats and by-products fresh category: Meat Poultry)\n",
      "(show food: Pork simmered cooked tail variety meats and by-products fresh category: Meat Poultry)\n",
      "(show food: Pork simmered cooked feet variety meats and by-products fresh category: Meat Poultry)\n",
      "(show food: Pork braised cooked liver variety meats and by-products fresh category: Meat Poultry)\n",
      "(show food: Pork braised cooked lungs variety meats and by-products fresh category: Meat Poultry)\n",
      "(show food: Pork braised cooked heart variety meats and by-products fresh category: Meat Poultry)\n",
      "(show food: Restaurant without meat or noodles vegetable chow mein Chinese category: Meat Poultry)\n",
      "(show food: Pizza cooked frozen regular crust meat and vegetable topping category: Meat Poultry)\n",
      "(show food: Fast Food regular crust meat and vegetable topping 14\" pizza Pizza Chain category: Meat Poultry)\n",
      "(show food: Pork simmered cooked chitterlings variety meats and by-products fresh category: Meat Poultry)\n",
      "(show food: Pork simmered cooked frozen ears variety meats and by-products fresh category: Meat Poultry)\n",
      "(show food: LITTLE CAESARS 14\" Original Round Meat and Vegetable Pizza Regular Crust category: Meat Poultry)\n",
      "(show food: Duck roasted cooked boneless meat and skin breast White Pekin domesticated young duckling category: Meat Poultry)\n",
      "(show food: Duck roasted cooked bone in meat and skin leg White Pekin domesticated young duckling category: Meat Poultry)\n",
      "(show food: Duck braised cooked without skin bone in meat only leg White Pekin domesticated young duckling category: Meat Poultry)\n",
      "(show food: Duck broiled cooked without skin boneless meat only breast White Pekin domesticated young duckling category: Meat Poultry)\n"
     ]
    }
   ],
   "source": [
    "keyword = 'meat'\n",
    "print(f\"Categories of foods containing '{keyword}':\")\n",
    "df = change_categories(df, keyword, \"Meat Poultry\", True, ['nuts'])"
   ]
  },
  {
   "cell_type": "code",
   "execution_count": 219,
   "id": "0e0f6990",
   "metadata": {},
   "outputs": [
    {
     "name": "stdout",
     "output_type": "stream",
     "text": [
      "Categories of foods containing 'pork':\n",
      "(show food: Beerwurst pork beer salami category: Meat Poultry)\n",
      "(show food: Pork cooked ground fresh category: Meat Poultry)\n",
      "(show food: Campbell's Pork and Beans category: Meat Poultry)\n",
      "(show food: Pork raw backfat fresh category: Meat Poultry)\n",
      "(show food: Pork raw ground fresh category: Meat Poultry)\n",
      "(show food: Pork raw belly fresh category: Meat Poultry)\n",
      "(show food: Pork cooked separable fat fresh category: Meat Poultry)\n",
      "(show food: Pork raw separable fat fresh category: Meat Poultry)\n",
      "(show food: Cheesefurter beef pork cheese smokie category: Meat Poultry)\n",
      "(show food: Beerwurst pork and beef beer salami category: Meat Poultry)\n",
      "(show food: Macaroni and cheese loaf pork and beef chicken category: Meat Poultry)\n",
      "(show food: Pork sausage rice links cooked brown and serve category: Meat Poultry)\n",
      "(show food: Pork raw or unheated breakfast strips cured category: Meat Poultry)\n",
      "(show food: Pork raw separable lean and fat carcass fresh category: Meat Poultry)\n",
      "(show food: Pork raw separable lean and fat whole loin fresh category: Meat Poultry)\n",
      "(show food: HORMEL ALWAYS TENDER Fresh Pork Boneless Pork Loin category: Meat Poultry)\n",
      "(show food: Swisswurst smoked with swiss cheese pork and beef category: Meat Poultry)\n",
      "(show food: Sausage smoked with cheddar cheese pork and beef category: Meat Poultry)\n",
      "(show food: Pork loin lean only raw bone-in backribs fresh category: Meat Poultry)\n",
      "(show food: Pork raw separable lean and fat spareribs fresh category: Meat Poultry)\n",
      "(show food: Pork raw separable lean and fat backribs fresh category: Meat Poultry)\n",
      "(show food: HORMEL ALWAYS TENDER Fresh Pork Center Cut Chops category: Meat Poultry)\n",
      "(show food: Pork raw separable lean only whole loin fresh category: Meat Poultry)\n",
      "(show food: Pork raw separable lean and fat whole leg (ham) fresh category: Meat Poultry)\n",
      "(show food: Pork raw separable lean and fat whole shoulder fresh category: Meat Poultry)\n",
      "(show food: OSCAR MAYER Smokies Sausage Little Cheese (pork turkey) category: Meat Poultry)\n",
      "(show food: Pork raw separable lean only whole leg (ham) fresh category: Meat Poultry)\n",
      "(show food: Pork raw separable lean only tenderloin loin fresh category: Meat Poultry)\n",
      "(show food: Pork raw separable lean only whole shoulder fresh category: Meat Poultry)\n",
      "(show food: Pork raw separable lean only shank half leg (ham) fresh category: Meat Poultry)\n",
      "(show food: Pork raw separable lean and fat shank half leg (ham) fresh category: Meat Poultry)\n",
      "(show food: Pork roasted cooked separable lean and fat spareribs fresh category: Meat Poultry)\n",
      "(show food: Pork raw separable lean only country-style ribs loin fresh category: Meat Poultry)\n",
      "(show food: Pork braised cooked separable lean and fat spareribs fresh category: Meat Poultry)\n",
      "(show food: Pork raw separable lean and fat arm picnic shoulder fresh category: Meat Poultry)\n",
      "(show food: Pork raw separable lean and fat rump half leg (ham) fresh category: Meat Poultry)\n",
      "(show food: Pork loin lean only cooked-roasted bone-in backribs fresh category: Meat Poultry)\n",
      "(show food: Pork roasted cooked separable lean and fat backribs fresh category: Meat Poultry)\n",
      "(show food: Pork braised cooked separable lean only whole loin fresh category: Meat Poultry)\n",
      "(show food: Pork roasted cooked separable lean only whole loin fresh category: Meat Poultry)\n",
      "(show food: Pork broiled cooked separable lean only whole loin fresh category: Meat Poultry)\n",
      "(show food: Potsticker or wonton unprepared frozen pork and vegetable category: Meat Poultry)\n",
      "(show food: Pork raw separable lean only arm picnic shoulder fresh category: Meat Poultry)\n",
      "(show food: Pork raw separable lean only rump half leg (ham) fresh category: Meat Poultry)\n",
      "(show food: Sausage with cheddar cheese sticks pork and beef summer category: Meat Poultry)\n",
      "(show food: Pork raw separable lean and fat tenderloin loin fresh category: Meat Poultry)\n",
      "(show food: Pork braised cooked separable lean and fat whole loin fresh category: Meat Poultry)\n",
      "(show food: Pork raw separable lean only boneless top loin (chops) loin fresh category: Meat Poultry)\n",
      "(show food: Pork roasted cooked separable lean and fat whole leg (ham) fresh category: Meat Poultry)\n",
      "(show food: Pork roasted cooked separable lean and fat tenderloin loin fresh category: Meat Poultry)\n",
      "(show food: Pork broiled cooked separable lean and fat tenderloin loin fresh category: Meat Poultry)\n",
      "(show food: Pork roasted cooked separable lean and fat whole shoulder fresh category: Meat Poultry)\n",
      "(show food: Pork cooked with added solution composite of separable fat fresh category: Meat Poultry)\n",
      "(show food: Pork roasted cooked separable lean only whole leg (ham) fresh category: Meat Poultry)\n",
      "(show food: Pork roasted cooked separable lean only tenderloin loin fresh category: Meat Poultry)\n",
      "(show food: Pork broiled cooked separable lean only tenderloin loin fresh category: Meat Poultry)\n",
      "(show food: Pork roasted cooked separable lean only whole shoulder fresh category: Meat Poultry)\n",
      "(show food: Pork raw separable lean and fat country-style ribs loin fresh category: Meat Poultry)\n",
      "(show food: Pork raw separable lean only tenderloin loin enhanced fresh category: Meat Poultry)\n",
      "(show food: Pork raw with added solution composite of separable fat fresh category: Meat Poultry)\n",
      "(show food: Pork roasted cooked separable lean and fat whole loin fresh category: Meat Poultry)\n",
      "(show food: Pork broiled cooked separable lean and fat whole loin fresh category: Meat Poultry)\n",
      "(show food: Pork raw separable lean and fat boneless center loin (chops) loin fresh category: Meat Poultry)\n",
      "(show food: Pork braised cooked separable lean only bone-in center rib (chops) loin fresh category: Meat Poultry)\n",
      "(show food: Pork roasted cooked separable lean only boneless top loin (roasts) loin fresh category: Meat Poultry)\n",
      "(show food: Pork roasted cooked bone-in separable lean only country-style ribs loin fresh category: Meat Poultry)\n",
      "(show food: Pork roasted cooked separable lean and fat boneless blade (roasts) loin fresh category: Meat Poultry)\n",
      "(show food: Pork roasted cooked separable lean and fat bone-in blade (roasts) loin fresh category: Meat Poultry)\n",
      "(show food: Pork raw separable lean and fat boneless sirloin (chops or roasts) loin fresh category: Meat Poultry)\n",
      "(show food: Pork roasted cooked separable lean only boneless sirloin (roasts) loin fresh category: Meat Poultry)\n",
      "(show food: Pork raw separable lean only boneless center rib (chops or roasts) loin fresh category: Meat Poultry)\n",
      "(show food: Pork broiled cooked separable lean only boneless top loin (chops) loin fresh category: Meat Poultry)\n",
      "(show food: Pork braised cooked separable lean only boneless top loin (chops) loin fresh category: Meat Poultry)\n",
      "(show food: Pork roasted cooked separable lean only boston (roasts) blade shoulder fresh category: Meat Poultry)\n",
      "(show food: Pork broiled cooked separable lean only boston (steaks) blade shoulder fresh category: Meat Poultry)\n",
      "(show food: Pork raw separable lean and fat bone-in sirloin (chops or roasts) loin fresh category: Meat Poultry)\n",
      "(show food: Pork roasted cooked separable lean only bone-in sirloin (roasts) loin fresh category: Meat Poultry)\n",
      "(show food: Pork broiled cooked separable lean and fat bone-in blade (chops) loin fresh category: Meat Poultry)\n",
      "(show food: Pork broiled cooked separable lean only boneless sirloin (chops) loin fresh category: Meat Poultry)\n",
      "(show food: Pork braised cooked separable lean only boneless sirloin (chops) loin fresh category: Meat Poultry)\n",
      "(show food: Pork raw separable lean only bone-in center rib (chops or roasts) loin fresh category: Meat Poultry)\n",
      "(show food: Pork braised cooked separable lean and fat bone-in blade (chops) loin fresh category: Meat Poultry)\n",
      "(show food: Pork braised cooked separable lean only bone-in sirloin (chops) loin fresh category: Meat Poultry)\n",
      "(show food: Pork broiled cooked separable lean only bone-in sirloin (chops) loin fresh category: Meat Poultry)\n",
      "(show food: Pork roasted cooked separable lean only boneless blade (roasts) loin fresh category: Meat Poultry)\n",
      "(show food: Pork raw separable lean and fat blade (steaks) (Boston butt) shoulder fresh category: Meat Poultry)\n",
      "(show food: Pork pan-fried cooked separable lean only bone-in blade (chops) loin fresh category: Meat Poultry)\n",
      "(show food: Pork roasted cooked separable lean only bone-in blade (roasts) loin fresh category: Meat Poultry)\n",
      "(show food: Pork raw separable lean only boneless sirloin (chops or roasts) loin fresh category: Meat Poultry)\n",
      "(show food: Pork raw separable lean and fat bone-in blade (chops or roasts) loin fresh category: Meat Poultry)\n",
      "(show food: Pork raw separable lean only bone-in sirloin (chops or roasts) loin fresh category: Meat Poultry)\n",
      "(show food: Pork braised cooked separable lean only bone-in blade (chops) loin fresh category: Meat Poultry)\n",
      "(show food: Pork broiled cooked separable lean only bone-in blade (chops) loin fresh category: Meat Poultry)\n",
      "(show food: Pork raw with added solution separable lean and fat tenderloin loin fresh category: Meat Poultry)\n",
      "(show food: Pork raw separable lean only boneless blade (chops or roasts) loin fresh category: Meat Poultry)\n",
      "(show food: Pork broiled cooked separable lean and fat boneless (chops) blade fresh category: Meat Poultry)\n",
      "(show food: Pork raw separable lean only blade (steaks) (Boston butt) shoulder fresh category: Meat Poultry)\n",
      "(show food: Pork braised cooked separable lean and fat country-style ribs loin fresh category: Meat Poultry)\n",
      "(show food: Pork raw separable lean only bone-in blade (chops or roasts) loin fresh category: Meat Poultry)\n",
      "(show food: Pork raw separable lean and fat bone-in center loin (chops) loin fresh category: Meat Poultry)\n",
      "(show food: Pork roasted cooked separable lean and fat shank half leg (ham) fresh category: Meat Poultry)\n",
      "(show food: Pork raw separable lean and fat boneless top loin (roasts) loin fresh category: Meat Poultry)\n",
      "(show food: Pork braised cooked separable lean only country-style ribs loin fresh category: Meat Poultry)\n",
      "(show food: Pork roasted cooked separable lean and fat arm picnic shoulder fresh category: Meat Poultry)\n",
      "(show food: Pork braised cooked separable lean and fat arm picnic shoulder fresh category: Meat Poultry)\n",
      "(show food: Pork roasted cooked separable lean and fat rump half leg (ham) fresh category: Meat Poultry)\n",
      "(show food: Pork raw separable lean only boneless center loin (chops) loin fresh category: Meat Poultry)\n",
      "(show food: Pork raw separable lean and fat boneless top loin (chops) loin fresh category: Meat Poultry)\n",
      "(show food: Pork raw separable lean only bone-in center loin (chops) loin fresh category: Meat Poultry)\n",
      "(show food: Pork roasted cooked separable lean only shank half leg (ham) fresh category: Meat Poultry)\n",
      "(show food: Pork raw separable lean only boneless top loin (roasts) loin fresh category: Meat Poultry)\n",
      "(show food: Pork braised cooked separable lean only arm picnic shoulder fresh category: Meat Poultry)\n",
      "(show food: Pork roasted cooked separable lean only arm picnic shoulder fresh category: Meat Poultry)\n",
      "(show food: Pork roasted cooked separable lean only rump half leg (ham) fresh category: Meat Poultry)\n",
      "(show food: Pork broiled cooked separable lean only bone-in center loin (chops) loin fresh category: Meat Poultry)\n",
      "(show food: Pork raw separable lean only composite of trimmed retail cuts (loin and shoulder blade) fresh category: Meat Poultry)\n",
      "(show food: Pork raw with added solution separable lean and fat boneless top loin (chops) loin fresh category: Meat Poultry)\n",
      "(show food: Pork raw separable lean only composite of trimmed retail cuts (leg loin shoulder) fresh category: Meat Poultry)\n",
      "(show food: Pork braised cooked separable lean and fat blade (steaks) (Boston butt) shoulder fresh category: Meat Poultry)\n",
      "(show food: Pork pan-broiled cooked separable lean and fat boneless center loin (chops) loin fresh category: Meat Poultry)\n",
      "(show food: Pork raw with added solution separable lean only boneless top loin (chops) loin fresh category: Meat Poultry)\n",
      "(show food: Pork roasted cooked with added solution separable lean and fat tenderloin loin fresh category: Meat Poultry)\n",
      "(show food: Pork pan-fried cooked separable lean and fat bone-in center loin (chops) loin fresh category: Meat Poultry)\n",
      "(show food: Pork broiled cooked boneless separable lean only boneless blade (chops) loin fresh category: Meat Poultry)\n",
      "(show food: Pork braised cooked separable lean only blade (steaks) (Boston butt) shoulder fresh category: Meat Poultry)\n",
      "(show food: Pork pan-fried cooked separable lean and fat boneless center rib (chops) loin fresh category: Meat Poultry)\n",
      "(show food: Pork pan-broiled cooked separable lean only boneless center loin (chops) loin fresh category: Meat Poultry)\n",
      "(show food: Pork roasted cooked separable lean and fat bone-in center loin (roasts) loin fresh category: Meat Poultry)\n",
      "(show food: Pork roasted cooked separable lean and fat boneless center rib (roasts) loin fresh category: Meat Poultry)\n",
      "(show food: Pork pan-fried cooked separable lean and fat bone-in center rib (chops) loin fresh category: Meat Poultry)\n",
      "(show food: Pork braised cooked separable lean and fat bone-in center loin (chops) loin fresh category: Meat Poultry)\n",
      "(show food: Pork broiled cooked separable lean and fat bone-in center loin (chops) loin fresh category: Meat Poultry)\n",
      "(show food: Pork roasted cooked with added solution separable lean only tenderloin loin fresh category: Meat Poultry)\n",
      "(show food: Pork braised cooked separable lean and fat boneless center rib (chops) loin fresh category: Meat Poultry)\n",
      "(show food: Pork broiled cooked separable lean and fat boneless center rib (chops) loin fresh category: Meat Poultry)\n",
      "(show food: Pork roasted cooked separable lean and fat bone-in center rib (roasts) loin fresh category: Meat Poultry)\n",
      "(show food: Pork broiled cooked boneless separable lean and fat country-style ribs loin fresh category: Meat Poultry)\n",
      "(show food: Pork roasted cooked boneless separable lean and fat country-style ribs loin fresh category: Meat Poultry)\n",
      "(show food: Pork pan-fried cooked separable lean and fat boneless top loin (chops) loin fresh category: Meat Poultry)\n",
      "(show food: Pork pan-fried cooked separable lean only bone-in center loin (chops) loin fresh category: Meat Poultry)\n",
      "(show food: Pork broiled cooked separable lean and fat bone-in center rib (chops) loin fresh category: Meat Poultry)\n",
      "(show food: Pork braised cooked separable lean and fat bone-in center rib (chops) loin fresh category: Meat Poultry)\n",
      "(show food: Pork roasted cooked separable lean and fat boneless top loin (roasts) loin fresh category: Meat Poultry)\n",
      "(show food: Pork pan-fried cooked separable lean only boneless center rib (chops) loin fresh category: Meat Poultry)\n",
      "(show food: Pork roasted cooked bone-in separable lean and fat country-style ribs loin fresh category: Meat Poultry)\n",
      "(show food: Pork broiled cooked bone-in separable lean and fat country-style ribs loin fresh category: Meat Poultry)\n",
      "(show food: Pork pan-fried cooked separable lean only bone-in center rib (chops) loin fresh category: Meat Poultry)\n",
      "(show food: Pork roasted cooked separable lean and fat boneless sirloin (roasts) loin fresh category: Meat Poultry)\n",
      "(show food: Pork raw separable lean and fat only boneless blade (chops or roasts) loin fresh category: Meat Poultry)\n",
      "(show food: Pork raw separable lean and fat boneless center rib (chops or roasts) loin fresh category: Meat Poultry)\n",
      "(show food: Pork roasted cooked separable lean only bone-in center loin (roasts) loin fresh category: Meat Poultry)\n",
      "(show food: Pork broiled cooked separable lean and fat boneless top loin (chops) loin fresh category: Meat Poultry)\n",
      "(show food: Pork braised cooked separable lean and fat boneless top loin (chops) loin fresh category: Meat Poultry)\n",
      "(show food: Pork roasted cooked separable lean only boneless center rib (roasts) loin fresh category: Meat Poultry)\n",
      "(show food: Pork roasted cooked separable lean and fat boston (roasts) blade shoulder fresh category: Meat Poultry)\n",
      "(show food: Pork broiled cooked separable lean and fat boston (steaks) blade shoulder fresh category: Meat Poultry)\n",
      "(show food: Pork roasted cooked separable lean only bone-in center rib (roasts) loin fresh category: Meat Poultry)\n",
      "(show food: Pork roasted cooked separable lean and fat bone-in sirloin (roasts) loin fresh category: Meat Poultry)\n",
      "(show food: Pork broiled cooked separable lean and fat boneless sirloin (chops) loin fresh category: Meat Poultry)\n",
      "(show food: Pork braised cooked separable lean and fat boneless sirloin (chops) loin fresh category: Meat Poultry)\n",
      "(show food: Pork roasted cooked boneless separable lean only country-style ribs loin fresh category: Meat Poultry)\n",
      "(show food: Pork broiled cooked boneless separable lean only country-style ribs loin fresh category: Meat Poultry)\n",
      "(show food: Pork raw separable lean and fat bone-in center rib (chops or roasts) loin fresh category: Meat Poultry)\n",
      "(show food: Pork braised cooked separable lean only bone-in center loin (chops) loin fresh category: Meat Poultry)\n",
      "(show food: Pork broiled cooked separable lean only boneless center rib (chops) loin fresh category: Meat Poultry)\n",
      "(show food: Pork braised cooked separable lean only boneless center rib (chops) loin fresh category: Meat Poultry)\n",
      "(show food: Pork pan-fried cooked separable lean only boneless top loin (chops) loin fresh category: Meat Poultry)\n",
      "(show food: Pork broiled cooked separable lean only bone-in center rib (chops) loin fresh category: Meat Poultry)\n",
      "(show food: Pork braised cooked separable lean and fat bone-in sirloin (chops) loin fresh category: Meat Poultry)\n",
      "(show food: Pork broiled cooked separable lean and fat bone-in sirloin (chops) loin fresh category: Meat Poultry)\n",
      "(show food: Pork pan-fried cooked separable lean and fat bone-in blade (chops) loin fresh category: Meat Poultry)\n",
      "(show food: Pork broiled cooked bone-in separable lean only country-style ribs loin fresh category: Meat Poultry)\n",
      "(show food: Pork raw separable lean and fat (includes cuts to be cured) and spareribs shoulder loin composite of trimmed leg fresh category: Meat Poultry)\n",
      "(show food: Pork braised cooked with added solution separable lean and fat blade (steaks) (Boston butt) shoulder fresh category: Meat Poultry)\n",
      "(show food: Pork cooked separable lean and fat composite of trimmed retail cuts (leg loin shoulder and spareribs) fresh category: Meat Poultry)\n",
      "(show food: Pork pan-broiled cooked with added solution separable lean and fat boneless top loin (chops) loin fresh category: Meat Poultry)\n",
      "(show food: Pork raw separable lean and fat composite of trimmed retail cuts (leg loin shoulder and spareribs) fresh category: Meat Poultry)\n",
      "(show food: Pork braised with added solution cooked separable lean only blade (steaks) (Boston butt) shoulder fresh category: Meat Poultry)\n",
      "(show food: Pork pan-broiled cooked with added solution separable lean only boneless top loin (chops) loin fresh category: Meat Poultry)\n",
      "(show food: Pork broiled cooked with added solution separable lean and fat boneless top loin (chops) loin fresh category: Meat Poultry)\n",
      "(show food: Pork broiled cooked with added solution separable lean only boneless top loin (chops) loin fresh category: Meat Poultry)\n",
      "(show food: Pork cooked separable lean and fat composite of trimmed retail cuts (loin and shoulder blade) fresh category: Meat Poultry)\n",
      "(show food: Pork rawwith added solution separable lean and fat blade (steaks) (Boston butt) shoulder fresh category: Meat Poultry)\n",
      "(show food: Pork cooked separable lean only composite of trimmed retail cuts (leg loin and shoulder) fresh category: Meat Poultry)\n",
      "(show food: Pork raw separable lean and fat composite of trimmed retail cuts (loin and shoulder blade) fresh category: Meat Poultry)\n",
      "(show food: Pork cooked separable lean only composite of trimmed retail cuts (loin and shoulder blade) fresh category: Meat Poultry)\n",
      "(show food: Pork raw with added solution separable lean only blade (steaks) (Boston butt) shoulder fresh category: Meat Poultry)\n"
     ]
    }
   ],
   "source": [
    "keyword = 'pork'\n",
    "print(f\"Categories of foods containing '{keyword}':\")\n",
    "df = change_categories(df, keyword, \"Meat Poultry\", True, [])"
   ]
  },
  {
   "cell_type": "code",
   "execution_count": 220,
   "id": "a9544823",
   "metadata": {},
   "outputs": [
    {
     "name": "stdout",
     "output_type": "stream",
     "text": [
      "Categories of foods containing 'beef':\n",
      "(show food: Honey roll sausage beef category: Meat Poultry)\n",
      "(show food: Babyfood strained carrots and beef category: Meat Poultry)\n",
      "(show food: Fast foods with beans and beef burrito category: Meat Poultry)\n",
      "(show food: Rice and vermicelli mix unprepared beef flavor category: Meat Poultry)\n",
      "(show food: Beef raw or unheated breakfast strips cured category: Meat Poultry)\n",
      "(show food: Fast foods soft cheese and lettuce taco with beef category: Meat Poultry)\n",
      "(show food: TACO BELL cheese and lettuce Soft Taco with beef category: Meat Poultry)\n",
      "(show food: Babyfood strained macaroni and tomato and beef dinner category: Meat Poultry)\n",
      "(show food: Babyfood junior macaroni and tomato and beef dinner category: Meat Poultry)\n",
      "(show food: TACO BELL cheese and lettuce Original Taco with beef category: Meat Poultry)\n",
      "(show food: ON THE BORDER cheese and lettuce soft taco with ground beef category: Meat Poultry)\n",
      "(show food: Fast foods hard shell cheese and lettuce taco with beef category: Meat Poultry)\n",
      "(show food: Restaurant cheese and lettuce soft taco with ground beef Mexican category: Meat Poultry)\n",
      "(show food: Rice and vermicelli mix prepared with 80% margarine beef flavor category: Meat Poultry)\n"
     ]
    }
   ],
   "source": [
    "keyword = 'beef'\n",
    "print(f\"Categories of foods containing '{keyword}':\")\n",
    "df = change_categories(df, keyword, \"Meat Poultry\", True, ['soup'])"
   ]
  },
  {
   "cell_type": "code",
   "execution_count": 221,
   "id": "2781add8",
   "metadata": {},
   "outputs": [
    {
     "name": "stdout",
     "output_type": "stream",
     "text": [
      "Categories of foods containing 'chicken':\n",
      "(show food: Babyfood junior broccoli and chicken dinner category: Meat Poultry)\n",
      "(show food: TACO BELL cheese and lettuce Soft Taco with chicken category: Meat Poultry)\n",
      "(show food: Babyfood junior noodles and chicken vegetables dinner category: Meat Poultry)\n",
      "(show food: Fast foods soft lettuce and cheese taco with chicken category: Meat Poultry)\n",
      "(show food: Babyfood strained noodles and chicken vegetables dinner category: Meat Poultry)\n",
      "(show food: Fast Foods with lettuce and mayonnaise crispy chicken filet sandwich category: Meat Poultry)\n",
      "(show food: HOT POCKETS frozen and Cheddar Stuffed Sandwich Broccoli CROISSANT POCKETS Chicken category: Meat Poultry)\n",
      "(show food: Rice bowl with chicken prepared (includes fried teriyaki and sweet and sour varieties) frozen entree category: Meat Poultry)\n"
     ]
    }
   ],
   "source": [
    "keyword = 'chicken'\n",
    "print(f\"Categories of foods containing '{keyword}':\")\n",
    "df = change_categories(df, keyword, \"Meat Poultry\", True, ['flavor', 'soup', 'broth'])"
   ]
  },
  {
   "cell_type": "code",
   "execution_count": 222,
   "id": "8e7e06c6",
   "metadata": {},
   "outputs": [
    {
     "name": "stdout",
     "output_type": "stream",
     "text": [
      "Categories of foods containing 'sausage':\n",
      "(show food: McDONALD'S Egg & Cheese McGRIDDLES Sausage category: Meat Poultry)\n",
      "(show food: Sausage egg and cheese breakfast biscuit category: Meat Poultry)\n",
      "(show food: Fast foods with cheese and sausage english muffin category: Meat Poultry)\n",
      "(show food: BURGER KING CROISSAN'WICH with Sausage and Cheese category: Meat Poultry)\n",
      "(show food: MORNINGSTAR FARMS Breakfast Biscuit Sausage unprepared frozen Egg & Cheese category: Meat Poultry)\n",
      "(show food: JIMMY DEAN unprepared frozen and Cheese Breakfast Biscuit Egg Sausage category: Meat Poultry)\n",
      "(show food: MORNINGSTAR FARMS Breakfast Sandwich Veggie Sausage Egg & Cheese English Muffin unprepared frozen category: Meat Poultry)\n"
     ]
    }
   ],
   "source": [
    "keyword = 'sausage'\n",
    "print(f\"Categories of foods containing '{keyword}':\")\n",
    "df = change_categories(df, keyword, \"Meat Poultry\", True, [])"
   ]
  },
  {
   "cell_type": "code",
   "execution_count": 223,
   "id": "24a51d39",
   "metadata": {},
   "outputs": [
    {
     "name": "stdout",
     "output_type": "stream",
     "text": [
      "Categories of foods containing 'lamb':\n",
      "(show food: Lambsquarters raw category: Meat Poultry)\n",
      "(show food: Lambsquarters raw (Northern Plains Indians) category: Meat Poultry)\n",
      "(show food: Lamb raw tongue - swiss cut imported New Zealand category: Meat Poultry)\n",
      "(show food: Lamb soaked and simmered cooked tongue - swiss cut imported New Zealand category: Meat Poultry)\n"
     ]
    }
   ],
   "source": [
    "keyword = 'lamb'\n",
    "print(f\"Categories of foods containing '{keyword}':\")\n",
    "df = change_categories(df, keyword, \"Meat Poultry\", True, [])"
   ]
  },
  {
   "cell_type": "code",
   "execution_count": 224,
   "id": "b788a45c",
   "metadata": {},
   "outputs": [
    {
     "name": "stdout",
     "output_type": "stream",
     "text": [
      "Categories of foods containing 'turkey':\n",
      "(show food: Ground turkey raw category: Meat Poultry)\n",
      "(show food: Turkey deli cut rotisserie white category: Meat Poultry)\n",
      "(show food: Babyfood strained green beans and turkey category: Meat Poultry)\n",
      "(show food: Babyfood strained vegetables and noodles and turkey dinner category: Meat Poultry)\n",
      "(show food: Babyfood junior vegetables and noodles and turkey dinner category: Meat Poultry)\n"
     ]
    }
   ],
   "source": [
    "keyword = 'turkey'\n",
    "print(f\"Categories of foods containing '{keyword}':\")\n",
    "df = change_categories(df, keyword, \"Meat Poultry\", True, [])"
   ]
  },
  {
   "cell_type": "code",
   "execution_count": 225,
   "id": "436b4698",
   "metadata": {},
   "outputs": [
    {
     "name": "stdout",
     "output_type": "stream",
     "text": [
      "Categories of foods containing 'venison':\n",
      "(show food: Deer (venison) raw (Alaska Native) sitka category: Meat Poultry)\n"
     ]
    }
   ],
   "source": [
    "keyword = 'venison'\n",
    "print(f\"Categories of foods containing '{keyword}':\")\n",
    "df = change_categories(df, keyword, \"Meat Poultry\", True, [])"
   ]
  },
  {
   "cell_type": "code",
   "execution_count": 226,
   "id": "94bda99d",
   "metadata": {},
   "outputs": [
    {
     "name": "stdout",
     "output_type": "stream",
     "text": [
      "Categories of foods containing 'steak':\n",
      "(show food: WORTHINGTON Vegetable Steaks unprepared canned category: Meat Poultry)\n",
      "(show food: Buffalo raw (Shoshone Bannock) top round steak free range category: Meat Poultry)\n",
      "(show food: SUBWAY lettuce and tomato steak & cheese sub on white bread with American cheese category: Meat Poultry)\n",
      "(show food: Fast foods lettuce and tomato steak and cheese on white bread with cheese submarine sandwich category: Meat Poultry)\n"
     ]
    }
   ],
   "source": [
    "keyword = 'steak'\n",
    "print(f\"Categories of foods containing '{keyword}':\")\n",
    "df = change_categories(df, keyword, \"Meat Poultry\", True, ['soups'])"
   ]
  },
  {
   "cell_type": "code",
   "execution_count": 227,
   "id": "aae62cd2",
   "metadata": {},
   "outputs": [
    {
     "name": "stdout",
     "output_type": "stream",
     "text": [
      "Categories of foods containing 'apple':\n",
      "(food: APPLEBEE'S Double Crunch Shrimp category: Fish Seafood)\n",
      "(food: Babyfood dry rice and apples category: Grains)\n",
      "(food: APPLEBEE'S 9 oz house sirloin steak category: Meat Poultry)\n",
      "(food: APPLEBEE'S chicken tenders platter category: Meat Poultry)\n",
      "(food: APPLEBEE'S from kids' menu chicken tenders category: Meat Poultry)\n",
      "(food: Babyfood apple and sweet potato fruit and vegetable category: Soups)\n",
      "(food: Pineapple solids and liquids heavy syrup pack canned category: Desserts)\n",
      "(food: Pineapple solids and liquids light syrup pack canned category: Desserts)\n",
      "(food: APPLEBEE'S from kid's menu Macaroni & Cheese KRAFT category: Grains)\n",
      "(food: Pineapple solids and liquids extra heavy syrup pack canned category: Desserts)\n",
      "(food: Cereals ready-to-eat KELLOGG'S APPLE JACKS with marshmallows category: Desserts)\n",
      "(food: Babyfood instant fortified dry rice with pears and apple cereal category: Grains)\n"
     ]
    }
   ],
   "source": [
    "keyword = 'apple'\n",
    "print(f\"Categories of foods containing '{keyword}':\")\n",
    "df = change_categories(df, keyword, \"Fruits\", False, [])"
   ]
  },
  {
   "cell_type": "code",
   "execution_count": 228,
   "id": "567f8f50",
   "metadata": {},
   "outputs": [
    {
     "name": "stdout",
     "output_type": "stream",
     "text": [
      "Categories of foods containing 'oil':\n",
      "(show food: Oil corn and canola category: Fats Oils Shortenings)\n",
      "(show food: Oil cocoa butter category: Fats Oils Shortenings)\n",
      "(show food: Oil rice bran category: Fats Oils Shortenings)\n",
      "(show food: Oil avocado category: Fats Oils Shortenings)\n",
      "(show food: Oil and olive peanut corn category: Fats Oils Shortenings)\n",
      "(show food: Vegetable oil palm kernel category: Fats Oils Shortenings)\n",
      "(show food: Vegetable oil-butter spread reduced calorie category: Fats Oils Shortenings)\n",
      "(show food: Margarine-like tub fat-free vegetable oil spread category: Fats Oils Shortenings)\n",
      "(show food: Puddings with added oil instant dry mix banana category: Fats Oils Shortenings)\n",
      "(show food: Puddings with added oil regular dry mix banana category: Fats Oils Shortenings)\n",
      "(show food: Fast foods french fried in vegetable oil potato category: Fats Oils Shortenings)\n",
      "(show food: Margarine-like with salt 20% fat vegetable oil spread category: Fats Oils Shortenings)\n",
      "(show food: Snacks salt added white popcorn oil-popped popcorn category: Fats Oils Shortenings)\n",
      "(show food: Margarine tub 67-70% fat margarine-like vegetable oil spread category: Fats Oils Shortenings)\n",
      "(show food: Margarine-like with salt stick 60% fat vegetable oil spread category: Fats Oils Shortenings)\n",
      "(show food: Oil all purpose salad or cooking industrial and retail corn category: Fats Oils Shortenings)\n",
      "(show food: Milk with blend of hydrogenated vegetable oils fluid filled category: Fats Oils Shortenings)\n",
      "(show food: Margarine-like sweetened stick or tub vegetable oil spread category: Fats Oils Shortenings)\n",
      "(show food: Margarine-like with salt tub 60% fat vegetable oil spread category: Fats Oils Shortenings)\n",
      "(show food: Margarine-like without salt 20% fat vegetable oil spread category: Fats Oils Shortenings)\n",
      "(show food: Margarine-like with salt tub vegetable oil-butter spread category: Fats Oils Shortenings)\n",
      "(show food: Margarine-like with salt liquid fat free vegetable oil spread category: Fats Oils Shortenings)\n",
      "(show food: Margarine-like with added vitamin D with salt tub 60% fat vegetable oil spread category: Fats Oils Shortenings)\n",
      "(show food: Margarine includes regular and hydrogenated corn and soybean oils stick 80% fat category: Fats Oils Shortenings)\n",
      "(show food: Creamy dressing reduced calorie made with sour cream and/or buttermilk and oil category: Fats Oils Shortenings)\n",
      "(show food: Margarine-like without salt stick/tub/bottle 60% fat vegetable oil spread category: Fats Oils Shortenings)\n",
      "(show food: Margarine-like with salt tub reduced calorie vegetable oil-butter spread category: Fats Oils Shortenings)\n",
      "(show food: Oil high oleic (70%) non trans high stability Natreon canola vegetable category: Fats Oils Shortenings)\n",
      "(show food: Margarine-like with salt stick/tub/bottle 60% fat vegetable oil spread category: Fats Oils Shortenings)\n",
      "(show food: Cream substitute with hydrogenated vegetable oil and soy protein liquid category: Fats Oils Shortenings)\n",
      "(show food: Creamy dressing cholesterol-free reduced calorie made with sour cream and/or buttermilk and oil category: Fats Oils Shortenings)\n",
      "(show food: Creamy dressing fat-free reduced calorie made with sour cream and/or buttermilk and oil category: Fats Oils Shortenings)\n",
      "(show food: Margarine-like with salt approximately 37% fat unspecified oils vegetable oil spread category: Fats Oils Shortenings)\n",
      "(show food: Oil uses similar to high quality cocoa butter confection fat palm kernel industrial category: Fats Oils Shortenings)\n",
      "(show food: Oil used for whipped toppings and coffee whiteners coconut (hydrogenated) industrial category: Fats Oils Shortenings)\n",
      "(show food: Margarine-like with added vitamin D with salt stick 60% fat vegetable oil spread category: Fats Oils Shortenings)\n",
      "(show food: Margarine-like with added vitamin D with salt unspecified oils approximately 37% fat vegetable oil spread category: Fats Oils Shortenings)\n",
      "(show food: Margarine stick soybean and partially hydrogenated soybean 70% fat margarine-type vegetable oil spread category: Fats Oils Shortenings)\n",
      "(show food: Spanish rice mix prepared (with canola/vegetable oil blend or diced tomatoes and margarine) dry mix category: Fats Oils Shortenings)\n",
      "(show food: Margarine-like with added vitamin D without salt stick/tub/bottle 60% fat vegetable oil spread category: Fats Oils Shortenings)\n"
     ]
    }
   ],
   "source": [
    "keyword = 'oil'\n",
    "print(f\"Categories of foods containing '{keyword}':\")\n",
    "df = change_categories(df, keyword.lower(), \"Fats Oils Shortenings\", True, ['fish', 'boiled', 'nuts', 'pork', 'boiling', 'Puddings', 'duck'])"
   ]
  },
  {
   "cell_type": "code",
   "execution_count": 229,
   "id": "2770f774",
   "metadata": {},
   "outputs": [
    {
     "name": "stdout",
     "output_type": "stream",
     "text": [
      "Categories of foods containing 'juice':\n",
      "(show food: Tangerine juice raw category: Drinks,Alcohol, Beverages)\n",
      "(show food: Acerola juice raw category: Drinks,Alcohol, Beverages)\n",
      "(show food: Orange juice raw category: Drinks,Alcohol, Beverages)\n",
      "(show food: Lemon juice raw category: Drinks,Alcohol, Beverages)\n",
      "(show food: Lime juice raw category: Drinks,Alcohol, Beverages)\n",
      "(show food: Orange Pineapple Juice Blend category: Drinks,Alcohol, Beverages)\n",
      "(show food: Grapefruit juice raw white category: Drinks,Alcohol, Beverages)\n",
      "(show food: Babyfood banana juice with low fat yogurt category: Drinks,Alcohol, Beverages)\n",
      "(show food: Grapefruit juice sweetened canned white category: Drinks,Alcohol, Beverages)\n",
      "(show food: Beverages canned pineapple and orange juice drink category: Drinks,Alcohol, Beverages)\n",
      "(show food: Grapefruit juice OCEAN SPRAY unsweetened bottled white category: Drinks,Alcohol, Beverages)\n",
      "(show food: Beverages canned pineapple and grapefruit juice drink category: Drinks,Alcohol, Beverages)\n",
      "(show food: Grapefruit juice unsweetened canned or bottled white category: Drinks,Alcohol, Beverages)\n",
      "(show food: Jams sweetened with fruit juice marmalades preserves category: Drinks,Alcohol, Beverages)\n",
      "(show food: Pineapple juice undiluted unsweetened frozen concentrate category: Drinks,Alcohol, Beverages)\n",
      "(show food: Beverages White Cranberry Strawberry Flavored Juice Drink OCEAN SPRAY category: Drinks,Alcohol, Beverages)\n",
      "(show food: Grapefruit juice undiluted unsweetened frozen concentrate white category: Drinks,Alcohol, Beverages)\n",
      "(show food: Pineapple juice diluted with 3 volume water unsweetened frozen concentrate category: Drinks,Alcohol, Beverages)\n",
      "(show food: Pineapple juice without added ascorbic acid unsweetened canned or bottled category: Drinks,Alcohol, Beverages)\n",
      "(show food: Pineapple juice with added ascorbic acid unsweetened canned or bottled category: Drinks,Alcohol, Beverages)\n",
      "(show food: Cranberry juice cocktail saccharin and corn sweetener with calcium low calorie bottled category: Drinks,Alcohol, Beverages)\n",
      "(show food: Pineapple juice C and E with added vitamins A unsweetened not from concentrate canned category: Drinks,Alcohol, Beverages)\n",
      "(show food: Grapefruit juice diluted with 3 volume water unsweetened frozen concentrate white category: Drinks,Alcohol, Beverages)\n",
      "(show food: Fruit cocktail solids and liquids juice pack canned (peach and pineapple and pear and grape and cherry) category: Drinks,Alcohol, Beverages)\n",
      "(show food: Fruit salad solids and liquids juice pack canned (peach and pear and apricot and pineapple and cherry) category: Drinks,Alcohol, Beverages)\n"
     ]
    }
   ],
   "source": [
    "keyword = 'juice'\n",
    "print(f\"Categories of foods containing '{keyword}':\")\n",
    "df = change_categories(df, keyword.lower(), \"Drinks,Alcohol, Beverages\", True, ['vegetable'])"
   ]
  },
  {
   "cell_type": "code",
   "execution_count": 230,
   "id": "34ef651c",
   "metadata": {},
   "outputs": [
    {
     "name": "stdout",
     "output_type": "stream",
     "text": [
      "Categories of foods containing 'soup':\n",
      "(show food: Soup dry cubed beef broth category: Soups)\n",
      "(show food: SMART SOUP Santa Fe Corn Chowder category: Soups)\n",
      "(show food: Soup ready to serve beef barley category: Soups)\n",
      "(show food: Soup condensed canned cheese category: Soups)\n",
      "(show food: Soup dry chicken broth cubes category: Soups)\n",
      "(show food: Soup mix dry chicken noodle category: Soups)\n",
      "(show food: Soup condensed canned cream of shrimp category: Soups)\n",
      "(show food: Soup dry chicken flavor ramen noodle category: Soups)\n",
      "(show food: Soup lower sodium beef broth SWANSON category: Soups)\n",
      "(show food: Soup canned low sodium chicken broth category: Soups)\n",
      "(show food: Soup condensed canned chicken noodle category: Soups)\n",
      "(show food: Soup condensed canned chicken gumbo category: Soups)\n",
      "(show food: Soup condensed canned chicken broth category: Soups)\n",
      "(show food: Soup condensed canned beef mushroom category: Soups)\n",
      "(show food: Soup dry chicken broth or bouillon category: Soups)\n",
      "(show food: Soup dry beef flavor ramen noodle category: Soups)\n",
      "(show food: Soup condensed canned beef noodle category: Soups)\n",
      "(show food: Soup condensed canned tomato rice category: Soups)\n",
      "(show food: Soup condensed canned chili beef category: Soups)\n",
      "(show food: Soup ready-to-serve chicken broth category: Soups)\n",
      "(show food: Soup prepared with water cubed beef broth category: Soups)\n",
      "(show food: Soup ready-to-serve canned chunky turkey category: Soups)\n",
      "(show food: CAMPBELL'S condensed Cream of Chicken Soup category: Soups)\n",
      "(show food: Soup condensed canned cream of asparagus category: Soups)\n",
      "(show food: Soup condensed canned chicken vegetable category: Soups)\n",
      "(show food: Soup condensed canned chicken with rice category: Soups)\n",
      "(show food: CAMPBELL'S Low Sodium Soups Chicken Broth category: Soups)\n",
      "(show food: CAMPBELL'S condensed Cheddar Cheese Soup category: Soups)\n",
      "(show food: Soup condensed canned cream of chicken category: Soups)\n",
      "(show food: Soup ready-to-serve canned chunky beef category: Soups)\n",
      "(show food: Soup dry powder beef broth or bouillon category: Soups)\n",
      "(show food: Soup condensed canned chicken mushroom category: Soups)\n",
      "(show food: Soup SWANSON Chicken Broth 99% Fat Free category: Soups)\n",
      "(show food: Babyfood strained chicken soup dinner category: Soups)\n",
      "(show food: Soup condensed canned cream of celery category: Soups)\n",
      "(show food: HEALTHY REQUEST condensed Cream of Celery Soup category: Soups)\n",
      "(show food: CAMPBELL'S Homestyle Potato Broccoli Cheese Soup category: Soups)\n",
      "(show food: Soup condensed canned tomato beef with noodle category: Soups)\n",
      "(show food: CAMPBELL'S CHUNKY Soups Hearty Beef Barley Soup category: Soups)\n",
      "(show food: Soup chunk style low sodium beef and mushroom category: Soups)\n",
      "(show food: SUNSHINE Soup & Oyster Crackers (large) KRISPY category: Soups)\n",
      "(show food: Soup canned HEALTHY CHOICE Chicken Noodle Soup category: Soups)\n",
      "(show food: CAMPBELL'S Soup on the Go Creamy Broccoli Soup category: Soups)\n",
      "(show food: CAMPBELL'S Soup on the Go Chicken & Stars Soup category: Soups)\n",
      "(show food: Soup single brand condensed bean with bacon category: Soups)\n",
      "(show food: CAMPBELL'S CHUNKY Soups Savory Pot Roast Soup category: Soups)\n",
      "(show food: CAMPBELL'S CHUNKY Classic Chicken Noodle Soup category: Soups)\n",
      "(show food: CAMPBELL'S CHUNKY Soups Steak 'N' Potato Soup category: Soups)\n",
      "(show food: CAMPBELL'S Soup on the Go Creamy Chicken Soup category: Soups)\n",
      "(show food: CAMPBELL'S condensed Chicken with Rice Soup category: Soups)\n",
      "(show food: Soup ready-to-serve chunky canned chicken category: Soups)\n",
      "(show food: CAMPBELL'S CHUNKY Soups Chicken Corn Chowder category: Soups)\n",
      "(show food: Soup ready-to-serve canned chunky chicken noodle category: Soups)\n",
      "(show food: Soup prepared with water mix dry cream of chicken category: Soups)\n",
      "(show food: CAMPBELL'S Red and White condensed Beef Noodle Soup category: Soups)\n",
      "(show food: CAMPBELL'S condensed Homestyle Chicken Noodle Soup category: Soups)\n",
      "(show food: Soup commercial condensed canned broccoli cheese category: Soups)\n",
      "(show food: CAMPBELL'S CHUNKY Creamy Chicken and Dumplings Soup category: Soups)\n",
      "(show food: Soup ready-to-serve beef broth or bouillon canned category: Soups)\n",
      "(show food: Soup ready-to-serve canned chicken and vegetable category: Soups)\n",
      "(show food: Soup prepared with water mix dry chicken noodle category: Soups)\n",
      "(show food: Soup prepared with water dry chicken broth cubes category: Soups)\n",
      "(show food: Soup ready-to-serve chunky canned chicken rice category: Soups)\n",
      "(show food: Soup canned HEALTHY CHOICE Chicken and Rice Soup category: Soups)\n",
      "(show food: Soup condensed canned mushroom with beef stock category: Soups)\n",
      "(show food: Soup ready-to-serve canned beef and vegetables category: Soups)\n",
      "(show food: CAMPBELL'S CHUNKY Soups Beef with Country Vegetables Soup category: Soups)\n",
      "(show food: Soup prepared with equal volume water canned chili beef category: Soups)\n",
      "(show food: CAMPBELL'S condensed 98% Fat Free Cream of Broccoli Soup category: Soups)\n",
      "(show food: CAMPBELL'S Red and White condensed Chicken Alphabet Soup category: Soups)\n",
      "(show food: CAMPBELL'S condensed 98% Fat Free Cream of Chicken Soup category: Soups)\n",
      "(show food: CAMPBELL'S Red and White condensed Cream of Shrimp Soup category: Soups)\n",
      "(show food: Soup reduced sodium condensed canned cream of chicken category: Soups)\n",
      "(show food: Soup prepared with water powder beef broth or bouillon category: Soups)\n",
      "(show food: CAMPBELL'S condensed Chicken Noodle Soup Red and White category: Soups)\n",
      "(show food: CAMPBELL'S Soup on the Go Chicken with Mini Noodles Soup category: Soups)\n",
      "(show food: CAMPBELL'S Red and White condensed Bean with Bacon Soup category: Soups)\n",
      "(show food: Soup ready to serve traditional beef barley PROGRESSO category: Soups)\n",
      "(show food: CAMPBELL'S Red and White condensed Broccoli Cheese Soup category: Soups)\n",
      "(show food: Soup prepared with water dry chicken broth or bouillon category: Soups)\n",
      "(show food: Soup condensed canned beef broth bouillon and consomme category: Soups)\n",
      "(show food: CAMPBELL'S Red and White condensed Chicken Won Ton Soup category: Soups)\n",
      "(show food: CAMPBELL'S Red and White condensed Cream of Celery Soup category: Soups)\n",
      "(show food: Soup ready to serve less/reduced sodium chicken broth category: Soups)\n",
      "(show food: CAMPBELL'S condensed 98% Fat Free Cream of Celery Soup category: Soups)\n",
      "(show food: CAMPBELL'S condensed 98% Fat Free Broccoli Cheese Soup category: Soups)\n",
      "(show food: CAMPBELL'S Homestyle Mexican Style Chicken Tortilla Soup category: Soups)\n",
      "(show food: CAMPBELL'S Homestyle Chicken with White & Wild Rice Soup category: Soups)\n",
      "(show food: Soup single brand condensed canned cream of chicken category: Soups)\n",
      "(show food: CAMPBELL'S Red and White condensed Chicken Gumbo Soup category: Soups)\n",
      "(show food: CAMPBELL'S condensed Cream of Chicken with Herbs Soup category: Soups)\n",
      "(show food: Soup prepared with equal volume water canned cheese category: Soups)\n",
      "(show food: CAMPBELL'S CHUNKY Soups Roadhouse - Beef & Bean Chili category: Soups)\n",
      "(show food: CAMPBELL'S Low Sodium Soups Chicken with Noodles Soup category: Soups)\n",
      "(show food: CAMPBELL'S CHUNKY HEALTHY REQUEST Chicken Noodle Soup category: Soups)\n",
      "(show food: Soup ready to serve less/reduced sodium beef broth category: Soups)\n",
      "(show food: Soup prepared with equal volume milk canned cheese category: Soups)\n",
      "(show food: CAMPBELL'S Red and White condensed Chicken Vegetable Soup category: Soups)\n",
      "(show food: Soup prepared with equal volume water canned turkey vegetable category: Soups)\n",
      "(show food: Soup prepared with equal volume milk canned cream of chicken category: Soups)\n",
      "(show food: Soup prepared with equal volume water canned cream of shrimp category: Soups)\n",
      "(show food: CAMPBELL'S Red and White condensed Chicken and Dumplings Soup category: Soups)\n",
      "(show food: Soup prepared with equal volume water canned cream of celery category: Soups)\n",
      "(show food: CAMPBELL'S Red and White condensed Creamy Chicken Noodle Soup category: Soups)\n",
      "(show food: CAMPBELL'S Soup on the Go Cheesy Potato with Bacon Flavor Soup category: Soups)\n",
      "(show food: Soup prepared with equal volume milk canned cream of celery category: Soups)\n",
      "(show food: CAMPBELL'S CHUNKY Soups Slow Roasted Beef with Mushrooms Soup category: Soups)\n",
      "(show food: CAMPBELL'S CHUNKY Soups Grilled Steak- Steak Chili with Beans category: Soups)\n",
      "(show food: CAMPBELL'S CHUNKY Soups Baked Potato with Steak & Cheese Soup category: Soups)\n",
      "(show food: Soup prepared with equal volume water canned chicken noodle category: Soups)\n",
      "(show food: CAMPBELL'S CHUNKY Soups Fajita Chicken with Rice & Beans Soup category: Soups)\n",
      "(show food: CAMPBELL'S CHUNKY Soups Chicken Broccoli Cheese & Potato Soup category: Soups)\n",
      "(show food: Soup prepared with equal volume water canned beef mushroom category: Soups)\n",
      "(show food: Soup prepared with equal volume water canned chicken broth category: Soups)\n",
      "(show food: Soup prepared with equal volume water canned chicken gumbo category: Soups)\n",
      "(show food: CAMPBELL'S condensed cream of chicken soup HEALTHY REQUEST category: Soups)\n",
      "(show food: Soup prepared with equal volume water canned turkey noodle category: Soups)\n",
      "(show food: CAMPBELL'S CHUNKY Soups Grilled Chicken & Sausage Gumbo Soup category: Soups)\n",
      "(show food: CAMPBELL'S Red and White condensed Fiesta Nacho Cheese Soup category: Soups)\n",
      "(show food: CAMPBELL'S CHUNKY Soups Hearty Chicken with Vegetables Soup category: Soups)\n",
      "(show food: Soup ready-to-serve canned reduced sodium chicken noodle category: Soups)\n",
      "(show food: CAMPBELL'S Red and White condensed Cream of Asparagus Soup category: Soups)\n",
      "(show food: CAMPBELL'S Red and White condensed Chicken NOODLEO's Soup category: Soups)\n",
      "(show food: Soup ready-to-serve chunky style canned beef stroganoff category: Soups)\n",
      "(show food: CAMPBELL'S Red and White condensed Chicken and Stars Soup category: Soups)\n",
      "(show food: CAMPBELL'S CHUNKY Soups Beef with White and Wild Rice Soup category: Soups)\n",
      "(show food: CAMPBELL'S Red and White - Microwaveable Bowls Tomato Soup category: Soups)\n",
      "(show food: Soup prepared with equal volume water canned tomato rice category: Soups)\n",
      "(show food: Soup prepared with equal volume water canned beef noodle category: Soups)\n",
      "(show food: CAMPBELL'S Red and White condensed Cream of Broccoli Soup category: Soups)\n",
      "(show food: CAMPBELL'S HEALTHY REQUEST condensed Chicken Noodle Soup category: Soups)\n",
      "(show food: CAMPBELL'S condensed 25% Less Sodium Chicken Noodle Soup category: Soups)\n",
      "(show food: CAMPBELL'S Red and White condensed Chicken Barley with Mushrooms Soup category: Soups)\n",
      "(show food: Soup prepared with equal volume water canned tomato beef with noodle category: Soups)\n",
      "(show food: Soup single brand condensed canned beef with vegetables and barley category: Soups)\n",
      "(show food: CAMPBELL'S Red and White condensed Split Pea with Ham and Bacon Soup category: Soups)\n",
      "(show food: Soup prepared with equal volume water consomme bouillon beef broth category: Soups)\n",
      "(show food: Soup ready-to-serve chunky chicken vegetable with potato and cheese category: Soups)\n",
      "(show food: Soup single brand condensed canned chicken with star-shaped pasta category: Soups)\n",
      "(show food: CAMPBELL'S CHUNKY Soups Salisbury Steak with Mushrooms & Onions Soup category: Soups)\n",
      "(show food: CAMPBELL'S CHUNKY Soups Grilled Chicken with Vegetables & Pasta Soup category: Soups)\n",
      "(show food: CAMPBELL'S HEALTHY REQUEST condensed Homestyle Chicken Noodle Soup category: Soups)\n",
      "(show food: CAMPBELL'S CHUNKY Soups Baked Potato with Cheddar & Bacon Bits Soup category: Soups)\n",
      "(show food: Soup single brand ready-to-serve chunky chicken mushroom chowder category: Soups)\n",
      "(show food: Soup single brand condensed canned split pea with ham and bacon category: Soups)\n",
      "(show food: CAMPBELL'S Red and White - Microwaveable Bowls Chicken Noodle Soup category: Soups)\n",
      "(show food: CAMPBELL'S CHUNKY Soups Savory Chicken with White & Wild Rice Soup category: Soups)\n",
      "(show food: CAMPBELL'S Red and White - Microwaveable Bowls Vegetable Beef Soup category: Soups)\n",
      "(show food: CAMPBELL'S Red and White condensed Old Fashioned Tomato Rice Soup category: Soups)\n",
      "(show food: CAMPBELL'S CHUNKY Soups Beef Rib Roast with Potatoes & Herbs Soup category: Soups)\n",
      "(show food: CAMPBELL'S Red and White - Microwaveable Bowls Creamy Tomato Soup category: Soups)\n",
      "(show food: CAMPBELL'S CHUNKY Soups Firehouse - Hot & Spicy Beef & Bean Chili category: Soups)\n",
      "(show food: Soup prepared with equal volume water canned cream of asparagus category: Soups)\n",
      "(show food: Soup prepared with equal volume water canned chicken with rice category: Soups)\n",
      "(show food: CAMPBELL'S Red and White - Microwaveable Bowls Chicken Rice Soup category: Soups)\n",
      "(show food: Soup prepared with equal volume milk canned cream of asparagus category: Soups)\n",
      "(show food: Soup ready-to-serve canned reduced sodium beef and vegetables category: Soups)\n",
      "(show food: Soup prepared with equal volume water canned cream of chicken category: Soups)\n",
      "(show food: Soup single brand ready-to-serve chunky chicken corn chowder category: Soups)\n",
      "(show food: Soup prepared with equal volume water canned chicken mushroom category: Soups)\n",
      "(show food: CAMPBELL'S CHUNKY Microwavable Bowls ready-to-serve Chicken and Dumplings Soup category: Soups)\n",
      "(show food: CAMPBELL'S CHUNKY Soups Chicken Noodle Soup HEALTHY REQUEST Microwavable Bowls category: Soups)\n",
      "(show food: Soup prepared with equal volume low fat (2%) milk canned cream of shrimp category: Soups)\n",
      "(show food: Soup prepared with equal volume water canned low sodium chicken noodle category: Soups)\n",
      "(show food: CAMPBELL'S CHUNKY Soups Grilled Sirloin Steak with Hearty Vegetables Soup category: Soups)\n",
      "(show food: CAMPBELL'S Soup on the GO HEALTHY REQUEST Chicken with Mini Noodles Soup category: Soups)\n",
      "(show food: CAMPBELL'S Red and White condensed Beef with Vegetables and Barley Soup category: Soups)\n",
      "(show food: Soup prepared with equal volume water canned mushroom with beef stock category: Soups)\n",
      "(show food: CAMPBELL'S Homestyle HEALTHY REQUEST Chicken with Whole Grain Pasta Soup category: Soups)\n",
      "(show food: CAMPBELL'S CHUNKY Soups Grilled Chicken & Sausage Gumbo Soup HEALTHY REQUEST Microwavable Bowls category: Soups)\n",
      "(show food: Soup single brand ready-to-serve reduced sodium reduced fat chunky chicken vegetable category: Soups)\n",
      "(show food: CAMPBELL'S CHUNKY Microwavable Bowls ready-to-serve Beef with Country Vegetables Soup category: Soups)\n"
     ]
    }
   ],
   "source": [
    "keyword = 'soup'\n",
    "print(f\"Categories of foods containing '{keyword}':\")\n",
    "df = change_categories(df, keyword.lower(), \"Soups\", True, [])"
   ]
  },
  {
   "cell_type": "code",
   "execution_count": 231,
   "id": "e8739a28",
   "metadata": {},
   "outputs": [
    {
     "name": "stdout",
     "output_type": "stream",
     "text": [
      "Categories of foods containing 'fish':\n",
      "(show food: Fish raw (Alaska Native) Chum Salmon category: Fish Seafood)\n",
      "(show food: Fish raw (Alaska Native) sheefish category: Fish Seafood)\n",
      "(show food: Fish raw mixed species fresh water bass category: Fish Seafood)\n",
      "(show food: Fish raw (Alaska Native) meat lingcod category: Fish Seafood)\n",
      "(show food: Fish raw (Alaska Native) coho (silver) salmon category: Fish Seafood)\n",
      "(show food: Fish raw (Alaska Native) sockeye (red) salmon category: Fish Seafood)\n",
      "(show food: Fish raw (not previously frozen) Pacific cod category: Fish Seafood)\n",
      "(show food: Fish raw (Alaska Native) mixed species whitefish category: Fish Seafood)\n",
      "(show food: Fish raw (not previously frozen) Alaska pollock category: Fish Seafood)\n",
      "(show food: Fish raw (Alaska Native) king (chinook) salmon category: Fish Seafood)\n",
      "(show food: Fish raw (may have been previously frozen) Pacific cod category: Fish Seafood)\n",
      "(show food: Fish raw (may have been previously frozen) Alaska pollock category: Fish Seafood)\n"
     ]
    }
   ],
   "source": [
    "keyword = 'fish'\n",
    "print(f\"Categories of foods containing '{keyword}':\")\n",
    "df = change_categories(df, keyword.lower(), \"Fish Seafood\", True, ['pasta'])"
   ]
  },
  {
   "cell_type": "code",
   "execution_count": 232,
   "id": "d980c96b",
   "metadata": {},
   "outputs": [
    {
     "name": "stdout",
     "output_type": "stream",
     "text": [
      "Categories of foods containing 'tuna':\n"
     ]
    }
   ],
   "source": [
    "keyword = 'tuna'\n",
    "print(f\"Categories of foods containing '{keyword}':\")\n",
    "df = change_categories(df, keyword.lower(), \"Fish Seafood\", False, ['pasta'])"
   ]
  },
  {
   "cell_type": "code",
   "execution_count": 233,
   "id": "4c227944",
   "metadata": {},
   "outputs": [
    {
     "name": "stdout",
     "output_type": "stream",
     "text": [
      "Categories of foods containing 'Mussels':\n"
     ]
    }
   ],
   "source": [
    "keyword = 'Mussels'\n",
    "print(f\"Categories of foods containing '{keyword}':\")\n",
    "df = change_categories(df, keyword.lower(), \"Fish Seafood\", False, ['pasta'])"
   ]
  },
  {
   "cell_type": "code",
   "execution_count": 234,
   "id": "9569f81b",
   "metadata": {},
   "outputs": [
    {
     "name": "stdout",
     "output_type": "stream",
     "text": [
      "Categories of foods containing 'cake':\n",
      "(show food: Snacks corn cakes category: Desserts)\n",
      "(show food: Coffeecake cheese category: Desserts)\n",
      "(show food: Wheat flour enriched cake white category: Desserts)\n",
      "(show food: Snacks very low sodium corn cakes category: Desserts)\n",
      "(show food: KELLOGG Buttermilk Pancake KELLOGG'S EGGO category: Desserts)\n",
      "(show food: Pancakes prepared from recipe buttermilk category: Desserts)\n",
      "(show food: Pancakes incomplete dry mix whole-wheat category: Desserts)\n",
      "(show food: McDONALD'S Hotcakes (with 2 pats margarine & syrup) category: Desserts)\n",
      "(show food: Pancakes prepared incomplete dry mix whole-wheat category: Desserts)\n",
      "(show food: Cake prepared from recipe without frosting white category: Desserts)\n",
      "(show food: Cake prepared from recipe pineapple upside-down category: Desserts)\n",
      "(show food: Cake prepared from recipe with coconut frosting white category: Desserts)\n",
      "(show food: Cake special dietary (includes lemon-flavored) dry mix white category: Desserts)\n",
      "(show food: Cake butter (includes fresh and frozen) commercially prepared pound category: Desserts)\n"
     ]
    }
   ],
   "source": [
    "keyword = 'cake'\n",
    "print(f\"Categories of foods containing '{keyword}':\")\n",
    "df = change_categories(df, keyword.lower(), \"Desserts\", True, ['rice'])"
   ]
  },
  {
   "cell_type": "code",
   "execution_count": 235,
   "id": "c3ea90fc",
   "metadata": {},
   "outputs": [
    {
     "name": "stdout",
     "output_type": "stream",
     "text": [
      "Categories of foods containing 'Carrot':\n",
      "(show food: Carrots raw category: Vegetables)\n"
     ]
    }
   ],
   "source": [
    "keyword = 'Carrot'\n",
    "print(f\"Categories of foods containing '{keyword}':\")\n",
    "df = change_categories(df, keyword.lower(), \"Vegetables\", True, ['beef'])"
   ]
  },
  {
   "cell_type": "code",
   "execution_count": 236,
   "id": "3c722b13",
   "metadata": {},
   "outputs": [
    {
     "name": "stdout",
     "output_type": "stream",
     "text": [
      "Categories of foods containing 'Broccoli':\n",
      "(show food: Broccoli raw category: Vegetables)\n",
      "(show food: Babyfood toddlers mashed cheddar potatoes and broccoli category: Vegetables)\n"
     ]
    }
   ],
   "source": [
    "keyword = 'Broccoli'\n",
    "print(f\"Categories of foods containing '{keyword}':\")\n",
    "df = change_categories(df, keyword.lower(), \"Vegetables\", True, ['soup', 'chicken'])"
   ]
  },
  {
   "cell_type": "code",
   "execution_count": 237,
   "id": "d09fe5e2",
   "metadata": {},
   "outputs": [
    {
     "name": "stdout",
     "output_type": "stream",
     "text": [
      "Categories of foods containing 'Spinach':\n",
      "(show food: Spinach raw category: Vegetables)\n",
      "(show food: New Zealand spinach raw category: Vegetables)\n"
     ]
    }
   ],
   "source": [
    "keyword = 'Spinach'\n",
    "print(f\"Categories of foods containing '{keyword}':\")\n",
    "df = change_categories(df, keyword.lower(), \"Vegetables\", True, [])"
   ]
  },
  {
   "cell_type": "code",
   "execution_count": 238,
   "id": "ffcab13e",
   "metadata": {},
   "outputs": [
    {
     "name": "stdout",
     "output_type": "stream",
     "text": [
      "Categories of foods containing 'Potato':\n",
      "(show food: Potatoes skin raw category: Vegetables)\n",
      "(show food: Sweet potato leaves raw category: Vegetables)\n",
      "(show food: Sweet potato unprepared raw category: Vegetables)\n",
      "(show food: Potatoes baked flesh and skin white category: Vegetables)\n",
      "(show food: Potatoes raw flesh and skin white category: Vegetables)\n",
      "(show food: Sweet potato drained solids syrup pack canned category: Vegetables)\n",
      "(show food: Babyfood apple and sweet potato fruit and vegetable category: Vegetables)\n",
      "(show food: Sweet potato solids and liquids syrup pack canned category: Vegetables)\n",
      "(show food: Fast foods french fried in vegetable oil potato category: Vegetables)\n",
      "(show food: Potatoes prepared with butter sauce frozen hash brown category: Vegetables)\n",
      "(show food: Babyfood toddler potatoes with cheese and ham dinner category: Vegetables)\n",
      "(show food: Potatoes whole milk and margarine added home-prepared mashed category: Vegetables)\n",
      "(show food: Potatoes whole milk and butter added home-prepared mashed category: Vegetables)\n",
      "(show food: Potatoes unprepared with butter sauce frozen hash brown category: Vegetables)\n",
      "(show food: Potatoes unprepared frozen salt not added in processing steak cut french fried category: Vegetables)\n",
      "(show food: Potatoes as purchased frozen salt added in processing steak fries french fried category: Vegetables)\n",
      "(show food: Potatoes oven-heated frozen salt added in processing steak fries french fried category: Vegetables)\n",
      "(show food: Potatoes water and margarine added prepared from granules with milk dehydrated mashed category: Vegetables)\n",
      "(show food: Potatoes whole milk and margarine added prepared from flakes without milk dehydrated mashed category: Vegetables)\n",
      "(show food: Potatoes whole milk and butter added prepared from granules without milk dehydrated mashed category: Vegetables)\n",
      "(show food: Potatoes whole milk and butter added prepared from flakes without milk dehydrated mashed category: Vegetables)\n"
     ]
    }
   ],
   "source": [
    "keyword = 'Potato'\n",
    "print(f\"Categories of foods containing '{keyword}':\")\n",
    "df = change_categories(df, keyword.lower(), \"Vegetables\", True, ['flour','beef', 'soup'])"
   ]
  },
  {
   "cell_type": "code",
   "execution_count": 239,
   "id": "fbbad6b7",
   "metadata": {},
   "outputs": [
    {
     "name": "stdout",
     "output_type": "stream",
     "text": [
      "Categories of foods containing 'Cauliflower':\n",
      "(show food: Cauliflower raw category: Vegetables)\n"
     ]
    }
   ],
   "source": [
    "keyword = 'Cauliflower'\n",
    "print(f\"Categories of foods containing '{keyword}':\")\n",
    "df = change_categories(df, keyword.lower(), \"Vegetables\", True, [])"
   ]
  },
  {
   "cell_type": "code",
   "execution_count": 240,
   "id": "2f1af7c9",
   "metadata": {},
   "outputs": [
    {
     "name": "stdout",
     "output_type": "stream",
     "text": [
      "Categories of foods containing 'Pepper, raw, banana':\n"
     ]
    }
   ],
   "source": [
    "keyword = 'Pepper, raw, banana'\n",
    "print(f\"Categories of foods containing '{keyword}':\")\n",
    "df = change_categories(df, keyword.lower(), \"Vegetables\", True, [])"
   ]
  },
  {
   "cell_type": "code",
   "execution_count": 241,
   "id": "a68f3921",
   "metadata": {},
   "outputs": [
    {
     "name": "stdout",
     "output_type": "stream",
     "text": [
      "Categories of foods containing 'Cucumber':\n",
      "(show food: Pickles sweet (includes bread and butter pickles) cucumber category: Vegetables)\n",
      "(show food: Pickles low sodium (includes bread and butter pickles) sweet cucumber category: Vegetables)\n"
     ]
    }
   ],
   "source": [
    "keyword = 'Cucumber'\n",
    "print(f\"Categories of foods containing '{keyword}':\")\n",
    "df = change_categories(df, keyword.lower(), \"Vegetables\", True, [])"
   ]
  },
  {
   "cell_type": "code",
   "execution_count": 242,
   "id": "8ac8cddb",
   "metadata": {},
   "outputs": [
    {
     "name": "stdout",
     "output_type": "stream",
     "text": [
      "Categories of foods containing 'Eggplant':\n",
      "(show food: Eggplant raw category: Vegetables)\n"
     ]
    }
   ],
   "source": [
    "keyword = 'Eggplant'\n",
    "print(f\"Categories of foods containing '{keyword}':\")\n",
    "df = change_categories(df, keyword.lower(), \"Vegetables\", True, [])"
   ]
  },
  {
   "cell_type": "code",
   "execution_count": 243,
   "id": "1c2a4d6c",
   "metadata": {},
   "outputs": [
    {
     "name": "stdout",
     "output_type": "stream",
     "text": [
      "Categories of foods containing 'Asparagus':\n",
      "(show food: Asparagus raw category: Vegetables)\n"
     ]
    }
   ],
   "source": [
    "keyword = 'Asparagus'\n",
    "print(f\"Categories of foods containing '{keyword}':\")\n",
    "df = change_categories(df, keyword.lower(), \"Vegetables\", True, ['soup'])"
   ]
  },
  {
   "cell_type": "code",
   "execution_count": 244,
   "id": "375e0cd3",
   "metadata": {},
   "outputs": [
    {
     "name": "stdout",
     "output_type": "stream",
     "text": [
      "Categories of foods containing 'beans':\n",
      "(show food: Beans canned mature seeds white category: Vegetables)\n",
      "(show food: Beans raw mature seeds white category: Vegetables)\n",
      "(show food: Beans raw mature seeds small white category: Vegetables)\n",
      "(show food: Babyfood strained green beans and turkey category: Vegetables)\n",
      "(show food: Fast foods with beans and beef burrito category: Vegetables)\n",
      "(show food: Campbell's Brown Sugar And Bacon Flavored Baked Beans category: Vegetables)\n",
      "(show food: Beans without salt boiled cooked mature seeds white category: Vegetables)\n",
      "(show food: Beans with salt boiled cooked mature seeds white category: Vegetables)\n",
      "(show food: Beans without salt boiled cooked mature seeds small white category: Vegetables)\n",
      "(show food: Beans with salt boiled cooked mature seeds small white category: Vegetables)\n"
     ]
    }
   ],
   "source": [
    "keyword = 'beans'\n",
    "print(f\"Categories of foods containing '{keyword}':\")\n",
    "df = change_categories(df, keyword.lower(), \"Vegetables\", True, ['coffee', 'soup', 'noodles', 'pork'])"
   ]
  },
  {
   "cell_type": "code",
   "execution_count": 245,
   "id": "03b6bcdb",
   "metadata": {},
   "outputs": [
    {
     "name": "stdout",
     "output_type": "stream",
     "text": [
      "Categories of foods containing 'sprouts':\n",
      "(show food: Brussels sprouts raw category: Vegetables)\n"
     ]
    }
   ],
   "source": [
    "keyword = 'sprouts'\n",
    "print(f\"Categories of foods containing '{keyword}':\")\n",
    "df = change_categories(df, keyword.lower(), \"Vegetables\", True, [])"
   ]
  },
  {
   "cell_type": "code",
   "execution_count": 246,
   "id": "1f674fc2",
   "metadata": {},
   "outputs": [
    {
     "name": "stdout",
     "output_type": "stream",
     "text": [
      "Categories of foods containing 'Kale':\n",
      "(show food: Kale raw category: Vegetables)\n"
     ]
    }
   ],
   "source": [
    "keyword = 'Kale'\n",
    "print(f\"Categories of foods containing '{keyword}':\")\n",
    "df = change_categories(df, keyword.lower(), \"Vegetables\", True, ['smoothie'])"
   ]
  },
  {
   "cell_type": "code",
   "execution_count": 247,
   "id": "667a8a22",
   "metadata": {},
   "outputs": [
    {
     "name": "stdout",
     "output_type": "stream",
     "text": [
      "Categories of foods containing 'Celery':\n",
      "(show food: Celery raw category: Vegetables)\n"
     ]
    }
   ],
   "source": [
    "keyword = 'Celery'\n",
    "print(f\"Categories of foods containing '{keyword}':\")\n",
    "df = change_categories(df, keyword.lower(), \"Vegetables\", True, ['soup'])"
   ]
  },
  {
   "cell_type": "code",
   "execution_count": 248,
   "id": "2ee1c7db",
   "metadata": {},
   "outputs": [
    {
     "name": "stdout",
     "output_type": "stream",
     "text": [
      "Categories of foods containing 'Pumpkin':\n",
      "(show food: Pumpkin flowers raw category: Vegetables)\n",
      "(show food: Pumpkin leaves raw category: Vegetables)\n",
      "(show food: Pumpkin raw category: Vegetables)\n"
     ]
    }
   ],
   "source": [
    "keyword = 'Pumpkin'\n",
    "print(f\"Categories of foods containing '{keyword}':\")\n",
    "df = change_categories(df, keyword.lower(), \"Vegetables\", True, ['soup'])"
   ]
  },
  {
   "cell_type": "code",
   "execution_count": 249,
   "id": "abf3a0cf",
   "metadata": {},
   "outputs": [
    {
     "name": "stdout",
     "output_type": "stream",
     "text": [
      "Categories of foods containing 'Mushroom':\n",
      "(show food: Mushrooms raw white category: Vegetables)\n",
      "(show food: Mushrooms stir-fried white category: Vegetables)\n",
      "(show food: Mushrooms microwaved white category: Vegetables)\n",
      "(show food: Mushrooms with salt drained boiled cooked white category: Vegetables)\n",
      "(show food: Mushroom raw exposed to ultraviolet light white category: Vegetables)\n",
      "(show food: Mushrooms without salt drained boiled cooked white category: Vegetables)\n"
     ]
    }
   ],
   "source": [
    "keyword = 'Mushroom'\n",
    "print(f\"Categories of foods containing '{keyword}':\")\n",
    "df = change_categories(df, keyword.lower(), \"Vegetables\", True, ['soup', 'pasta'])"
   ]
  },
  {
   "cell_type": "code",
   "execution_count": 250,
   "id": "2d6cd02f",
   "metadata": {},
   "outputs": [
    {
     "name": "stdout",
     "output_type": "stream",
     "text": [
      "Categories of foods containing 'Quinoa':\n",
      "(show food: Pasta ANCIENT HARVEST cooked corn flour and quinoa flour gluten-free category: Breads, cereals, fastfood,grains)\n"
     ]
    }
   ],
   "source": [
    "keyword = 'Quinoa'\n",
    "print(f\"Categories of foods containing '{keyword}':\")\n",
    "df = change_categories(df, keyword.lower(), \"Breads, cereals, fastfood,grains\", True, [])"
   ]
  },
  {
   "cell_type": "code",
   "execution_count": 251,
   "id": "916761a0",
   "metadata": {},
   "outputs": [
    {
     "name": "stdout",
     "output_type": "stream",
     "text": [
      "Categories of foods containing 'fast food':\n",
      "(show food: Fast foods chicken tenders category: Breads, cereals, fastfood,grains)\n",
      "(show food: Fast foods biscuit with egg and steak category: Breads, cereals, fastfood,grains)\n",
      "(show food: Fast foods plain roast beef sandwich category: Breads, cereals, fastfood,grains)\n",
      "(show food: Fast foods breaded and fried shrimp category: Breads, cereals, fastfood,grains)\n",
      "(show food: Fast foods french toast with butter category: Breads, cereals, fastfood,grains)\n",
      "(show food: Fast foods miniature cinnamon rolls category: Breads, cereals, fastfood,grains)\n",
      "(show food: Fast foods with beans and cheese burrito category: Breads, cereals, fastfood,grains)\n",
      "(show food: Fast foods with beans and beef burrito category: Breads, cereals, fastfood,grains)\n",
      "(show food: Fast foods with crispy chicken fillet biscuit category: Breads, cereals, fastfood,grains)\n",
      "(show food: Fast foods soft cheese and lettuce taco with beef category: Breads, cereals, fastfood,grains)\n",
      "(show food: Fast foods with cheese and sausage english muffin category: Breads, cereals, fastfood,grains)\n",
      "(show food: Fast foods french fried in vegetable oil potato category: Breads, cereals, fastfood,grains)\n",
      "(show food: Fast foods plain with pickles chicken fillet sandwich category: Breads, cereals, fastfood,grains)\n",
      "(show food: Fast foods soft lettuce and cheese taco with chicken category: Breads, cereals, fastfood,grains)\n",
      "(show food: Fast foods with corn flour coating (corndog) hotdog category: Breads, cereals, fastfood,grains)\n",
      "(show food: Fast foods meatball marinara on white bread submarine sandwich category: Breads, cereals, fastfood,grains)\n",
      "(show food: Fast Food thick crust cheese topping 14\" pizza Pizza Chain category: Breads, cereals, fastfood,grains)\n",
      "(show food: Fast foods plain boneless pieces breaded and fried chicken category: Breads, cereals, fastfood,grains)\n",
      "(show food: Fast Food thin crust cheese topping 14\" pizza Pizza Chain category: Breads, cereals, fastfood,grains)\n",
      "(show food: Fast Foods meat and skin and breading Breast Fried Chicken category: Breads, cereals, fastfood,grains)\n",
      "(show food: Fast Foods meat and skin and breading Thigh Fried Chicken category: Breads, cereals, fastfood,grains)\n",
      "(show food: Fast Foods Skin and breading from all pieces Fried Chicken category: Breads, cereals, fastfood,grains)\n",
      "(show food: Fast foods with condiments single patty large hamburger category: Breads, cereals, fastfood,grains)\n",
      "(show food: Fast Foods meat and skin and breading Wing Fried Chicken category: Breads, cereals, fastfood,grains)\n",
      "(show food: Fast foods with condiments triple patty large hamburger category: Breads, cereals, fastfood,grains)\n",
      "(show food: Fast foods hard shell cheese and lettuce taco with beef category: Breads, cereals, fastfood,grains)\n",
      "(show food: Fast Foods skin and breading removed meat only Breast Fried Chicken category: Breads, cereals, fastfood,grains)\n",
      "(show food: Fast Foods skin and breading removed meat only Thigh Fried Chicken category: Breads, cereals, fastfood,grains)\n",
      "(show food: Fast Foods with lettuce and mayonnaise crispy chicken filet sandwich category: Breads, cereals, fastfood,grains)\n",
      "(show food: Fast Foods skin and breading removed meat only Wing Fried Chicken category: Breads, cereals, fastfood,grains)\n",
      "(show food: Fast Foods meat and skin with breading Drumstick Fried Chicken category: Breads, cereals, fastfood,grains)\n",
      "(show food: Fast Food regular crust cheese topping 14\" pizza Pizza Chain category: Breads, cereals, fastfood,grains)\n",
      "(show food: Fast Food stuffed crust cheese topping 14\" pizza Pizza Chain category: Breads, cereals, fastfood,grains)\n",
      "(show food: Fast foods turkey breast on white bread with lettuce and tomato submarine sandwich category: Breads, cereals, fastfood,grains)\n",
      "(show food: Fast foods roast beef on white bread with lettuce and tomato submarine sandwich category: Breads, cereals, fastfood,grains)\n",
      "(show food: Fast foods cold cut on white bread with lettuce and tomato submarine sandwich category: Breads, cereals, fastfood,grains)\n",
      "(show food: Fast foods and ranch sauce cheese with lettuce grilled chicken in tortilla category: Breads, cereals, fastfood,grains)\n",
      "(show food: Fast foods and ranch sauce cheese with lettuce crispy chicken in tortilla category: Breads, cereals, fastfood,grains)\n",
      "(show food: Fast Food regular crust meat and vegetable topping 14\" pizza Pizza Chain category: Breads, cereals, fastfood,grains)\n",
      "(show food: Fast foods tuna on white bread with lettuce and tomato submarine sandwich category: Breads, cereals, fastfood,grains)\n",
      "(show food: Fast Foods tomato and spread with lettuce grilled chicken filet sandwich category: Breads, cereals, fastfood,grains)\n",
      "(show food: Fast Foods skin and breading removed meat only Drumstick Fried Chicken category: Breads, cereals, fastfood,grains)\n",
      "(show food: Fast foods ham on white bread with lettuce and tomato submarine sandwich category: Breads, cereals, fastfood,grains)\n",
      "(show food: Fast foods and tomato on white bread lettuce bacon submarine sandwich category: Breads, cereals, fastfood,grains)\n",
      "(show food: Fast foods strawberry banana smoothie made with ice and low-fat yogurt category: Breads, cereals, fastfood,grains)\n",
      "(show food: Fast foods roast beef and ham on white bread with lettuce and tomato turkey submarine sandwich category: Breads, cereals, fastfood,grains)\n",
      "(show food: Fast foods and mayonnaise lettuce with cheese bacon and tomato club sandwich grilled chicken category: Breads, cereals, fastfood,grains)\n",
      "(show food: Fast foods and mayonnaise lettuce with cheese and tomato club sandwich bacon crispy chicken category: Breads, cereals, fastfood,grains)\n",
      "(show food: Fast foods lettuce and tomato steak and cheese on white bread with cheese submarine sandwich category: Breads, cereals, fastfood,grains)\n",
      "(show food: Fast foods oven roasted chicken on white bread with lettuce and tomato submarine sandwich category: Breads, cereals, fastfood,grains)\n",
      "(show food: Fast foods tomato and sweet onion sauce sweet onion chicken teriyaki on white bread with lettuce submarine sandwich category: Breads, cereals, fastfood,grains)\n"
     ]
    }
   ],
   "source": [
    "keyword = 'fast food'\n",
    "print(f\"Categories of foods containing '{keyword}':\")\n",
    "df = change_categories(df, keyword.lower(), \"Breads, cereals, fastfood,grains\", True, [])"
   ]
  },
  {
   "cell_type": "code",
   "execution_count": 252,
   "id": "acf795dc",
   "metadata": {},
   "outputs": [
    {
     "name": "stdout",
     "output_type": "stream",
     "text": [
      "Categories of foods containing 'pizza':\n",
      "(show food: PAPA JOHN'S 14\" Cheese Pizza Thin Crust category: Breads, cereals, fastfood,grains)\n",
      "(show food: PIZZA HUT 12\" Cheese Pizza Pan Crust category: Breads, cereals, fastfood,grains)\n",
      "(show food: PIZZA HUT 14\" Cheese Pizza Pan Crust category: Breads, cereals, fastfood,grains)\n",
      "(show food: PAPA JOHN'S 14\" Cheese Pizza Original Crust category: Breads, cereals, fastfood,grains)\n",
      "(show food: LITTLE CAESARS 14\" Cheese Pizza Thin Crust category: Breads, cereals, fastfood,grains)\n",
      "(show food: PIZZA HUT 14\" Cheese Pizza Stuffed Crust category: Breads, cereals, fastfood,grains)\n",
      "(show food: PIZZA HUT 12\" Cheese Pizza THIN 'N CRISPY Crust category: Breads, cereals, fastfood,grains)\n",
      "(show food: PIZZA HUT 14\" Cheese Pizza THIN 'N CRISPY Crust category: Breads, cereals, fastfood,grains)\n",
      "(show food: DOMINO'S 14\" Cheese Pizza Crunchy Thin Crust category: Breads, cereals, fastfood,grains)\n",
      "(show food: PIZZA HUT 12\" Cheese Pizza Hand-Tossed Crust category: Breads, cereals, fastfood,grains)\n",
      "(show food: PIZZA HUT 14\" Cheese Pizza Hand-Tossed Crust category: Breads, cereals, fastfood,grains)\n",
      "(show food: Pizza cooked frozen regular crust cheese topping category: Breads, cereals, fastfood,grains)\n",
      "(show food: DOMINO'S 14\" Cheese Pizza Classic Hand-Tossed Crust category: Breads, cereals, fastfood,grains)\n",
      "(show food: Pizza cooked frozen rising crust cheese topping category: Breads, cereals, fastfood,grains)\n",
      "(show food: DOMINO'S 14\" Cheese Pizza Ultimate Deep Dish Crust category: Breads, cereals, fastfood,grains)\n",
      "(show food: KASHI Pizza unprepared frozen Roasted Vegetable category: Breads, cereals, fastfood,grains)\n",
      "(show food: Pizza cooked frozen thin crust cheese topping category: Breads, cereals, fastfood,grains)\n",
      "(show food: KASHI Pizza unprepared frozen Mushroom Trio & Spinach category: Breads, cereals, fastfood,grains)\n",
      "(show food: LITTLE CAESARS 14\" Cheese Pizza Large Deep Dish Crust category: Breads, cereals, fastfood,grains)\n",
      "(show food: DIGIORNO Pizza baked frozen thin crispy crust cheese topping category: Breads, cereals, fastfood,grains)\n",
      "(show food: Pizza cooked frozen rising crust meat and vegetable topping category: Breads, cereals, fastfood,grains)\n",
      "(show food: LITTLE CAESARS 14\" Original Round Cheese Pizza Regular Crust category: Breads, cereals, fastfood,grains)\n",
      "(show food: DIGIORNO Pizza baked frozen rising crust cheese topping category: Breads, cereals, fastfood,grains)\n",
      "(show food: DIGIORNO Pizza baked frozen cheese stuffed crust pepperoni topping category: Breads, cereals, fastfood,grains)\n",
      "(show food: KASHI Pizza unprepared frozen single serve Mushroom and Spinach category: Breads, cereals, fastfood,grains)\n",
      "(show food: DIGIORNO Pizza baked frozen cheese stuffed crust cheese topping category: Breads, cereals, fastfood,grains)\n",
      "(show food: Pizza cooked frozen regular crust meat and vegetable topping category: Breads, cereals, fastfood,grains)\n",
      "(show food: School Lunch cooked frozen whole grain thick crust cheese topping pizza category: Breads, cereals, fastfood,grains)\n",
      "(show food: School Lunch cooked frozen whole grain thin crust cheese topping pizza category: Breads, cereals, fastfood,grains)\n",
      "(show food: LITTLE CAESARS 14\" Original Round Meat and Vegetable Pizza Regular Crust category: Breads, cereals, fastfood,grains)\n",
      "(show food: School Lunch frozen BIG DADDY'S LS 16\" 51% Whole Grain Rolled Edge Turkey Pepperoni Pizza pizza category: Breads, cereals, fastfood,grains)\n",
      "(show food: School Lunch frozen TONY'S SMARTPIZZA Whole Grain 4x6 Cheese Pizza 50/50 Cheese pizza category: Breads, cereals, fastfood,grains)\n",
      "(show food: School Lunch frozen BIG DADDY'S LS 16\" 51% Whole Grain Rolled Edge Cheese Pizza pizza category: Breads, cereals, fastfood,grains)\n"
     ]
    }
   ],
   "source": [
    "keyword = 'pizza'\n",
    "print(f\"Categories of foods containing '{keyword}':\")\n",
    "df = change_categories(df, keyword.lower(), \"Breads, cereals, fastfood,grains\", True, [])"
   ]
  },
  {
   "cell_type": "code",
   "execution_count": 253,
   "id": "ec0bfb71",
   "metadata": {},
   "outputs": [
    {
     "name": "stdout",
     "output_type": "stream",
     "text": [
      "Categories of foods containing 'hamburger':\n",
      "(show food: McDONALD'S Hamburger category: Breads, cereals, fastfood,grains)\n",
      "(show food: Pickle relish hamburger category: Breads, cereals, fastfood,grains)\n",
      "(show food: BURGER KING Hamburger category: Breads, cereals, fastfood,grains)\n",
      "(show food: Rolls plain hamburger or hotdog category: Breads, cereals, fastfood,grains)\n",
      "(show food: PEPPERIDGE FARM Hamburger Bun category: Breads, cereals, fastfood,grains)\n",
      "(show food: Rolls mixed-grain hamburger or hotdog category: Breads, cereals, fastfood,grains)\n",
      "(show food: WENDY'S without cheese Jr. Hamburger category: Breads, cereals, fastfood,grains)\n",
      "(show food: WENDY'S with cheese Jr. Hamburger category: Breads, cereals, fastfood,grains)\n",
      "(show food: WENDY'S no cheese CLASSIC SINGLE Hamburger category: Breads, cereals, fastfood,grains)\n",
      "(show food: Rolls reduced-calorie hamburger or hotdog category: Breads, cereals, fastfood,grains)\n",
      "(show food: PEPPERIDGE FARM Hamburger Buns w/Sesame category: Breads, cereals, fastfood,grains)\n",
      "(show food: Rolls whole wheat hamburger or hot dog category: Breads, cereals, fastfood,grains)\n",
      "(show food: PEPPERIDGE FARM 100% Whole Wheat Hamburger Buns category: Breads, cereals, fastfood,grains)\n",
      "(show food: Rolls wheat/cracked wheat hamburger or hot dog category: Breads, cereals, fastfood,grains)\n",
      "(show food: INTERSTATE BRANDS CORP WONDER Hamburger Rolls category: Breads, cereals, fastfood,grains)\n",
      "(show food: WENDY'S with cheese CLASSIC SINGLE Hamburger category: Breads, cereals, fastfood,grains)\n",
      "(show food: Rolls calcium-fortified whole grain white hamburger category: Breads, cereals, fastfood,grains)\n"
     ]
    }
   ],
   "source": [
    "keyword = 'hamburger'\n",
    "print(f\"Categories of foods containing '{keyword}':\")\n",
    "df = change_categories(df, keyword.lower(), \"Breads, cereals, fastfood,grains\", True, [])"
   ]
  },
  {
   "cell_type": "code",
   "execution_count": 254,
   "id": "1275af08",
   "metadata": {},
   "outputs": [
    {
     "name": "stdout",
     "output_type": "stream",
     "text": [
      "Categories of foods containing 'McDONALD'S':\n",
      "(show food: McDONALD'S Chicken McNUGGETS category: Breads, cereals, fastfood,grains)\n",
      "(show food: McDONALD'S Hot Fudge Sundae category: Breads, cereals, fastfood,grains)\n",
      "(show food: McDONALD'S Peanuts (for Sundaes) category: Breads, cereals, fastfood,grains)\n",
      "(show food: McDONALD'S QUARTER POUNDER with Cheese category: Breads, cereals, fastfood,grains)\n",
      "(show food: McDONALD'S Bacon Egg & Cheese Biscuit category: Breads, cereals, fastfood,grains)\n",
      "(show food: McDONALD'S Tangy Honey Mustard Sauce category: Breads, cereals, fastfood,grains)\n",
      "(show food: McDONALD'S Egg & Cheese McGRIDDLES Sausage category: Breads, cereals, fastfood,grains)\n",
      "(show food: McDONALD'S Southern Style Chicken Biscuit category: Breads, cereals, fastfood,grains)\n",
      "(show food: McDONALD'S Egg & Cheese McGRIDDLES Bacon category: Breads, cereals, fastfood,grains)\n",
      "(show food: McDONALD'S Premium Grilled Chicken Club Sandwich category: Breads, cereals, fastfood,grains)\n",
      "(show food: McDONALD'S Bacon Ranch Salad with Crispy Chicken category: Breads, cereals, fastfood,grains)\n",
      "(show food: McDONALD'S Premium Crispy Chicken Club Sandwich category: Breads, cereals, fastfood,grains)\n",
      "(show food: McDONALD'S DOUBLE QUARTER POUNDER with Cheese category: Breads, cereals, fastfood,grains)\n",
      "(show food: McDONALD'S Bacon Ranch Salad without chicken category: Breads, cereals, fastfood,grains)\n",
      "(show food: McDONALD'S Premium Crispy Chicken Ranch BLT Sandwich category: Breads, cereals, fastfood,grains)\n",
      "(show food: McDONALD'S Hotcakes (with 2 pats margarine & syrup) category: Breads, cereals, fastfood,grains)\n",
      "(show food: McDONALD'S Premium Grilled Chicken Classic Sandwich category: Breads, cereals, fastfood,grains)\n",
      "(show food: McDONALD'S Premium Crispy Chicken Classic Sandwich category: Breads, cereals, fastfood,grains)\n",
      "(show food: McDONALD'S Bacon Ranch Salad with Grilled Chicken category: Breads, cereals, fastfood,grains)\n",
      "(show food: McDONALD'S with syrup and margarine Deluxe Breakfast category: Breads, cereals, fastfood,grains)\n",
      "(show food: McDONALD'S Premium Grilled Chicken Ranch BLT Sandwich category: Breads, cereals, fastfood,grains)\n"
     ]
    }
   ],
   "source": [
    "keyword = 'McDONALD\\'S'\n",
    "print(f\"Categories of foods containing '{keyword}':\")\n",
    "df = change_categories(df, keyword.lower(), \"Breads, cereals, fastfood,grains\", True, [])"
   ]
  },
  {
   "cell_type": "code",
   "execution_count": 255,
   "id": "2f877dcf",
   "metadata": {},
   "outputs": [
    {
     "name": "stdout",
     "output_type": "stream",
     "text": [
      "Categories of foods containing 'BURGER KING':\n",
      "(show food: BURGER KING Chicken Strips category: Breads, cereals, fastfood,grains)\n",
      "(show food: BURGER KING Original Chicken Sandwich category: Breads, cereals, fastfood,grains)\n",
      "(show food: BURGER KING CROISSAN'WICH with Egg and Cheese category: Breads, cereals, fastfood,grains)\n",
      "(show food: BURGER KING CROISSAN'WICH with Sausage and Cheese category: Breads, cereals, fastfood,grains)\n"
     ]
    }
   ],
   "source": [
    "keyword = 'BURGER KING'\n",
    "print(f\"Categories of foods containing '{keyword}':\")\n",
    "df = change_categories(df, keyword.lower(), \"Breads, cereals, fastfood,grains\", True, [])"
   ]
  },
  {
   "cell_type": "code",
   "execution_count": 256,
   "id": "f7a78a7b",
   "metadata": {},
   "outputs": [
    {
     "name": "stdout",
     "output_type": "stream",
     "text": [
      "Categories of foods containing 'cereal':\n",
      "(show food: Cereals dry CREAM OF RICE category: Breads, cereals, fastfood,grains)\n",
      "(show food: Rice and Wheat cereal bar category: Breads, cereals, fastfood,grains)\n",
      "(show food: Cereals dry unenriched farina category: Breads, cereals, fastfood,grains)\n",
      "(show food: Cereals ready-to-eat RALSTON Corn Biscuits category: Breads, cereals, fastfood,grains)\n",
      "(show food: Cereals ready-to-eat KASHI Honey Sunshine category: Breads, cereals, fastfood,grains)\n",
      "(show food: Cereals ready-to-eat COCOA PEBBLES POST category: Breads, cereals, fastfood,grains)\n",
      "(show food: Cookies made with rice cereal chocolate category: Breads, cereals, fastfood,grains)\n",
      "(show food: Candies with rice cereal milk chocolate category: Breads, cereals, fastfood,grains)\n",
      "(show food: Cereals ready-to-eat RALSTON Corn Flakes category: Breads, cereals, fastfood,grains)\n",
      "(show food: Cereals ready-to-eat RALSTON CRISP RICE category: Breads, cereals, fastfood,grains)\n",
      "(show food: Cereals dry plain instant corn grits QUAKER category: Breads, cereals, fastfood,grains)\n",
      "(show food: Cereals ready-to-eat Honey BUZZERS MALT-O-MEAL category: Breads, cereals, fastfood,grains)\n",
      "(show food: Cereals ready-to-eat COCOA PUFFS GENERAL MILLS category: Breads, cereals, fastfood,grains)\n",
      "(show food: Cereals ready-to-eat HONEY GRAHAM OH!S QUAKER category: Breads, cereals, fastfood,grains)\n",
      "(show food: Cereals ready-to-eat Corn CHEX GENERAL MILLS category: Breads, cereals, fastfood,grains)\n",
      "(show food: Cereals ready-to-eat Rice CHEX GENERAL MILLS category: Breads, cereals, fastfood,grains)\n",
      "(show food: Cereals ready-to-eat Honey KIX GENERAL MILLS category: Breads, cereals, fastfood,grains)\n",
      "(show food: Cereals ready-to-eat CORN BURSTS MALT-O-MEAL category: Breads, cereals, fastfood,grains)\n",
      "(show food: Babyfood junior egg yolks and bacon cereal category: Breads, cereals, fastfood,grains)\n",
      "(show food: Cereals ready-to-eat Oatmeal Squares QUAKER category: Breads, cereals, fastfood,grains)\n",
      "(show food: Cereals ready-to-eat fortified puffed rice category: Breads, cereals, fastfood,grains)\n",
      "(show food: Cereals ready-to-eat KELLOGG'S HONEY SMACKS KELLOGG category: Breads, cereals, fastfood,grains)\n",
      "(show food: Cereals with salt cooked with water CREAM OF RICE category: Breads, cereals, fastfood,grains)\n",
      "(show food: Cereals ready-to-eat KELLOGG'S Corn Flakes KELLOGG category: Breads, cereals, fastfood,grains)\n",
      "(show food: Cereals ready-to-eat Honey Nut Shredded Wheat POST category: Breads, cereals, fastfood,grains)\n",
      "(show food: Cereals ready-to-eat MOTHER'S COCOA BUMPERS QUAKER category: Breads, cereals, fastfood,grains)\n",
      "(show food: Cereals ready-to-eat Cocoa DYNO-BITES MALT-O-MEAL category: Breads, cereals, fastfood,grains)\n",
      "(show food: Cereals dry Banana Bread Instant Oatmeal QUAKER category: Breads, cereals, fastfood,grains)\n",
      "(show food: Cereals ready-to-eat RICE CRUNCHINS GENERAL MILLS category: Breads, cereals, fastfood,grains)\n",
      "(show food: Cereals ready-to-eat Honey Nut O's CASCADIAN FARM category: Breads, cereals, fastfood,grains)\n",
      "(show food: Cereals ready-to-eat Honey Nut CHEX GENERAL MILLS category: Breads, cereals, fastfood,grains)\n",
      "(show food: Cereals dry Farina Hot Wheat Cereal MALT-O-MEAL category: Breads, cereals, fastfood,grains)\n",
      "(show food: Cereals dry Butter flavor Instant Grits QUAKER category: Breads, cereals, fastfood,grains)\n",
      "(show food: Cereals ready-to-eat KELLOGG'S CORN POPS KELLOGG category: Breads, cereals, fastfood,grains)\n",
      "(show food: Cereals Regular Instant Oatmeal Organic QUAKER category: Breads, cereals, fastfood,grains)\n",
      "(show food: Cereals ready-to-eat Golden Maple QUAKER Oatmeal Squares category: Breads, cereals, fastfood,grains)\n",
      "(show food: Cereals dry Ham 'n' Cheese flavor Instant Grits QUAKER category: Breads, cereals, fastfood,grains)\n",
      "(show food: Cereals without salt cooked with water enriched farina category: Breads, cereals, fastfood,grains)\n",
      "(show food: Cereals dry Country Bacon flavor Instant Grits QUAKER category: Breads, cereals, fastfood,grains)\n",
      "(show food: Cereals ready-to-eat POST GREAT GRAINS Banana Nut Crunch category: Breads, cereals, fastfood,grains)\n",
      "(show food: Cereals ready-to-eat Banana Nut CHEERIOS GENERAL MILLS category: Breads, cereals, fastfood,grains)\n",
      "(show food: Cereals ready-to-eat HONEY NUT CHEERIOS GENERAL MILLS category: Breads, cereals, fastfood,grains)\n",
      "(show food: Cereals ready-to-eat KELLOGG'S COCOA KRISPIES KELLOGG category: Breads, cereals, fastfood,grains)\n",
      "(show food: Cereals ready-to-eat HONEY GRAHAM SQUARES MALT-O-MEAL category: Breads, cereals, fastfood,grains)\n",
      "(show food: Cereals ready-to-eat HONEY NUT CLUSTERS GENERAL MILLS category: Breads, cereals, fastfood,grains)\n",
      "(show food: Cereals without salt cooked with water CREAM OF RICE category: Breads, cereals, fastfood,grains)\n",
      "(show food: Cereals ready-to-eat cinnamon Oatmeal Squares QUAKER category: Breads, cereals, fastfood,grains)\n",
      "(show food: Cereals with salt cooked with water enriched farina category: Breads, cereals, fastfood,grains)\n",
      "(show food: Cereals ready-to-eat KELLOGG'S RICE KRISPIES KELLOGG category: Breads, cereals, fastfood,grains)\n",
      "(show food: Cereals ready-to-eat Honey Nut TOASTY O'S MOM'S BEST category: Breads, cereals, fastfood,grains)\n",
      "(show food: Cereals ready-to-eat Honey Nut SCOOTERS MALT-O-MEAL category: Breads, cereals, fastfood,grains)\n",
      "(show food: Cereals ready-to-eat KASHI 7 Whole Grain Honey Puffs category: Breads, cereals, fastfood,grains)\n",
      "(show food: Cereals dry Hearty Honey & Cinnamon KASHI GO LEAN Hot Cereal category: Breads, cereals, fastfood,grains)\n",
      "(show food: Cereals ready-to-eat PEANUT BUTTER TOAST CRUNCH GENERAL MILLS category: Breads, cereals, fastfood,grains)\n",
      "(show food: Cereals ready-to-eat with almonds HONEY BUNCHES OF OATS POST category: Breads, cereals, fastfood,grains)\n",
      "(show food: Cereals dry unenriched regular and quick yellow corn grits category: Breads, cereals, fastfood,grains)\n",
      "(show food: Cereals ready-to-eat KELLOGG'S FROSTED RICE KRISPIES KELLOGG category: Breads, cereals, fastfood,grains)\n",
      "(show food: Cereals ready-to-eat Honey Almond Flax KASHI GO LEAN CRUNCH! category: Breads, cereals, fastfood,grains)\n",
      "(show food: Cereals ready-to-eat HONEY CLUSTERS FIBER ONE GENERAL MILLS category: Breads, cereals, fastfood,grains)\n",
      "(show food: Cereals dry with raisins and spice fortified instant oats category: Breads, cereals, fastfood,grains)\n",
      "(show food: Cereals ready-to-eat QUAKER Honey Graham LIFE Cereal QUAKER category: Breads, cereals, fastfood,grains)\n",
      "(show food: Cereals ready-to-eat Honey Toasted Oat KASHI HEART TO HEART category: Breads, cereals, fastfood,grains)\n",
      "(show food: Cereals ready-to-eat KELLOGG'S APPLE JACKS with marshmallows category: Breads, cereals, fastfood,grains)\n",
      "(show food: Cereals dry enriched regular and quick yellow corn grits category: Breads, cereals, fastfood,grains)\n",
      "(show food: Cereals banana bread Weight Control Instant Oatmeal QUAKER category: Breads, cereals, fastfood,grains)\n",
      "(show food: Cereals ready-to-eat chocolate-flavored frosted puffed corn category: Breads, cereals, fastfood,grains)\n",
      "(show food: Cereals dry enriched regular and quick white corn grits category: Breads, cereals, fastfood,grains)\n",
      "(show food: Beverages powder cereal grain beverage coffee substitute category: Breads, cereals, fastfood,grains)\n",
      "(show food: Cookies with rice cereal and chocolate chips marshmallow category: Breads, cereals, fastfood,grains)\n",
      "(show food: Cereals ready-to-eat frosted oat cereal with marshmallows category: Breads, cereals, fastfood,grains)\n",
      "(show food: Cereals ready-to-eat Gluten Free KELLOGG'S RICE KRISPIES category: Breads, cereals, fastfood,grains)\n",
      "(show food: Cereals dry Instant Grits Product with American Cheese Flavor QUAKER category: Breads, cereals, fastfood,grains)\n",
      "(show food: Cereals ready-to-eat MEDLEY CRUNCH HONEY NUT CHEERIOS GENERAL MILLS category: Breads, cereals, fastfood,grains)\n",
      "(show food: Cereals ready-to-eat HONEY BUNCHES OF OATS with vanilla bunches POST category: Breads, cereals, fastfood,grains)\n",
      "(show food: Cereals ready-to-eat POST HONEY BUNCHES OF OATS with cinnamon bunches category: Breads, cereals, fastfood,grains)\n",
      "(show food: Cereals ready-to-eat KRETSCHMER Honey Crunch Wheat Germ SUN COUNTRY category: Breads, cereals, fastfood,grains)\n",
      "(show food: Cereals ready-to-eat OAT BLENDERS with honey & almonds MALT-O-MEAL category: Breads, cereals, fastfood,grains)\n",
      "(show food: Babyfood toddler fortified instant dry oatmeal cereal with fruit category: Breads, cereals, fastfood,grains)\n",
      "(show food: Cereals ready-to-eat KELLOGG'S RICE KRISPIES TREATS Cereal KELLOGG category: Breads, cereals, fastfood,grains)\n",
      "(show food: Babyfood instant fortified dry rice with pears and apple cereal category: Breads, cereals, fastfood,grains)\n",
      "(show food: Cereals ready-to-eat KELLOGG'S SPECIAL K Multigrain Oats and Honey category: Breads, cereals, fastfood,grains)\n",
      "(show food: Cereals ready-to-eat KELLOGG'S CRUNCHY NUT Golden Honey Nut flakes category: Breads, cereals, fastfood,grains)\n",
      "(show food: Cereals ready-to-eat 25% Reduced Sugar COCOA PUFFS GENERAL MILLS category: Breads, cereals, fastfood,grains)\n",
      "(show food: Cereals ready-to-eat MOTHER'S PEANUT BUTTER BUMPERS Cereal QUAKER category: Breads, cereals, fastfood,grains)\n",
      "(show food: Cereals ready-to-eat Crunchy Almond OATMEAL CRISP GENERAL MILLS category: Breads, cereals, fastfood,grains)\n",
      "(show food: Cereals ready-to-eat CAP'N CRUNCH'S PEANUT BUTTER CRUNCH QUAKER category: Breads, cereals, fastfood,grains)\n",
      "(show food: Cereals dry dates and walnuts raisins Instant Oatmeal QUAKER category: Breads, cereals, fastfood,grains)\n",
      "(show food: Cereals ready-to-eat Hearty Raisin OATMEAL CRISP GENERAL MILLS category: Breads, cereals, fastfood,grains)\n",
      "(show food: Cereals ready-to-eat KELLOGG'S HONEY CRUNCH CORN FLAKES KELLOGG category: Breads, cereals, fastfood,grains)\n",
      "(show food: Cereals ready-to-eat pecan bunches HONEY BUNCHES OF OATS POST category: Breads, cereals, fastfood,grains)\n",
      "(show food: Cereals dry cheddar cheese flavor instant corn grits QUAKER category: Breads, cereals, fastfood,grains)\n",
      "(show food: Cereals ready-to-eat honey roasted HONEY BUNCHES OF OATS POST category: Breads, cereals, fastfood,grains)\n",
      "(show food: Cereals with salt cooked with water enriched quick regular yellow corn grits category: Breads, cereals, fastfood,grains)\n",
      "(show food: Cereals ready-to-eat USDA Commodity Corn and Rice (includes all commodity brands) category: Breads, cereals, fastfood,grains)\n",
      "(show food: Cereals ready-to-eat USDA Commodity Rice Crisps (includes all commodity brands) category: Breads, cereals, fastfood,grains)\n",
      "(show food: Cereals prepared with water with raisins and spice fortified instant oats category: Breads, cereals, fastfood,grains)\n",
      "(show food: Cereals ready-to-eat Honey Squares FIBER ONE 80 Calories GENERAL MILLS category: Breads, cereals, fastfood,grains)\n",
      "(show food: Cereals ready-to-eat with real strawberries HONEY BUNCHES OF OATS POST category: Breads, cereals, fastfood,grains)\n",
      "(show food: Beverages prepared with water cereal grain beverage coffee substitute category: Breads, cereals, fastfood,grains)\n",
      "(show food: Cereals dry quick (1-3 minutes) assorted brands including CREAM OF WHEAT enriched farina category: Breads, cereals, fastfood,grains)\n",
      "(show food: Cereals without salt cooked with water enriched regular and quick yellow corn grits category: Breads, cereals, fastfood,grains)\n",
      "(show food: Cereals without salt cooked with water enriched regular and quick white corn grits category: Breads, cereals, fastfood,grains)\n",
      "(show food: Cereals with salt cooked with water enriched regular and quick white corn grits category: Breads, cereals, fastfood,grains)\n",
      "(show food: Beverages prepared with whole milk powder cereal grain beverage coffee substitute category: Breads, cereals, fastfood,grains)\n",
      "(show food: Cereals without salt cooked with water quick (1-3 minutes) assorted brands including CREAM OF WHEAT enriched farina category: Breads, cereals, fastfood,grains)\n",
      "(show food: Cereals without salt prepared (microwaved or boiling water added) plain instant corn grits QUAKER category: Breads, cereals, fastfood,grains)\n"
     ]
    }
   ],
   "source": [
    "keyword = 'cereal'\n",
    "print(f\"Categories of foods containing '{keyword}':\")\n",
    "df = change_categories(df, keyword.lower(), \"Breads, cereals, fastfood,grains\", True, ['Beverages'])"
   ]
  },
  {
   "cell_type": "code",
   "execution_count": 257,
   "id": "cd0e5db5",
   "metadata": {},
   "outputs": [
    {
     "name": "stdout",
     "output_type": "stream",
     "text": [
      "Categories of foods containing 'pasta':\n",
      "(show food: Pasta cooked whole-wheat category: Breads, cereals, fastfood,grains)\n",
      "(show food: Pasta dry whole-wheat category: Breads, cereals, fastfood,grains)\n",
      "(show food: Pasta mix unprepared classic beef category: Breads, cereals, fastfood,grains)\n",
      "(show food: KASHI Spinach Artichoke Pasta unprepared frozen category: Breads, cereals, fastfood,grains)\n",
      "(show food: Pasta cooked corn and rice flour gluten-free category: Breads, cereals, fastfood,grains)\n",
      "(show food: Pasta mix unprepared classic cheeseburger macaroni category: Breads, cereals, fastfood,grains)\n",
      "(show food: Pasta mix unprepared Italian four cheese lasagna category: Breads, cereals, fastfood,grains)\n",
      "(show food: PREGO Pasta ready-to-serve Fresh Mushroom Italian Sauce category: Breads, cereals, fastfood,grains)\n",
      "(show food: KASHI Italian Vegetable Medley Pasta unprepared frozen category: Breads, cereals, fastfood,grains)\n",
      "(show food: Pasta TINKYADA cooked brown rice flour gluten-free category: Breads, cereals, fastfood,grains)\n",
      "(show food: Pasta DE BOLES cooked rice flour and rice bran extract gluten-free category: Breads, cereals, fastfood,grains)\n",
      "(show food: Tortellini as purchased fresh-refrigerated pasta with cheese filling category: Breads, cereals, fastfood,grains)\n"
     ]
    }
   ],
   "source": [
    "keyword = 'pasta'\n",
    "print(f\"Categories of foods containing '{keyword}':\")\n",
    "df = change_categories(df, keyword.lower(), \"Breads, cereals, fastfood,grains\", True, ['chicken', 'soup'])"
   ]
  },
  {
   "cell_type": "code",
   "execution_count": 258,
   "id": "a8d6f766",
   "metadata": {},
   "outputs": [
    {
     "name": "stdout",
     "output_type": "stream",
     "text": [
      "Categories of foods containing 'Yogurt':\n",
      "(show food: Babyfood banana juice with low fat yogurt category: Dairy products)\n",
      "(show food: Babyfood strained banana yogurt dessert category: Dairy products)\n",
      "(show food: Fast foods strawberry banana smoothie made with ice and low-fat yogurt category: Dairy products)\n"
     ]
    }
   ],
   "source": [
    "keyword = 'Yogurt'\n",
    "print(f\"Categories of foods containing '{keyword}':\")\n",
    "df = change_categories(df, keyword.lower(), \"Dairy products\", True, ['candy'])"
   ]
  },
  {
   "cell_type": "code",
   "execution_count": 259,
   "id": "740b9c90",
   "metadata": {},
   "outputs": [
    {
     "name": "stdout",
     "output_type": "stream",
     "text": [
      "Categories of foods containing 'Cream':\n",
      "(food: Cereals dry CREAM OF RICE category: Breads, cereals, fastfood,grains)\n",
      "(food: Peanut butter with omega-3 creamy category: Fats Oils Shortenings)\n",
      "(food: Soup condensed canned cream of shrimp category: Soups)\n",
      "(food: Pie prepared from recipe banana cream category: Fruits)\n",
      "(food: Soup powder dry cream of vegetable category: Soups)\n",
      "(food: CAMPBELL'S condensed Cream of Chicken Soup category: Soups)\n",
      "(food: Soup condensed canned cream of asparagus category: Soups)\n",
      "(food: Soup condensed canned cream of chicken category: Soups)\n",
      "(food: Soup condensed canned cream of celery category: Soups)\n",
      "(food: HEALTHY REQUEST condensed Cream of Celery Soup category: Soups)\n",
      "(food: CAMPBELL'S Soup on the Go Creamy Broccoli Soup category: Soups)\n",
      "(food: CAMPBELL'S Soup on the Go Creamy Chicken Soup category: Soups)\n",
      "(food: Soup prepared with water mix dry cream of chicken category: Soups)\n",
      "(food: Cereals with salt cooked with water CREAM OF RICE category: Breads, cereals, fastfood,grains)\n",
      "(food: CAMPBELL'S CHUNKY Creamy Chicken and Dumplings Soup category: Soups)\n",
      "(food: Pie no-bake type prepared from mix banana cream category: Fruits)\n",
      "(food: KEEBLER Fudge-Dipped Ice Cream Cups FUDGE SHOPPE category: Desserts)\n",
      "(food: Ice creams Butter Pecan No Sugar Added BREYERS category: Fats Oils Shortenings)\n",
      "(food: Salad dressing milk cream imitation mayonnaise category: Fats Oils Shortenings)\n",
      "(food: CAMPBELL'S condensed 98% Fat Free Cream of Broccoli Soup category: Soups)\n",
      "(food: CAMPBELL'S condensed 98% Fat Free Cream of Chicken Soup category: Soups)\n",
      "(food: CAMPBELL'S Red and White condensed Cream of Shrimp Soup category: Soups)\n",
      "(food: Soup reduced sodium condensed canned cream of chicken category: Soups)\n",
      "(food: CAMPBELL'S Red and White condensed Cream of Celery Soup category: Soups)\n",
      "(food: Alcoholic beverage 34 proof coffee with cream liqueur category: DrinksAlcohol Beverages)\n",
      "(food: CAMPBELL'S condensed 98% Fat Free Cream of Celery Soup category: Soups)\n",
      "(food: Ice creams Vanilla Fudge Twirl No Sugar Added BREYERS category: Desserts)\n",
      "(food: Soup single brand condensed canned cream of chicken category: Soups)\n",
      "(food: Cereals without salt cooked with water CREAM OF RICE category: Breads, cereals, fastfood,grains)\n",
      "(food: CAMPBELL'S condensed Cream of Chicken with Herbs Soup category: Soups)\n",
      "(food: Soup prepared with equal volume milk canned cream of chicken category: Soups)\n",
      "(food: Soup prepared with equal volume water canned cream of shrimp category: Soups)\n",
      "(food: Soup prepared with equal volume water canned cream of celery category: Soups)\n",
      "(food: CAMPBELL'S Red and White condensed Creamy Chicken Noodle Soup category: Soups)\n",
      "(food: Soup prepared with equal volume milk canned cream of celery category: Soups)\n",
      "(food: CAMPBELL'S condensed cream of chicken soup HEALTHY REQUEST category: Soups)\n",
      "(food: Nuts raw (liquid expressed from grated meat) coconut cream category: Fruits)\n",
      "(food: CAMPBELL'S Red and White condensed Cream of Asparagus Soup category: Soups)\n",
      "(food: CAMPBELL'S Red and White condensed Cream of Broccoli Soup category: Soups)\n",
      "(food: CAMPBELL'S Red and White - Microwaveable Bowls Creamy Tomato Soup category: Soups)\n",
      "(food: Soup prepared with equal volume water canned cream of asparagus category: Soups)\n",
      "(food: Soup prepared with equal volume milk canned cream of asparagus category: Soups)\n",
      "(food: Soup prepared with equal volume water canned cream of chicken category: Soups)\n",
      "(food: KELLOGG'S Ice Cream Shoppe Frosted Hot Fudge Sundae Toaster Pastries POP-TARTS category: Desserts)\n",
      "(food: Creamy dressing reduced calorie made with sour cream and/or buttermilk and oil category: Fats Oils Shortenings)\n",
      "(food: Soup prepared with equal volume low fat (2%) milk canned cream of shrimp category: Soups)\n",
      "(food: Ice cream added peanuts and chocolate sauce cone no sugar added lowfat category: Grains)\n",
      "(food: Cream substitute with hydrogenated vegetable oil and soy protein liquid category: Fats Oils Shortenings)\n",
      "(food: Creamy dressing cholesterol-free reduced calorie made with sour cream and/or buttermilk and oil category: Fats Oils Shortenings)\n",
      "(food: Cereals dry quick (1-3 minutes) assorted brands including CREAM OF WHEAT enriched farina category: Breads, cereals, fastfood,grains)\n",
      "(food: Creamy dressing fat-free reduced calorie made with sour cream and/or buttermilk and oil category: Fats Oils Shortenings)\n",
      "(food: Beverages with non dairy creamer decaffeinated sweetened vanilla instant coffee category: DrinksAlcohol Beverages)\n",
      "(food: Cereals without salt cooked with water quick (1-3 minutes) assorted brands including CREAM OF WHEAT enriched farina category: Breads, cereals, fastfood,grains)\n"
     ]
    }
   ],
   "source": [
    "keyword = 'Cream'\n",
    "print(f\"Categories of foods containing '{keyword}':\")\n",
    "df = change_categories(df, keyword.lower(), \"Dairy products\", False, ['candy'])"
   ]
  },
  {
   "cell_type": "code",
   "execution_count": 260,
   "id": "0aedf27d",
   "metadata": {},
   "outputs": [
    {
     "name": "stdout",
     "output_type": "stream",
     "text": [
      "Categories of foods containing 'smoothie':\n",
      "(show food: Vegetable smoothie KALE BLAZER NAKED JUICE category: Drinks,Alcohol, Beverages)\n",
      "(show food: Fast foods strawberry banana smoothie made with ice and low-fat yogurt category: Drinks,Alcohol, Beverages)\n"
     ]
    }
   ],
   "source": [
    "keyword = 'smoothie'\n",
    "print(f\"Categories of foods containing '{keyword}':\")\n",
    "df = change_categories(df, keyword.lower(), \"Drinks,Alcohol, Beverages\", True, [])"
   ]
  },
  {
   "cell_type": "code",
   "execution_count": 261,
   "id": "91f793d8",
   "metadata": {},
   "outputs": [
    {
     "name": "stdout",
     "output_type": "stream",
     "text": [
      "Categories of foods containing 'beverage':\n",
      "(show food: Beverages powder Cocoa mix category: Drinks,Alcohol, Beverages)\n",
      "(show food: Beverages chocolate syrup category: Drinks,Alcohol, Beverages)\n",
      "(show food: Beverages unsweetened rice milk category: Drinks,Alcohol, Beverages)\n",
      "(show food: Beverages brewed hibiscus tea category: Drinks,Alcohol, Beverages)\n",
      "(show food: Alcoholic beverage rice (sake) category: Drinks,Alcohol, Beverages)\n",
      "(show food: Alcoholic beverage light beer category: Drinks,Alcohol, Beverages)\n",
      "(show food: Beverages brewed Oolong tea category: Drinks,Alcohol, Beverages)\n",
      "(show food: Beverages chamomile brewed herb tea category: Drinks,Alcohol, Beverages)\n",
      "(show food: Beverages regular brewed green tea category: Drinks,Alcohol, Beverages)\n",
      "(show food: Alcoholic beverage all regular beer category: Drinks,Alcohol, Beverages)\n",
      "(show food: Beverages ready to drink black tea category: Drinks,Alcohol, Beverages)\n",
      "(show food: Beverages diet lemon instant tea category: Drinks,Alcohol, Beverages)\n",
      "(show food: Beverages chicory instant coffee category: Drinks,Alcohol, Beverages)\n",
      "(show food: Alcoholic beverage hard lemonade malt beer category: Drinks,Alcohol, Beverages)\n",
      "(show food: Beverages powder no sugar added Cocoa mix category: Drinks,Alcohol, Beverages)\n",
      "(show food: Alcoholic beverage BUDWEISER regular beer category: Drinks,Alcohol, Beverages)\n",
      "(show food: Beverages sweetened mocha instant coffee category: Drinks,Alcohol, Beverages)\n",
      "(show food: Beverages decaffeinated brewed green tea category: Drinks,Alcohol, Beverages)\n",
      "(show food: Beverages powder unsweetened instant tea category: Drinks,Alcohol, Beverages)\n",
      "(show food: Beverages powder regular instant coffee category: Drinks,Alcohol, Beverages)\n",
      "(show food: Beverages diet ready-to-drink green tea category: Drinks,Alcohol, Beverages)\n",
      "(show food: Beverages diet lemon ready-to-drink tea category: Drinks,Alcohol, Beverages)\n",
      "(show food: Beverages unsweetened lemon instant tea category: Drinks,Alcohol, Beverages)\n",
      "(show food: Alcoholic beverage BUD LIGHT light beer category: Drinks,Alcohol, Beverages)\n",
      "(show food: Malt beverage includes non-alcoholic beer category: Drinks,Alcohol, Beverages)\n",
      "(show food: Beverages breakfast blend brewed coffee category: Drinks,Alcohol, Beverages)\n",
      "(show food: Alcoholic beverage low carb light beer category: Drinks,Alcohol, Beverages)\n",
      "(show food: Alcoholic beverages higher alcohol beer category: Drinks,Alcohol, Beverages)\n",
      "(show food: Beverages with chicory instant coffee category: Drinks,Alcohol, Beverages)\n",
      "(show food: Beverages sweetened ready-to-drink green tea category: Drinks,Alcohol, Beverages)\n",
      "(show food: Alcoholic beverage higher alcohol light beer category: Drinks,Alcohol, Beverages)\n",
      "(show food: Beverages White Cranberry Peach OCEAN SPRAY category: Drinks,Alcohol, Beverages)\n",
      "(show food: Beverages decaffeinated ready to drink black tea category: Drinks,Alcohol, Beverages)\n",
      "(show food: Beverages prepared with whole milk chocolate syrup category: Drinks,Alcohol, Beverages)\n",
      "(show food: Beverages diet lemon decaffeinated instant tea category: Drinks,Alcohol, Beverages)\n",
      "(show food: Beverages unsweetened decaffeinated instant tea category: Drinks,Alcohol, Beverages)\n",
      "(show food: Beverages diet lemon ready-to-drink black tea category: Drinks,Alcohol, Beverages)\n",
      "(show food: Beverages diet peach ready-to-drink black tea category: Drinks,Alcohol, Beverages)\n",
      "(show food: Beverages prepared with tap water brewed coffee category: Drinks,Alcohol, Beverages)\n",
      "(show food: Beverages unsweetened ready to drink green tea category: Drinks,Alcohol, Beverages)\n",
      "(show food: Beverages brewed other than chamomile herb tea category: Drinks,Alcohol, Beverages)\n",
      "(show food: Beverages powder decaffeinated instant coffee category: Drinks,Alcohol, Beverages)\n",
      "(show food: Beverages powder sweetened lemon instant tea category: Drinks,Alcohol, Beverages)\n",
      "(show food: Beverages prepared with water powder Cocoa mix category: Drinks,Alcohol, Beverages)\n",
      "(show food: Alcoholic beverage BUDWEISER SELECT light beer category: Drinks,Alcohol, Beverages)\n",
      "(show food: Beverages diet decaffeinated ready to drink black tea category: Drinks,Alcohol, Beverages)\n",
      "(show food: Beverages milk based mocha iced ready to drink coffee category: Drinks,Alcohol, Beverages)\n",
      "(show food: Beverages prepared with water unsweetened instant tea category: Drinks,Alcohol, Beverages)\n",
      "(show food: Alcoholic beverage 34 proof coffee with cream liqueur category: Drinks,Alcohol, Beverages)\n",
      "(show food: Beverages prepared with water regular instant coffee category: Drinks,Alcohol, Beverages)\n",
      "(show food: Beverages restaurant-prepared espresso brewed coffee category: Drinks,Alcohol, Beverages)\n",
      "(show food: Beverages sweetened lemon decaffeinated instant tea category: Drinks,Alcohol, Beverages)\n",
      "(show food: Beverages sweetened milk based ready to drink coffee category: Drinks,Alcohol, Beverages)\n",
      "(show food: Beverages with added ascorbic acid lemon instant tea category: Drinks,Alcohol, Beverages)\n",
      "(show food: Beverages sweetened lemon ready-to-drink black tea category: Drinks,Alcohol, Beverages)\n",
      "(show food: Beverages prepared with tap water brewed black tea category: Drinks,Alcohol, Beverages)\n",
      "(show food: Beverages half the caffeine regular instant coffee category: Drinks,Alcohol, Beverages)\n",
      "(show food: Beverages prepared with water decaffeinated instant coffee category: Drinks,Alcohol, Beverages)\n",
      "(show food: Beverages prepared with water sweetened lemon instant tea category: Drinks,Alcohol, Beverages)\n",
      "(show food: Beverages prepared with distilled water brewed black tea category: Drinks,Alcohol, Beverages)\n",
      "(show food: Beverages powder cereal grain beverage coffee substitute category: Drinks,Alcohol, Beverages)\n",
      "(show food: Beverages reduced calorie with whitener instant coffee category: Drinks,Alcohol, Beverages)\n",
      "(show food: Beverages decaffeinated restaurant-prepared espresso brewed coffee category: Drinks,Alcohol, Beverages)\n",
      "(show food: Beverages with added nutrients Mixed vegetable and fruit juice drink category: Drinks,Alcohol, Beverages)\n",
      "(show food: Beverages decaffeinated prepared with tap water brewed black tea category: Drinks,Alcohol, Beverages)\n",
      "(show food: Beverages sweetened ginseng and honey ready to drink green tea category: Drinks,Alcohol, Beverages)\n",
      "(show food: Beverages prepared with water powder with aspartame cocoa mix category: Drinks,Alcohol, Beverages)\n",
      "(show food: Beverages decaffeinated prepared with tap water brewed coffee category: Drinks,Alcohol, Beverages)\n",
      "(show food: Beverages E C with added vitamins A 100% juice vegetable and fruit juice blend category: Drinks,Alcohol, Beverages)\n",
      "(show food: Beverages powder lemon-flavored sweetened with sodium saccharin instant tea category: Drinks,Alcohol, Beverages)\n",
      "(show food: Beverages fortified with vitamin C diet citrus ready-to-drink green tea category: Drinks,Alcohol, Beverages)\n",
      "(show food: Beverages Hot Cocoa Mix Rich Chocolate With Marshmallows NESTLE Cocoa mix category: Drinks,Alcohol, Beverages)\n",
      "(show food: Beverages Energy Drink with carbonated water and high fructose corn syrup category: Drinks,Alcohol, Beverages)\n",
      "(show food: Beverages prepared with water cereal grain beverage coffee substitute category: Drinks,Alcohol, Beverages)\n",
      "(show food: Beverages sweetened milk based light vanilla ready to drink coffee category: Drinks,Alcohol, Beverages)\n",
      "(show food: Beverages with whitener and low calorie sweetener decaffeinated instant coffee and cocoa category: Drinks,Alcohol, Beverages)\n",
      "(show food: Beverages fortified with vitamin C unsweetened lemon decaffeinated instant green tea category: Drinks,Alcohol, Beverages)\n",
      "(show food: Beverages with non dairy creamer decaffeinated sweetened vanilla instant coffee category: Drinks,Alcohol, Beverages)\n",
      "(show food: Beverages prepared with whole milk powder cereal grain beverage coffee substitute category: Drinks,Alcohol, Beverages)\n",
      "(show food: Beverages without added sodium or vitamin A aspartame phosphorus with added calcium powder low calorie Cocoa mix category: Drinks,Alcohol, Beverages)\n",
      "(show food: Beverages added vitamin C with low-calorie sweetener reduced calorie Vegetable and fruit juice drink category: Drinks,Alcohol, Beverages)\n"
     ]
    }
   ],
   "source": [
    "keyword = 'beverage'\n",
    "print(f\"Categories of foods containing '{keyword}':\")\n",
    "df = change_categories(df, keyword.lower(), \"Drinks,Alcohol, Beverages\", True, [])"
   ]
  },
  {
   "cell_type": "code",
   "execution_count": 262,
   "id": "cdaf1ea4",
   "metadata": {},
   "outputs": [
    {
     "name": "stdout",
     "output_type": "stream",
     "text": [
      "Categories of foods containing 'cocktail':\n",
      "(show food: Vegetable juice cocktail canned category: Drinks,Alcohol, Beverages)\n",
      "(show food: Vegetable juice cocktail canned low sodium category: Drinks,Alcohol, Beverages)\n",
      "(show food: Fruit cocktail solids and liquids water pack canned (peach and pineapple and pear and grape and cherry) category: Drinks,Alcohol, Beverages)\n",
      "(show food: Fruit cocktail solids and liquids extra light syrup canned (peach and pineapple and pear and grape and cherry) category: Drinks,Alcohol, Beverages)\n",
      "(show food: Fruit cocktail solids and liquids extra heavy syrup canned (peach and pineapple and pear and grape and cherry) category: Drinks,Alcohol, Beverages)\n",
      "(show food: Fruit cocktail solids and liquids light syrup canned (peach and pineapple and pear and grape and cherry) category: Drinks,Alcohol, Beverages)\n",
      "(show food: Fruit cocktail solids and liquids heavy syrup canned (peach and pineapple and pear and grape and cherry) category: Drinks,Alcohol, Beverages)\n"
     ]
    }
   ],
   "source": [
    "keyword = 'cocktail'\n",
    "print(f\"Categories of foods containing '{keyword}':\")\n",
    "df = change_categories(df, keyword.lower(), \"Drinks,Alcohol, Beverages\", True, [])"
   ]
  },
  {
   "cell_type": "code",
   "execution_count": 263,
   "id": "4f5818f0",
   "metadata": {},
   "outputs": [
    {
     "name": "stdout",
     "output_type": "stream",
     "text": [
      "Categories of foods containing 'sweet':\n",
      "(show food: Sweet rolls cheese category: Desserts)\n",
      "(show food: Pineapple extra sweet variety raw category: Desserts)\n",
      "(show food: Pickles sweet with cauliflower onion mustard chowchow category: Desserts)\n",
      "(show food: Bread salvadoran sweet cheese (quesadilla salvadorena) category: Desserts)\n",
      "(show food: Margarine-like sweetened stick or tub vegetable oil spread category: Desserts)\n",
      "(show food: Pickles sweet (includes bread and butter pickles) cucumber category: Desserts)\n",
      "(show food: Water fruit flavored with corn syrup and/or sugar and low calorie sweetener category: Desserts)\n",
      "(show food: Pickles low sodium (includes bread and butter pickles) sweet cucumber category: Desserts)\n"
     ]
    }
   ],
   "source": [
    "keyword = 'sweet'\n",
    "print(f\"Categories of foods containing '{keyword}':\")\n",
    "df = change_categories(df, keyword.lower(), \"Desserts\", True, ['beverage', 'potato', 'juice', 'chicken'])"
   ]
  },
  {
   "cell_type": "code",
   "execution_count": 264,
   "id": "064de5cd",
   "metadata": {},
   "outputs": [
    {
     "name": "stdout",
     "output_type": "stream",
     "text": [
      "Categories of foods containing 'Ice Cream':\n",
      "(show food: Ice creams Butter Pecan No Sugar Added BREYERS category: Desserts)\n",
      "(show food: Ice cream added peanuts and chocolate sauce cone no sugar added lowfat category: Desserts)\n"
     ]
    }
   ],
   "source": [
    "keyword = 'Ice Cream'\n",
    "print(f\"Categories of foods containing '{keyword}':\")\n",
    "df = change_categories(df, keyword.lower(), \"Desserts\", True, [])"
   ]
  },
  {
   "cell_type": "code",
   "execution_count": 265,
   "id": "916b34b3",
   "metadata": {},
   "outputs": [
    {
     "name": "stdout",
     "output_type": "stream",
     "text": [
      "Categories of foods containing 'Cookies':\n",
      "(show food: Cookies reduced fat oatmeal category: Desserts)\n",
      "(show food: KEEBLER Iced Oatmeal Cookies category: Desserts)\n",
      "(show food: Cookies dry mix oatmeal category: Desserts)\n",
      "(show food: KEEBLER Oatmeal Cookies category: Desserts)\n",
      "(show food: ARCHWAY Home Style Cookies Oatmeal category: Desserts)\n",
      "(show food: MOTHER'S Iced Oatmeal Cookies category: Desserts)\n",
      "(show food: ARCHWAY Home Style Cookies Iced Oatmeal category: Desserts)\n",
      "(show food: ARCHWAY Home Style Cookies Dutch Cocoa category: Desserts)\n",
      "(show food: KASHI Oatmeal Raisin Flax Cookies TLC category: Desserts)\n",
      "(show food: MOTHER'S Old Fashioned Oatmeal Cookies category: Desserts)\n",
      "(show food: MOTHER'S Peanut Butter Gauchos Cookies category: Desserts)\n",
      "(show food: MOTHER'S English Tea Sandwich Cookies category: Desserts)\n",
      "(show food: Cookies refrigerated dough oatmeal category: Desserts)\n",
      "(show food: MURRAY Oatmeal Cookies SUGAR FREE category: Desserts)\n",
      "(show food: KASHI Oatmeal Dark Chocolate Cookies TLC category: Desserts)\n",
      "(show food: KEEBLER Butter Flavored Cookies E.L. FUDGE category: Desserts)\n",
      "(show food: Cookies prepared from recipe peanut butter category: Desserts)\n",
      "(show food: MOTHER'S Old Fashioned Iced Oatmeal Cookies category: Desserts)\n",
      "(show food: Cookies baked refrigerated dough oatmeal category: Desserts)\n",
      "(show food: MURRAY Butter Cookies COOKIE JAR CLASSICS category: Desserts)\n",
      "(show food: Cookies chocolate-coated graham crackers category: Desserts)\n",
      "(show food: ARCHWAY Home Style Cookies Oatmeal Raisin category: Desserts)\n",
      "(show food: MURRAY Old Fashioned Iced Oatmeal Cookies category: Desserts)\n",
      "(show food: Cookies refrigerated dough peanut butter category: Desserts)\n",
      "(show food: KEEBLER Iced Oatmeal Cookies TRADITIONS category: Desserts)\n",
      "(show food: MURRAY Oatmeal Cookies SOUTHERN KITCHEN category: Desserts)\n",
      "(show food: MURRAY Peanut Butter Cookies SUGAR FREE category: Desserts)\n",
      "(show food: Cookies made with rice cereal chocolate category: Desserts)\n",
      "(show food: ARCHWAY Home Style Cookies Peanut Butter category: Desserts)\n",
      "(show food: Cookies regular peanut butter sandwich category: Desserts)\n",
      "(show food: MURRAY Iced Oatmeal Cookies SOUTHERN KITCHEN category: Desserts)\n",
      "(show food: Cookies special dietary peanut butter sandwich category: Desserts)\n",
      "(show food: Cookies baked refrigerated dough peanut butter category: Desserts)\n",
      "(show food: Cookies regular commercially prepared oatmeal category: Desserts)\n",
      "(show food: Cookies enriched commercially prepared butter category: Desserts)\n",
      "(show food: Cookies lowfat plain or honey graham crackers category: Desserts)\n",
      "(show food: ARCHWAY Home Style Cookies Date Filled Oatmeal category: Desserts)\n",
      "(show food: ARCHWAY Home Style Cookies Sugar Free Oatmeal category: Desserts)\n",
      "(show food: Cookies with creme filling oatmeal sandwich category: Desserts)\n",
      "(show food: KEEBLER Oatmeal Chocolate Chip Cookies CHIPS DELUXE category: Desserts)\n",
      "(show food: Cookies with raisins prepared from recipe oatmeal category: Desserts)\n",
      "(show food: KEEBLER Country Style Oatmeal Cookies with Raisins category: Desserts)\n",
      "(show food: Cookies unenriched commercially prepared butter category: Desserts)\n",
      "(show food: Cookies soft-type commercially prepared oatmeal category: Desserts)\n",
      "(show food: KEEBLER Peanut Butter Cups Cookies CHIPS DELUXE category: Desserts)\n",
      "(show food: Cookies sugar free commercially prepared peanut butter category: Desserts)\n",
      "(show food: Cookies special dietary commercially prepared oatmeal category: Desserts)\n",
      "(show food: Cookies soft-type commercially prepared peanut butter category: Desserts)\n",
      "(show food: Cookies without raisins prepared from recipe oatmeal category: Desserts)\n",
      "(show food: Cookies regular commercially prepared peanut butter category: Desserts)\n",
      "(show food: Cookies animal crackers (includes arrowroot tea biscuits) category: Desserts)\n",
      "(show food: Cookies with rice cereal and chocolate chips marshmallow category: Desserts)\n"
     ]
    }
   ],
   "source": [
    "keyword = 'Cookies'\n",
    "print(f\"Categories of foods containing '{keyword}':\")\n",
    "df = change_categories(df, keyword.lower(), \"Desserts\", True, [])"
   ]
  },
  {
   "cell_type": "code",
   "execution_count": 266,
   "id": "d36d2357",
   "metadata": {},
   "outputs": [
    {
     "name": "stdout",
     "output_type": "stream",
     "text": [
      "Categories of foods containing 'Pudding':\n",
      "(show food: Puddings ready-to-eat rice category: Desserts)\n",
      "(show food: Corn pudding home prepared category: Desserts)\n",
      "(show food: Puddings dry mix rice category: Desserts)\n",
      "(show food: Puddings instant dry mix banana category: Desserts)\n",
      "(show food: Puddings regular dry mix banana category: Desserts)\n",
      "(show food: Babyfood strained banana pudding dessert category: Desserts)\n",
      "(show food: Puddings prepared with 2% milk dry mix rice category: Desserts)\n",
      "(show food: Babyfood junior vanilla custard pudding dessert category: Desserts)\n",
      "(show food: Puddings with added oil instant dry mix banana category: Desserts)\n",
      "(show food: Puddings with added oil regular dry mix banana category: Desserts)\n",
      "(show food: Puddings prepared with whole milk dry mix rice category: Desserts)\n",
      "(show food: Puddings prepared with 2% milk regular dry mix banana category: Desserts)\n",
      "(show food: Puddings prepared with 2% milk instant dry mix banana category: Desserts)\n",
      "(show food: Babyfood strained vanilla custard pudding dessert category: Desserts)\n",
      "(show food: Puddings prepared with whole milk instant dry mix banana category: Desserts)\n",
      "(show food: Puddings prepared with whole milk regular dry mix banana category: Desserts)\n"
     ]
    }
   ],
   "source": [
    "keyword = 'Pudding'\n",
    "print(f\"Categories of foods containing '{keyword}':\")\n",
    "df = change_categories(df, keyword.lower(), \"Desserts\", True, [])"
   ]
  },
  {
   "cell_type": "code",
   "execution_count": 267,
   "id": "21c99a24",
   "metadata": {},
   "outputs": [
    {
     "name": "stdout",
     "output_type": "stream",
     "text": [
      "Categories of foods containing 'Pie,':\n"
     ]
    }
   ],
   "source": [
    "keyword = 'Pie,'\n",
    "print(f\"Categories of foods containing '{keyword}':\")\n",
    "df = change_categories(df, keyword.lower(), \"Desserts\", True, ['turkey', 'beef', 'chicken'])"
   ]
  },
  {
   "cell_type": "code",
   "execution_count": 268,
   "id": "f2ca715a",
   "metadata": {},
   "outputs": [
    {
     "name": "stdout",
     "output_type": "stream",
     "text": [
      "Categories of foods containing 'Cand':\n",
      "(show food: Candied fruit category: Desserts)\n",
      "(show food: Candies sugar-coated almonds category: Desserts)\n",
      "(show food: Candies white chocolate category: Desserts)\n",
      "(show food: Candies milk chocolate coated raisins category: Desserts)\n",
      "(show food: Candies milk chocolate coated peanuts category: Desserts)\n",
      "(show food: Candies REESE'S Peanut Butter Cups category: Desserts)\n",
      "(show food: Candies milk chocolate coated coffee beans category: Desserts)\n",
      "(show food: Candies dark chocolate coated coffee beans category: Desserts)\n",
      "(show food: Candies with rice cereal milk chocolate category: Desserts)\n",
      "(show food: Candies crispy bar with peanut butter filling category: Desserts)\n",
      "(show food: Candies TWIX Peanut Butter Cookie Bars MARS SNACKFOOD US category: Desserts)\n",
      "(show food: Candies M&M's Peanut Butter Chocolate Candies MARS SNACKFOOD US category: Desserts)\n",
      "(show food: Candies milk chocolate peanut butter and soft nougats FAST BREAK REESE'S category: Desserts)\n"
     ]
    }
   ],
   "source": [
    "keyword = 'Cand'\n",
    "print(f\"Categories of foods containing '{keyword}':\")\n",
    "df = change_categories(df, keyword.lower(), \"Desserts\", True, [])"
   ]
  },
  {
   "cell_type": "code",
   "execution_count": 269,
   "id": "e4b5d8b2",
   "metadata": {},
   "outputs": [
    {
     "name": "stdout",
     "output_type": "stream",
     "text": [
      "Categories of foods containing 'Chocolate':\n",
      "(show food: Snacks chocolate chip crisped rice bar category: Desserts)\n",
      "(show food: Cocoa mix Rich Chocolate Hot Cocoa Mix NESTLE category: Desserts)\n",
      "(show food: Cookie chocolate-coated with peanut butter filling category: Desserts)\n",
      "(show food: Cookie with chocolate icing or filling butter or sugar category: Desserts)\n",
      "(show food: AUSTIN sandwich-type Chocolatey Peanut Butter Crackers category: Desserts)\n",
      "(show food: Snacks peanut butter and chocolate chip uncoated soft granola bars category: Desserts)\n"
     ]
    }
   ],
   "source": [
    "keyword = 'Chocolate'\n",
    "print(f\"Categories of foods containing '{keyword}':\")\n",
    "df = change_categories(df, keyword.lower(), \"Desserts\", True, ['beverages', 'cereals'])"
   ]
  },
  {
   "cell_type": "code",
   "execution_count": 270,
   "id": "bc74e618",
   "metadata": {},
   "outputs": [
    {
     "name": "stdout",
     "output_type": "stream",
     "text": [
      "Categories of foods containing 'Caramel':\n",
      "(show food: Flan dry mix caramel custard category: Desserts)\n",
      "(show food: Flan prepared with whole milk dry mix caramel custard category: Desserts)\n",
      "(show food: Flan prepared with 2% milk dry mix caramel custard category: Desserts)\n"
     ]
    }
   ],
   "source": [
    "keyword = 'Caramel'\n",
    "print(f\"Categories of foods containing '{keyword}':\")\n",
    "df = change_categories(df, keyword.lower(), \"Desserts\", True, ['beverages', 'cereals'])"
   ]
  },
  {
   "cell_type": "code",
   "execution_count": 271,
   "id": "dc34d40d",
   "metadata": {},
   "outputs": [
    {
     "name": "stdout",
     "output_type": "stream",
     "text": [
      "Categories of foods containing 'Marshmallows':\n",
      "(food: Cereals ready-to-eat KELLOGG'S APPLE JACKS with marshmallows category: Breads, cereals, fastfood,grains)\n",
      "(food: Cereals ready-to-eat frosted oat cereal with marshmallows category: Breads, cereals, fastfood,grains)\n",
      "(food: Beverages Hot Cocoa Mix Rich Chocolate With Marshmallows NESTLE Cocoa mix category: Drinks,Alcohol, Beverages)\n"
     ]
    }
   ],
   "source": [
    "keyword = 'Marshmallows'\n",
    "print(f\"Categories of foods containing '{keyword}':\")\n",
    "df = change_categories(df, keyword.lower(), \"Desserts\", False, ['beverages', 'cereals'])"
   ]
  },
  {
   "cell_type": "code",
   "execution_count": 272,
   "id": "6b6c4264",
   "metadata": {},
   "outputs": [
    {
     "name": "stdout",
     "output_type": "stream",
     "text": [
      "Categories of foods containing 'jam':\n",
      "(show food: Jams sweetened with fruit juice marmalades preserves category: Desserts)\n"
     ]
    }
   ],
   "source": [
    "keyword = 'jam'\n",
    "print(f\"Categories of foods containing '{keyword}':\")\n",
    "df = change_categories(df, keyword.lower(), \"Desserts\", True, ['beverages', 'cereals'])"
   ]
  },
  {
   "cell_type": "code",
   "execution_count": 273,
   "id": "9ec047d6",
   "metadata": {},
   "outputs": [
    {
     "name": "stdout",
     "output_type": "stream",
     "text": [
      "Categories of foods containing 'syrup':\n",
      "(show food: Syrups light corn category: Desserts)\n",
      "(show food: Syrups dark corn category: Desserts)\n",
      "(show food: Syrups high-fructose corn category: Desserts)\n"
     ]
    }
   ],
   "source": [
    "keyword = 'syrup'\n",
    "print(f\"Categories of foods containing '{keyword}':\")\n",
    "df = change_categories(df, keyword.lower(), \"Desserts\", True, ['beverages', 'potato', 'mcdonald\\'s', 'cocktail', 'salad'])"
   ]
  },
  {
   "cell_type": "code",
   "execution_count": 274,
   "id": "611a9655",
   "metadata": {},
   "outputs": [
    {
     "name": "stdout",
     "output_type": "stream",
     "text": [
      "Categories of foods containing 'dressing':\n",
      "(show food: Dressing fat-free honey mustard category: Fats Oils Shortenings)\n",
      "(show food: Salad dressing lite buttermilk category: Fats Oils Shortenings)\n",
      "(show food: Salad dressing bacon and tomato category: Fats Oils Shortenings)\n",
      "(show food: Salad dressing regular honey mustard category: Fats Oils Shortenings)\n",
      "(show food: Salad dressing low calorie blue or roquefort cheese category: Fats Oils Shortenings)\n",
      "(show food: Salad dressing light blue or roquefort cheese dressing category: Fats Oils Shortenings)\n",
      "(show food: Salad dressing reduced calorie honey mustard dressing category: Fats Oils Shortenings)\n",
      "(show food: Salad dressing fat-free blue or roquefort cheese dressing category: Fats Oils Shortenings)\n",
      "(show food: Salad dressing regular commercial blue or roquefort cheese dressing category: Fats Oils Shortenings)\n"
     ]
    }
   ],
   "source": [
    "keyword = 'dressing'\n",
    "print(f\"Categories of foods containing '{keyword}':\")\n",
    "df = change_categories(df, keyword.lower(), \"Fats Oils Shortenings\", True, [])"
   ]
  },
  {
   "cell_type": "code",
   "execution_count": 275,
   "id": "3fc88745",
   "metadata": {},
   "outputs": [
    {
     "name": "stderr",
     "output_type": "stream",
     "text": [
      "C:\\Users\\kyriaki.potamopoulou\\AppData\\Local\\Temp\\ipykernel_6188\\3467937748.py:2: SettingWithCopyWarning: \n",
      "A value is trying to be set on a copy of a slice from a DataFrame.\n",
      "Try using .loc[row_indexer,col_indexer] = value instead\n",
      "\n",
      "See the caveats in the documentation: https://pandas.pydata.org/pandas-docs/stable/user_guide/indexing.html#returning-a-view-versus-a-copy\n",
      "  filtered_df[\"Category\"] = \"Breads, cereals, fastfood,grains\"\n"
     ]
    }
   ],
   "source": [
    "filtered_df = df[df[\"Category\"] == \"Grains\"]\n",
    "filtered_df[\"Category\"] = \"Breads, cereals, fastfood,grains\"\n",
    "\n",
    "# Update the changes in the original DataFrame\n",
    "df.update(filtered_df)\n"
   ]
  },
  {
   "cell_type": "code",
   "execution_count": 276,
   "id": "694beba1",
   "metadata": {},
   "outputs": [
    {
     "name": "stdout",
     "output_type": "stream",
     "text": [
      "Categories of foods containing 'bread':\n",
      "(show food: Bread cheese category: Breads, cereals, fastfood,grains)\n",
      "(show food: Frybread made with lard (Apache) category: Breads, cereals, fastfood,grains)\n",
      "(show food: Frybread made with lard (Navajo) category: Breads, cereals, fastfood,grains)\n",
      "(show food: Bread somiviki (Hopi) blue corn category: Breads, cereals, fastfood,grains)\n",
      "(show food: PEPPERIDGE FARM Whole Grain Honey Whole Wheat Bread category: Breads, cereals, fastfood,grains)\n",
      "(show food: KELLOGG'S Gingerbread Toaster Pastries POP-TARTS category: Breads, cereals, fastfood,grains)\n",
      "(show food: Bread made with margarine prepared from recipe banana category: Breads, cereals, fastfood,grains)\n",
      "(show food: USDA Commodity heated frozen breaded salmon nuggets category: Breads, cereals, fastfood,grains)\n",
      "(show food: Bread enriched (includes corn muffin mix) dry mix cornbread category: Breads, cereals, fastfood,grains)\n",
      "(show food: Crustaceans breaded and fried cooked mixed species shrimp category: Breads, cereals, fastfood,grains)\n",
      "(show food: Bread unenriched (includes corn muffin mix) dry mix cornbread category: Breads, cereals, fastfood,grains)\n",
      "(show food: Bread and/or tapioca corn starch made with rice flour white gluten-free category: Breads, cereals, fastfood,grains)\n"
     ]
    }
   ],
   "source": [
    "keyword = 'bread'\n",
    "print(f\"Categories of foods containing '{keyword}':\")\n",
    "df = change_categories(df, keyword.lower(), \"Breads, cereals, fastfood,grains\", True, ['subway', 'kfc', 'raw', 'cake', 'turkey', 'chicken', 'cookies', 'sweet', 't.g.i.'])"
   ]
  },
  {
   "cell_type": "code",
   "execution_count": 277,
   "id": "873f0613",
   "metadata": {},
   "outputs": [
    {
     "name": "stdout",
     "output_type": "stream",
     "text": [
      "Categories of foods containing 'coffee':\n",
      "(food: Coffeecake cheese category: Desserts)\n",
      "(food: Candies milk chocolate coated coffee beans category: Desserts)\n",
      "(food: Candies dark chocolate coated coffee beans category: Desserts)\n",
      "(food: Oil used for whipped toppings and coffee whiteners coconut (hydrogenated) industrial category: Fats Oils Shortenings)\n"
     ]
    }
   ],
   "source": [
    "keyword = 'coffee'\n",
    "print(f\"Categories of foods containing '{keyword}':\")\n",
    "df = change_categories(df, keyword.lower(), \"Beverages\", False, [])"
   ]
  },
  {
   "cell_type": "code",
   "execution_count": 278,
   "id": "79afbb2b",
   "metadata": {},
   "outputs": [],
   "source": [
    "df.to_csv('final_food_csv.csv', index=False)"
   ]
  }
 ],
 "metadata": {
  "kernelspec": {
   "display_name": "Python 3",
   "language": "python",
   "name": "python3"
  },
  "language_info": {
   "codemirror_mode": {
    "name": "ipython",
    "version": 3
   },
   "file_extension": ".py",
   "mimetype": "text/x-python",
   "name": "python",
   "nbconvert_exporter": "python",
   "pygments_lexer": "ipython3",
   "version": "3.10.0"
  }
 },
 "nbformat": 4,
 "nbformat_minor": 5
}
